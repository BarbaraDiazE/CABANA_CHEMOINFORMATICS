{
 "cells": [
  {
   "cell_type": "code",
   "execution_count": 1,
   "metadata": {},
   "outputs": [],
   "source": [
    "\"\"\"Import Libraries\"\"\"\n",
    "import pandas as pd\n",
    "import numpy as np\n",
    "\n",
    "import bokeh\n",
    "import seaborn as sns\n",
    "from matplotlib import pyplot as plt"
   ]
  },
  {
   "cell_type": "code",
   "execution_count": 2,
   "metadata": {},
   "outputs": [
    {
     "data": {
      "text/html": [
       "<div>\n",
       "<style scoped>\n",
       "    .dataframe tbody tr th:only-of-type {\n",
       "        vertical-align: middle;\n",
       "    }\n",
       "\n",
       "    .dataframe tbody tr th {\n",
       "        vertical-align: top;\n",
       "    }\n",
       "\n",
       "    .dataframe thead th {\n",
       "        text-align: right;\n",
       "    }\n",
       "</style>\n",
       "<table border=\"1\" class=\"dataframe\">\n",
       "  <thead>\n",
       "    <tr style=\"text-align: right;\">\n",
       "      <th></th>\n",
       "      <th>Unnamed: 0</th>\n",
       "      <th>ID Database</th>\n",
       "      <th>Name</th>\n",
       "      <th>SMILES</th>\n",
       "      <th>HBA</th>\n",
       "      <th>HBD</th>\n",
       "      <th>RB</th>\n",
       "      <th>LogP</th>\n",
       "      <th>TPSA</th>\n",
       "      <th>MW</th>\n",
       "      <th>Heavy Atom</th>\n",
       "      <th>Ring Count</th>\n",
       "      <th>Fraction CSP3</th>\n",
       "      <th>subLibrary</th>\n",
       "      <th>Library</th>\n",
       "    </tr>\n",
       "  </thead>\n",
       "  <tbody>\n",
       "    <tr>\n",
       "      <th>0</th>\n",
       "      <td>0</td>\n",
       "      <td>AfroDb.564</td>\n",
       "      <td>NPR_00036</td>\n",
       "      <td>CCCCCCCCCCCCCCCCCCCCCCCCCCCCCCCCCCCCCCCCCCC(OC...</td>\n",
       "      <td>7</td>\n",
       "      <td>3</td>\n",
       "      <td>51</td>\n",
       "      <td>22.4139</td>\n",
       "      <td>105.45</td>\n",
       "      <td>1194.003</td>\n",
       "      <td>85</td>\n",
       "      <td>85</td>\n",
       "      <td>85</td>\n",
       "      <td>AFRODB</td>\n",
       "      <td>AFRODB</td>\n",
       "    </tr>\n",
       "    <tr>\n",
       "      <th>1</th>\n",
       "      <td>1</td>\n",
       "      <td>AfroDb.71</td>\n",
       "      <td>ABD_UD_004</td>\n",
       "      <td>C[C@H](CCC(O[C@H](C[C@@H]([C@@H]1CC2)[C@H]3[C@...</td>\n",
       "      <td>27</td>\n",
       "      <td>14</td>\n",
       "      <td>18</td>\n",
       "      <td>-3.5356</td>\n",
       "      <td>418.89</td>\n",
       "      <td>1195.309</td>\n",
       "      <td>83</td>\n",
       "      <td>83</td>\n",
       "      <td>83</td>\n",
       "      <td>AFRODB</td>\n",
       "      <td>AFRODB</td>\n",
       "    </tr>\n",
       "    <tr>\n",
       "      <th>2</th>\n",
       "      <td>2</td>\n",
       "      <td>AfroDb.70</td>\n",
       "      <td>ABD_UD_003</td>\n",
       "      <td>C[C@H](CC[C@@]([C@H]1C)(OC)O[C@H](C2)[C@H]1[C@...</td>\n",
       "      <td>26</td>\n",
       "      <td>14</td>\n",
       "      <td>17</td>\n",
       "      <td>-2.6588</td>\n",
       "      <td>393.98</td>\n",
       "      <td>1195.353</td>\n",
       "      <td>83</td>\n",
       "      <td>83</td>\n",
       "      <td>83</td>\n",
       "      <td>AFRODB</td>\n",
       "      <td>AFRODB</td>\n",
       "    </tr>\n",
       "    <tr>\n",
       "      <th>3</th>\n",
       "      <td>3</td>\n",
       "      <td>AfroDb.937</td>\n",
       "      <td>WA_0086</td>\n",
       "      <td>COc(cc(/C=C/C(OCCCCCCCCCCCCCCCCCCCCCCCCCCCCCCC...</td>\n",
       "      <td>11</td>\n",
       "      <td>3</td>\n",
       "      <td>61</td>\n",
       "      <td>16.9936</td>\n",
       "      <td>201.42</td>\n",
       "      <td>1117.597</td>\n",
       "      <td>79</td>\n",
       "      <td>79</td>\n",
       "      <td>79</td>\n",
       "      <td>AFRODB</td>\n",
       "      <td>AFRODB</td>\n",
       "    </tr>\n",
       "    <tr>\n",
       "      <th>4</th>\n",
       "      <td>4</td>\n",
       "      <td>AfroDb.936</td>\n",
       "      <td>WA_0085</td>\n",
       "      <td>COc(cc(/C=C/C(OCCCCCCCCCCCCCCCCCCCCCCCCCCCCCCC...</td>\n",
       "      <td>8</td>\n",
       "      <td>3</td>\n",
       "      <td>52</td>\n",
       "      <td>17.0180</td>\n",
       "      <td>122.52</td>\n",
       "      <td>943.489</td>\n",
       "      <td>67</td>\n",
       "      <td>67</td>\n",
       "      <td>67</td>\n",
       "      <td>AFRODB</td>\n",
       "      <td>AFRODB</td>\n",
       "    </tr>\n",
       "  </tbody>\n",
       "</table>\n",
       "</div>"
      ],
      "text/plain": [
       "   Unnamed: 0 ID Database        Name  \\\n",
       "0           0  AfroDb.564   NPR_00036   \n",
       "1           1   AfroDb.71  ABD_UD_004   \n",
       "2           2   AfroDb.70  ABD_UD_003   \n",
       "3           3  AfroDb.937     WA_0086   \n",
       "4           4  AfroDb.936     WA_0085   \n",
       "\n",
       "                                              SMILES  HBA  HBD  RB     LogP  \\\n",
       "0  CCCCCCCCCCCCCCCCCCCCCCCCCCCCCCCCCCCCCCCCCCC(OC...    7    3  51  22.4139   \n",
       "1  C[C@H](CCC(O[C@H](C[C@@H]([C@@H]1CC2)[C@H]3[C@...   27   14  18  -3.5356   \n",
       "2  C[C@H](CC[C@@]([C@H]1C)(OC)O[C@H](C2)[C@H]1[C@...   26   14  17  -2.6588   \n",
       "3  COc(cc(/C=C/C(OCCCCCCCCCCCCCCCCCCCCCCCCCCCCCCC...   11    3  61  16.9936   \n",
       "4  COc(cc(/C=C/C(OCCCCCCCCCCCCCCCCCCCCCCCCCCCCCCC...    8    3  52  17.0180   \n",
       "\n",
       "     TPSA        MW  Heavy Atom  Ring Count  Fraction CSP3 subLibrary Library  \n",
       "0  105.45  1194.003          85          85             85     AFRODB  AFRODB  \n",
       "1  418.89  1195.309          83          83             83     AFRODB  AFRODB  \n",
       "2  393.98  1195.353          83          83             83     AFRODB  AFRODB  \n",
       "3  201.42  1117.597          79          79             79     AFRODB  AFRODB  \n",
       "4  122.52   943.489          67          67             67     AFRODB  AFRODB  "
      ]
     },
     "execution_count": 2,
     "metadata": {},
     "output_type": "execute_result"
    }
   ],
   "source": [
    "\"\"\"Open Database\"\"\"\n",
    "Data = pd.read_csv(\"Data.csv\", sep = \",\")\n",
    "Data.head()"
   ]
  },
  {
   "cell_type": "code",
   "execution_count": 3,
   "metadata": {},
   "outputs": [
    {
     "data": {
      "text/plain": [
       "(21083, 15)"
      ]
     },
     "execution_count": 3,
     "metadata": {},
     "output_type": "execute_result"
    }
   ],
   "source": [
    "#Visualize elemts\n",
    "Data.shape"
   ]
  },
  {
   "cell_type": "code",
   "execution_count": 4,
   "metadata": {},
   "outputs": [
    {
     "data": {
      "text/plain": [
       "<matplotlib.axes._subplots.AxesSubplot at 0x7fa58b834198>"
      ]
     },
     "execution_count": 4,
     "metadata": {},
     "output_type": "execute_result"
    },
    {
     "data": {
      "image/png": "[encoded data removed]",
      "text/plain": [
       "<Figure size 432x288 with 1 Axes>"
      ]
     },
     "metadata": {
      "needs_background": "light"
     },
     "output_type": "display_data"
    }
   ],
   "source": [
    "\"\"\"Plot a Descriptor\"\"\"\n",
    "#Plot HBA\n",
    "sns.boxplot(x = \"Library\", y = Data[\"HBA\"], data=Data)"
   ]
  },
  {
   "cell_type": "code",
   "execution_count": 5,
   "metadata": {},
   "outputs": [
    {
     "data": {
      "text/plain": [
       "(21063, 15)"
      ]
     },
     "execution_count": 5,
     "metadata": {},
     "output_type": "execute_result"
    }
   ],
   "source": [
    "#Remove outliers Manually\n",
    "\n",
    "Data = Data[Data[\"HBA\"] <= 40]\n",
    "Data.shape"
   ]
  },
  {
   "cell_type": "code",
   "execution_count": 6,
   "metadata": {},
   "outputs": [
    {
     "data": {
      "text/plain": [
       "<matplotlib.axes._subplots.AxesSubplot at 0x7fa58b483b38>"
      ]
     },
     "execution_count": 6,
     "metadata": {},
     "output_type": "execute_result"
    },
    {
     "data": {
      "image/png": "[encoded data removed]",
      "text/plain": [
       "<Figure size 432x288 with 1 Axes>"
      ]
     },
     "metadata": {
      "needs_background": "light"
     },
     "output_type": "display_data"
    }
   ],
   "source": [
    "#Plot Again\n",
    "sns.boxplot(x = \"Library\", y = Data[\"HBA\"], data=Data)"
   ]
  },
  {
   "cell_type": "code",
   "execution_count": 8,
   "metadata": {},
   "outputs": [
    {
     "data": {
      "image/png": "[encoded data removed]",
      "text/plain": [
       "<Figure size 432x288 with 1 Axes>"
      ]
     },
     "metadata": {
      "needs_background": "light"
     },
     "output_type": "display_data"
    }
   ],
   "source": [
    "#Save image\n",
    "sns.boxplot(x = \"Library\", y = Data[\"HBA\"], data=Data)\n",
    "plt.savefig(\"boxplot_HBA.png\")"
   ]
  },
  {
   "cell_type": "code",
   "execution_count": null,
   "metadata": {},
   "outputs": [],
   "source": []
  }
 ],
 "metadata": {
  "kernelspec": {
   "display_name": "Python 3",
   "language": "python",
   "name": "python3"
  },
  "language_info": {
   "codemirror_mode": {
    "name": "ipython",
    "version": 3
   },
   "file_extension": ".py",
   "mimetype": "text/x-python",
   "name": "python",
   "nbconvert_exporter": "python",
   "pygments_lexer": "ipython3",
   "version": "3.7.3"
  }
 },
 "nbformat": 4,
 "nbformat_minor": 2
}
