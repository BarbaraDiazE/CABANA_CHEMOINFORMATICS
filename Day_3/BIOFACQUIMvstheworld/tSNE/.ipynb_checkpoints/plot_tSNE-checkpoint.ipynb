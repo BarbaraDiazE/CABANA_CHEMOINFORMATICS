{
 "cells": [
  {
   "cell_type": "markdown",
   "metadata": {},
   "source": [
    "Visualize chemical Space of Biofacquim and other libraries."
   ]
  },
  {
   "cell_type": "code",
   "execution_count": 1,
   "metadata": {},
   "outputs": [],
   "source": [
    "\"\"\"Import Libraries\"\"\"\n",
    "import pandas as pd\n",
    "import numpy as np\n",
    "\n",
    "from bokeh.io import  show, output_file\n",
    "from bokeh.models import ColumnDataSource, LassoSelectTool, ZoomInTool, ZoomOutTool, SaveTool, HoverTool,PanTool, Legend\n",
    "from bokeh.plotting import figure\n",
    "from bokeh.core.enums import LegendLocation"
   ]
  },
  {
   "cell_type": "code",
   "execution_count": 2,
   "metadata": {},
   "outputs": [
    {
     "data": {
      "text/html": [
       "<div>\n",
       "<style scoped>\n",
       "    .dataframe tbody tr th:only-of-type {\n",
       "        vertical-align: middle;\n",
       "    }\n",
       "\n",
       "    .dataframe tbody tr th {\n",
       "        vertical-align: top;\n",
       "    }\n",
       "\n",
       "    .dataframe thead th {\n",
       "        text-align: right;\n",
       "    }\n",
       "</style>\n",
       "<table border=\"1\" class=\"dataframe\">\n",
       "  <thead>\n",
       "    <tr style=\"text-align: right;\">\n",
       "      <th></th>\n",
       "      <th>Unnamed: 0</th>\n",
       "      <th>PC 1</th>\n",
       "      <th>PC 2</th>\n",
       "      <th>Library</th>\n",
       "      <th>SMILES</th>\n",
       "      <th>Name</th>\n",
       "    </tr>\n",
       "  </thead>\n",
       "  <tbody>\n",
       "    <tr>\n",
       "      <th>0</th>\n",
       "      <td>0</td>\n",
       "      <td>-47.938420</td>\n",
       "      <td>40.677586</td>\n",
       "      <td>Epidatabase</td>\n",
       "      <td>ONC(c(cc1)ccc1N[C@@H](CCN1c(cc2)cc(Cl)c2Cl)C1=...</td>\n",
       "      <td>SBSM341754</td>\n",
       "    </tr>\n",
       "    <tr>\n",
       "      <th>1</th>\n",
       "      <td>1</td>\n",
       "      <td>-19.640524</td>\n",
       "      <td>24.254223</td>\n",
       "      <td>Epidatabase</td>\n",
       "      <td>ONC(CCCCCNC(C=C1c(cccc2)c2-c2c1cccc2)=O)=O</td>\n",
       "      <td>SBSM462973</td>\n",
       "    </tr>\n",
       "    <tr>\n",
       "      <th>2</th>\n",
       "      <td>2</td>\n",
       "      <td>-15.006295</td>\n",
       "      <td>51.330250</td>\n",
       "      <td>Epidatabase</td>\n",
       "      <td>ONC(/C=C/c1cccc2ccccc12)=O</td>\n",
       "      <td>SBSM267041</td>\n",
       "    </tr>\n",
       "    <tr>\n",
       "      <th>3</th>\n",
       "      <td>3</td>\n",
       "      <td>-54.159760</td>\n",
       "      <td>32.496826</td>\n",
       "      <td>Epidatabase</td>\n",
       "      <td>ONC(c1cn(CCN(C2)C(c(cc3)ccc3-c3ccccc3)=O)c2n1)=O</td>\n",
       "      <td>SBSM330733</td>\n",
       "    </tr>\n",
       "    <tr>\n",
       "      <th>4</th>\n",
       "      <td>4</td>\n",
       "      <td>26.841022</td>\n",
       "      <td>-9.170390</td>\n",
       "      <td>Epidatabase</td>\n",
       "      <td>Clc(cc1)cnc1N/N=C(\\c1ccccc1)/c1ncccc1</td>\n",
       "      <td>SBSM195263</td>\n",
       "    </tr>\n",
       "  </tbody>\n",
       "</table>\n",
       "</div>"
      ],
      "text/plain": [
       "   Unnamed: 0       PC 1       PC 2      Library  \\\n",
       "0           0 -47.938420  40.677586  Epidatabase   \n",
       "1           1 -19.640524  24.254223  Epidatabase   \n",
       "2           2 -15.006295  51.330250  Epidatabase   \n",
       "3           3 -54.159760  32.496826  Epidatabase   \n",
       "4           4  26.841022  -9.170390  Epidatabase   \n",
       "\n",
       "                                              SMILES        Name  \n",
       "0  ONC(c(cc1)ccc1N[C@@H](CCN1c(cc2)cc(Cl)c2Cl)C1=...  SBSM341754  \n",
       "1         ONC(CCCCCNC(C=C1c(cccc2)c2-c2c1cccc2)=O)=O  SBSM462973  \n",
       "2                         ONC(/C=C/c1cccc2ccccc12)=O  SBSM267041  \n",
       "3   ONC(c1cn(CCN(C2)C(c(cc3)ccc3-c3ccccc3)=O)c2n1)=O  SBSM330733  \n",
       "4              Clc(cc1)cnc1N/N=C(\\c1ccccc1)/c1ncccc1  SBSM195263  "
      ]
     },
     "execution_count": 2,
     "metadata": {},
     "output_type": "execute_result"
    }
   ],
   "source": [
    "\"\"\"Open tSNE results\"\"\"\n",
    "Data = pd.read_csv(\"Results_tSNE.csv\", sep = \",\")\n",
    "Data.head()"
   ]
  },
  {
   "cell_type": "code",
   "execution_count": 3,
   "metadata": {},
   "outputs": [
    {
     "data": {
      "text/plain": [
       "array(['Epidatabase', 'FDA', 'PPI', 'AFRODB', 'BIOFACQUIM'], dtype=object)"
      ]
     },
     "execution_count": 3,
     "metadata": {},
     "output_type": "execute_result"
    }
   ],
   "source": [
    "#visualize Libraries names\n",
    "Data.Library.unique()"
   ]
  },
  {
   "cell_type": "code",
   "execution_count": 4,
   "metadata": {},
   "outputs": [],
   "source": [
    "#We need separate the Data by library.\n",
    "def column_source( pca_result, L):\n",
    "    data = pca_result[pca_result[\"Library\"] == L]\n",
    "    X = data[\"PC 1\"].to_list()\n",
    "    Y = data[\"PC 2\"].to_list()\n",
    "    N = data[\"Name\"].to_list()\n",
    "    return ColumnDataSource(dict(x = X, y = Y, N = N))"
   ]
  },
  {
   "cell_type": "code",
   "execution_count": 5,
   "metadata": {},
   "outputs": [],
   "source": [
    "#Assign sources\n",
    "source1=column_source(Data, 'AFRODB')\n",
    "source2=column_source(Data, 'Epidatabase')\n",
    "source3=column_source(Data, 'BIOFACQUIM')\n",
    "source4=column_source(Data, 'FDA')\n",
    "source5=column_source(Data, 'PPI')"
   ]
  },
  {
   "cell_type": "code",
   "execution_count": 6,
   "metadata": {},
   "outputs": [],
   "source": [
    "#Set the plot features\n",
    "hover = HoverTool(tooltips = [          (\"PCA1\",\"($x)\"),\n",
    "                                        (\"PCA2\",\"($y)\"),\n",
    "                                        (\"NAME\",\"(@N)\"),\n",
    "                                        ])\n",
    "p = figure(title = \"Chemical Space by tSNE\",\n",
    "        x_axis_label = \"PC 1 \" + \" \", y_axis_label=\"PC 2 \" + \" \",\n",
    "        x_range = (-7,7), y_range = (-7,7), tools = [hover], plot_width = 1000, plot_height = 800)\n",
    "#plot libraries\n",
    "AFRO_plot = p.circle(x = \"x\", y = \"y\", source = source1, color = \"gold\", size = 5)\n",
    "EPI_plot = p.circle(x = \"x\", y = \"y\", source = source2, color = \"tomato\", size = 5)\n",
    "PPI_plot = p.circle(x = \"x\", y = \"y\", source = source5, color =\"blueviolet\", size = 5)\n",
    "FDA_plot = p.circle(x = \"x\", y = \"y\", source = source4, color = \"teal\", size = 5)\n",
    "BIOFACQUIM_plot = p.circle(x = \"x\", y = \"y\", source = source3, color =\"yellowgreen\", size = 5)\n",
    "p.add_tools(LassoSelectTool(), ZoomInTool(), ZoomOutTool(), SaveTool(), PanTool())\n",
    "#configure legend\n",
    "legend = Legend(items=[    \n",
    "            (\"AFRODB\",     [AFRO_plot]),\n",
    "            (\"EPIDATABASE\",     [EPI_plot]),\n",
    "            (\"BIOFACQUIM\",   [BIOFACQUIM_plot]),\n",
    "            (\"FDA\",      [FDA_plot]),\n",
    "            (\"PPI\", [PPI_plot])\n",
    "            ], \n",
    "        location = \"center\", orientation = \"vertical\", click_policy = \"hide\")\n",
    "p.add_layout(legend, place = 'right')\n",
    "p.xaxis.axis_label_text_font_size = \"20pt\"\n",
    "p.yaxis.axis_label_text_font_size = \"20pt\"\n",
    "p.xaxis.axis_label_text_color = \"black\"\n",
    "p.yaxis.axis_label_text_color = \"black\"\n",
    "p.xaxis.major_label_text_font_size = \"18pt\"\n",
    "p.yaxis.major_label_text_font_size = \"18pt\"\n",
    "p.title.text_font_size = \"22pt\""
   ]
  },
  {
   "cell_type": "code",
   "execution_count": 7,
   "metadata": {},
   "outputs": [],
   "source": [
    "show(p)"
   ]
  },
  {
   "cell_type": "code",
   "execution_count": null,
   "metadata": {},
   "outputs": [],
   "source": []
  }
 ],
 "metadata": {
  "kernelspec": {
   "display_name": "Python 3",
   "language": "python",
   "name": "python3"
  },
  "language_info": {
   "codemirror_mode": {
    "name": "ipython",
    "version": 3
   },
   "file_extension": ".py",
   "mimetype": "text/x-python",
   "name": "python",
   "nbconvert_exporter": "python",
   "pygments_lexer": "ipython3",
   "version": "3.7.3"
  }
 },
 "nbformat": 4,
 "nbformat_minor": 2
}
