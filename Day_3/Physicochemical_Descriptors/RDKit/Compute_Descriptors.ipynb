{
 "cells": [
  {
   "cell_type": "markdown",
   "metadata": {
    "slideshow": {
     "slide_type": "slide"
    }
   },
   "source": [
    "## Compute lipinsky descriptors for a Database"
   ]
  },
  {
   "cell_type": "markdown",
   "metadata": {},
   "source": [
    "# Import libraries"
   ]
  },
  {
   "cell_type": "code",
   "execution_count": null,
   "metadata": {},
   "outputs": [],
   "source": [
    "import pandas as pd\n",
    "import numpy as  np\n",
    "\n",
    "from rdkit import Chem\n",
    "from rdkit import Chem\n",
    "from rdkit.Chem.Draw import IPythonConsole\n",
    "from rdkit.Chem import Draw, Descriptors"
   ]
  },
  {
   "cell_type": "markdown",
   "metadata": {},
   "source": [
    "# RDKit\n",
    "\n",
    "Cheminformatics toolkits (software development kits) that allow  develop custom computer applications. (Compute Descriptors, FP, visualize chemical structures)\n",
    "\n",
    "Documentation:http://rdkit.org/docs/index.html\n",
    "\n",
    "Jupyter Notebooks: https://github.com/rdkit/rdkit-tutorials"
   ]
  },
  {
   "cell_type": "markdown",
   "metadata": {},
   "source": [
    "# Open Database"
   ]
  },
  {
   "cell_type": "code",
   "execution_count": null,
   "metadata": {},
   "outputs": [],
   "source": [
    "Data = pd.read_csv(\"Database_CABANA.csv\", sep = \",\")\n",
    "#Data.head()"
   ]
  },
  {
   "cell_type": "code",
   "execution_count": null,
   "metadata": {},
   "outputs": [],
   "source": [
    "#Count elements\n",
    "#Data.shape[0]"
   ]
  },
  {
   "cell_type": "code",
   "execution_count": null,
   "metadata": {},
   "outputs": [],
   "source": [
    "#Identify features\n",
    "list(Data.columns)"
   ]
  },
  {
   "cell_type": "markdown",
   "metadata": {},
   "source": [
    "# Compute descriptors"
   ]
  },
  {
   "cell_type": "code",
   "execution_count": null,
   "metadata": {},
   "outputs": [],
   "source": [
    "\"\"\"Select SMILES\"\"\"\n",
    "smiles = list(Data[\"SMILES\"])\n",
    "#smiles[0]"
   ]
  },
  {
   "cell_type": "code",
   "execution_count": null,
   "metadata": {},
   "outputs": [],
   "source": [
    "\"\"\"Convert SMILES TO RDKit Format\"\"\"\n",
    "#create an empty list to storage results\n",
    "sm = list()\n",
    "\n",
    "for i in smiles:\n",
    "    sm.append(Chem.MolFromSmiles(i)) "
   ]
  },
  {
   "cell_type": "code",
   "execution_count": null,
   "metadata": {},
   "outputs": [],
   "source": [
    "#create an empty list to storage results\n",
    "HBA = list()\n",
    "HBD = list()\n",
    "RB = list()\n",
    "LogP = list()\n",
    "TPSA = list()\n",
    "MW = list()\n",
    "HeavyAtom = list()\n",
    "RingCount = list()\n",
    "FractionCSP3 = list()"
   ]
  },
  {
   "cell_type": "code",
   "execution_count": null,
   "metadata": {},
   "outputs": [],
   "source": [
    "#compute descriptors for each smile in sm\n",
    "for i in sm:\n",
    "    HBA.append(Descriptors.NumHAcceptors(i))\n",
    "    HBD.append(Descriptors.NumHDonors(i))\n",
    "    RB.append(Descriptors.NumRotatableBonds(i))\n",
    "    LogP.append(Descriptors.MolLogP(i))\n",
    "    TPSA.append(Descriptors.TPSA(i))\n",
    "    MW.append(Descriptors.MolWt(i))\n",
    "print(\"calcule descriptores\")"
   ]
  },
  {
   "cell_type": "code",
   "execution_count": null,
   "metadata": {},
   "outputs": [],
   "source": [
    "#explore list elements\n",
    "HBA[0:5]"
   ]
  },
  {
   "cell_type": "code",
   "execution_count": null,
   "metadata": {},
   "outputs": [],
   "source": [
    "#storage in a DataFrame\n",
    "columns = [\"SMILES\", \"HBA\", \"HBD\", \"RB\", \"LogP\", \"TPSA\", \"MW\"]\n",
    "data = [smiles, HBA, HBD, RB, LogP, TPSA, MW]\n",
    "data = np.transpose(data, axes=None)\n",
    "Database = pd.DataFrame(\n",
    "            data = data,\n",
    "            columns = columns)\n",
    "print(Database.head())"
   ]
  },
  {
   "cell_type": "code",
   "execution_count": null,
   "metadata": {},
   "outputs": [],
   "source": [
    "\"\"\"Merge Results\"\"\"\n",
    "#Merge Database results with Name and Library (From input file)\n",
    "Database[\"Name\"] = Data[\"Name\"]\n",
    "Database[\"Library\"] = Data[\"Library\"]\n",
    "Database.head()"
   ]
  },
  {
   "cell_type": "markdown",
   "metadata": {},
   "source": [
    "# Save Results "
   ]
  },
  {
   "cell_type": "code",
   "execution_count": null,
   "metadata": {},
   "outputs": [],
   "source": [
    "\"\"\"Save Results as .csv File\"\"\"\n",
    "Database.to_csv(\"Database_descriptors.csv\", sep = \",\")"
   ]
  },
  {
   "cell_type": "code",
   "execution_count": null,
   "metadata": {},
   "outputs": [],
   "source": [
    "#verify resutlt\n",
    "d = pd.read_csv(\"Database_descriptors.csv\")\n",
    "d.head()"
   ]
  },
  {
   "cell_type": "code",
   "execution_count": null,
   "metadata": {},
   "outputs": [],
   "source": []
  }
 ],
 "metadata": {
  "celltoolbar": "Raw Cell Format",
  "kernelspec": {
   "display_name": "Python 3",
   "language": "python",
   "name": "python3"
  },
  "language_info": {
   "codemirror_mode": {
    "name": "ipython",
    "version": 3
   },
   "file_extension": ".py",
   "mimetype": "text/x-python",
   "name": "python",
   "nbconvert_exporter": "python",
   "pygments_lexer": "ipython3",
   "version": "3.7.3"
  },
  "toc": {
   "base_numbering": 1,
   "nav_menu": {},
   "number_sections": true,
   "sideBar": true,
   "skip_h1_title": false,
   "title_cell": "Table of Contents",
   "title_sidebar": "Contents",
   "toc_cell": false,
   "toc_position": {},
   "toc_section_display": true,
   "toc_window_display": false
  }
 },
 "nbformat": 4,
 "nbformat_minor": 2
}
