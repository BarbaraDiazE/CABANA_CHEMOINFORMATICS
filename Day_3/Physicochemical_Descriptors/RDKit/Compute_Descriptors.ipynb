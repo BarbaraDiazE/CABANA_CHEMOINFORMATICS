{
 "cells": [
  {
   "cell_type": "markdown",
   "metadata": {
    "slideshow": {
     "slide_type": "slide"
    }
   },
   "source": [
    "## Compute lipinsky descriptors for a Database"
   ]
  },
  {
   "cell_type": "markdown",
   "metadata": {},
   "source": [
    "# Import libraries"
   ]
  },
  {
   "cell_type": "code",
   "execution_count": 1,
   "metadata": {},
   "outputs": [],
   "source": [
    "import pandas as pd\n",
    "import numpy as  np\n",
    "\n",
    "from rdkit import Chem\n",
    "from rdkit import Chem\n",
    "from rdkit.Chem.Draw import IPythonConsole\n",
    "from rdkit.Chem import Draw, Descriptors"
   ]
  },
  {
   "cell_type": "markdown",
   "metadata": {},
   "source": [
    "# RDKit\n",
    "\n",
    "Cheminformatics toolkits (software development kits) that allow  develop custom computer applications. (Compute Descriptors, FP, visualize chemical structures)\n",
    "\n",
    "Documentation:http://rdkit.org/docs/index.html\n",
    "\n",
    "Jupyter Notebooks: https://github.com/rdkit/rdkit-tutorials"
   ]
  },
  {
   "cell_type": "markdown",
   "metadata": {},
   "source": [
    "# Open Database"
   ]
  },
  {
   "cell_type": "code",
   "execution_count": 2,
   "metadata": {},
   "outputs": [],
   "source": [
    "Data = pd.read_csv(\"Database_CABANA.csv\", sep = \",\")\n",
    "#Data.head()"
   ]
  },
  {
   "cell_type": "code",
   "execution_count": 3,
   "metadata": {},
   "outputs": [],
   "source": [
    "#Count elements\n",
    "#Data.shape[0]"
   ]
  },
  {
   "cell_type": "code",
   "execution_count": 4,
   "metadata": {},
   "outputs": [
    {
     "data": {
      "text/plain": [
       "['Unnamed: 0', 'Name', 'SMILES', 'Library']"
      ]
     },
     "execution_count": 4,
     "metadata": {},
     "output_type": "execute_result"
    }
   ],
   "source": [
    "#Identify features\n",
    "list(Data.columns)"
   ]
  },
  {
   "cell_type": "markdown",
   "metadata": {},
   "source": [
    "# Compute descriptors"
   ]
  },
  {
   "cell_type": "code",
   "execution_count": 5,
   "metadata": {},
   "outputs": [],
   "source": [
    "\"\"\"Select SMILES\"\"\"\n",
    "smiles = list(Data[\"SMILES\"])\n",
    "#smiles[0]"
   ]
  },
  {
   "cell_type": "code",
   "execution_count": 6,
   "metadata": {},
   "outputs": [],
   "source": [
    "\"\"\"Convert SMILES TO RDKit Format\"\"\"\n",
    "#create an empty list to storage results\n",
    "sm = list()\n",
    "\n",
    "for i in smiles:\n",
    "    sm.append(Chem.MolFromSmiles(i)) "
   ]
  },
  {
   "cell_type": "code",
   "execution_count": 7,
   "metadata": {},
   "outputs": [],
   "source": [
    "#create an empty list to storage results\n",
    "HBA = list()\n",
    "HBD = list()\n",
    "RB = list()\n",
    "LogP = list()\n",
    "TPSA = list()\n",
    "MW = list()\n",
    "HeavyAtom = list()\n",
    "RingCount = list()\n",
    "FractionCSP3 = list()"
   ]
  },
  {
   "cell_type": "code",
   "execution_count": 8,
   "metadata": {},
   "outputs": [
    {
     "name": "stdout",
     "output_type": "stream",
     "text": [
      "calcule descriptores\n"
     ]
    }
   ],
   "source": [
    "#compute descriptors for each smile in sm\n",
    "for i in sm:\n",
    "    HBA.append(Descriptors.NumHAcceptors(i))\n",
    "    HBD.append(Descriptors.NumHDonors(i))\n",
    "    RB.append(Descriptors.NumRotatableBonds(i))\n",
    "    LogP.append(Descriptors.MolLogP(i))\n",
    "    TPSA.append(Descriptors.TPSA(i))\n",
    "    MW.append(Descriptors.MolWt(i))\n",
    "print(\"calcule descriptores\")"
   ]
  },
  {
   "cell_type": "code",
   "execution_count": 9,
   "metadata": {},
   "outputs": [
    {
     "data": {
      "text/plain": [
       "[3, 10, 6, 2, 9]"
      ]
     },
     "execution_count": 9,
     "metadata": {},
     "output_type": "execute_result"
    }
   ],
   "source": [
    "#explore list elements\n",
    "HBA[0:5]"
   ]
  },
  {
   "cell_type": "code",
   "execution_count": 10,
   "metadata": {},
   "outputs": [
    {
     "name": "stdout",
     "output_type": "stream",
     "text": [
      "                                              SMILES HBA HBD  RB  \\\n",
      "0                     CC(=O)Nc1cc(ccc1O)[As](=O)(O)O   3   4   2   \n",
      "1  CC[P]([Au]SC1OC(COC(=O)C)C(C(C1OC(=O)C)OC(=O)C...  10   0  11   \n",
      "2     CC(CC(B(O)O)NC(=O)C(NC(=O)c1cnccn1)Cc1ccccc1)C   6   4   9   \n",
      "3                               COC(C[Hg]Cl)CNC(=O)N   2   2   5   \n",
      "4   O=C(c1ccccn1)O[Cr](OC(=O)c1ccccn1)OC(=O)c1ccccn1   9   0   6   \n",
      "\n",
      "                  LogP                TPSA                  MW  \n",
      "0  -1.0884000000000005  106.86000000000001             275.092  \n",
      "1   2.7925000000000004              114.43   678.4910000000001  \n",
      "2   0.3606000000000009              124.44   384.2450000000001  \n",
      "3   0.3243000000000002               64.35  367.19800000000015  \n",
      "4               2.1056  117.57000000000001   418.3050000000001  \n"
     ]
    }
   ],
   "source": [
    "#storage in a DataFrame\n",
    "columns = [\"SMILES\", \"HBA\", \"HBD\", \"RB\", \"LogP\", \"TPSA\", \"MW\"]\n",
    "data = [smiles, HBA, HBD, RB, LogP, TPSA, MW]\n",
    "data = np.transpose(data, axes=None)\n",
    "Database = pd.DataFrame(\n",
    "            data = data,\n",
    "            columns = columns)\n",
    "print(Database.head())"
   ]
  },
  {
   "cell_type": "code",
   "execution_count": 11,
   "metadata": {},
   "outputs": [
    {
     "data": {
      "text/html": [
       "<div>\n",
       "<style scoped>\n",
       "    .dataframe tbody tr th:only-of-type {\n",
       "        vertical-align: middle;\n",
       "    }\n",
       "\n",
       "    .dataframe tbody tr th {\n",
       "        vertical-align: top;\n",
       "    }\n",
       "\n",
       "    .dataframe thead th {\n",
       "        text-align: right;\n",
       "    }\n",
       "</style>\n",
       "<table border=\"1\" class=\"dataframe\">\n",
       "  <thead>\n",
       "    <tr style=\"text-align: right;\">\n",
       "      <th></th>\n",
       "      <th>SMILES</th>\n",
       "      <th>HBA</th>\n",
       "      <th>HBD</th>\n",
       "      <th>RB</th>\n",
       "      <th>LogP</th>\n",
       "      <th>TPSA</th>\n",
       "      <th>MW</th>\n",
       "      <th>Name</th>\n",
       "      <th>Library</th>\n",
       "    </tr>\n",
       "  </thead>\n",
       "  <tbody>\n",
       "    <tr>\n",
       "      <th>0</th>\n",
       "      <td>CC(=O)Nc1cc(ccc1O)[As](=O)(O)O</td>\n",
       "      <td>3</td>\n",
       "      <td>4</td>\n",
       "      <td>2</td>\n",
       "      <td>-1.0884000000000005</td>\n",
       "      <td>106.86000000000001</td>\n",
       "      <td>275.092</td>\n",
       "      <td>Acetarsol</td>\n",
       "      <td>FDA</td>\n",
       "    </tr>\n",
       "    <tr>\n",
       "      <th>1</th>\n",
       "      <td>CC[P]([Au]SC1OC(COC(=O)C)C(C(C1OC(=O)C)OC(=O)C...</td>\n",
       "      <td>10</td>\n",
       "      <td>0</td>\n",
       "      <td>11</td>\n",
       "      <td>2.7925000000000004</td>\n",
       "      <td>114.43</td>\n",
       "      <td>678.4910000000001</td>\n",
       "      <td>Auranofin</td>\n",
       "      <td>FDA</td>\n",
       "    </tr>\n",
       "    <tr>\n",
       "      <th>2</th>\n",
       "      <td>CC(CC(B(O)O)NC(=O)C(NC(=O)c1cnccn1)Cc1ccccc1)C</td>\n",
       "      <td>6</td>\n",
       "      <td>4</td>\n",
       "      <td>9</td>\n",
       "      <td>0.3606000000000009</td>\n",
       "      <td>124.44</td>\n",
       "      <td>384.2450000000001</td>\n",
       "      <td>Bortezomib</td>\n",
       "      <td>FDA</td>\n",
       "    </tr>\n",
       "    <tr>\n",
       "      <th>3</th>\n",
       "      <td>COC(C[Hg]Cl)CNC(=O)N</td>\n",
       "      <td>2</td>\n",
       "      <td>2</td>\n",
       "      <td>5</td>\n",
       "      <td>0.3243000000000002</td>\n",
       "      <td>64.35</td>\n",
       "      <td>367.19800000000015</td>\n",
       "      <td>Chlormerodrin</td>\n",
       "      <td>FDA</td>\n",
       "    </tr>\n",
       "    <tr>\n",
       "      <th>4</th>\n",
       "      <td>O=C(c1ccccn1)O[Cr](OC(=O)c1ccccn1)OC(=O)c1ccccn1</td>\n",
       "      <td>9</td>\n",
       "      <td>0</td>\n",
       "      <td>6</td>\n",
       "      <td>2.1056</td>\n",
       "      <td>117.57000000000001</td>\n",
       "      <td>418.3050000000001</td>\n",
       "      <td>Chromium picolinate</td>\n",
       "      <td>FDA</td>\n",
       "    </tr>\n",
       "  </tbody>\n",
       "</table>\n",
       "</div>"
      ],
      "text/plain": [
       "                                              SMILES HBA HBD  RB  \\\n",
       "0                     CC(=O)Nc1cc(ccc1O)[As](=O)(O)O   3   4   2   \n",
       "1  CC[P]([Au]SC1OC(COC(=O)C)C(C(C1OC(=O)C)OC(=O)C...  10   0  11   \n",
       "2     CC(CC(B(O)O)NC(=O)C(NC(=O)c1cnccn1)Cc1ccccc1)C   6   4   9   \n",
       "3                               COC(C[Hg]Cl)CNC(=O)N   2   2   5   \n",
       "4   O=C(c1ccccn1)O[Cr](OC(=O)c1ccccn1)OC(=O)c1ccccn1   9   0   6   \n",
       "\n",
       "                  LogP                TPSA                  MW  \\\n",
       "0  -1.0884000000000005  106.86000000000001             275.092   \n",
       "1   2.7925000000000004              114.43   678.4910000000001   \n",
       "2   0.3606000000000009              124.44   384.2450000000001   \n",
       "3   0.3243000000000002               64.35  367.19800000000015   \n",
       "4               2.1056  117.57000000000001   418.3050000000001   \n",
       "\n",
       "                  Name Library  \n",
       "0            Acetarsol     FDA  \n",
       "1            Auranofin     FDA  \n",
       "2           Bortezomib     FDA  \n",
       "3        Chlormerodrin     FDA  \n",
       "4  Chromium picolinate     FDA  "
      ]
     },
     "execution_count": 11,
     "metadata": {},
     "output_type": "execute_result"
    }
   ],
   "source": [
    "\"\"\"Merge Results\"\"\"\n",
    "#Merge Database results with Name and Library (From input file)\n",
    "Database[\"Name\"] = Data[\"Name\"]\n",
    "Database[\"Library\"] = Data[\"Library\"]\n",
    "Database.head()"
   ]
  },
  {
   "cell_type": "markdown",
   "metadata": {},
   "source": [
    "# Save Results "
   ]
  },
  {
   "cell_type": "code",
   "execution_count": 12,
   "metadata": {},
   "outputs": [],
   "source": [
    "\"\"\"Save Results as .csv File\"\"\"\n",
    "Database.to_csv(\"Database_descriptors.csv\", sep = \",\")"
   ]
  },
  {
   "cell_type": "code",
   "execution_count": 13,
   "metadata": {},
   "outputs": [
    {
     "data": {
      "text/html": [
       "<div>\n",
       "<style scoped>\n",
       "    .dataframe tbody tr th:only-of-type {\n",
       "        vertical-align: middle;\n",
       "    }\n",
       "\n",
       "    .dataframe tbody tr th {\n",
       "        vertical-align: top;\n",
       "    }\n",
       "\n",
       "    .dataframe thead th {\n",
       "        text-align: right;\n",
       "    }\n",
       "</style>\n",
       "<table border=\"1\" class=\"dataframe\">\n",
       "  <thead>\n",
       "    <tr style=\"text-align: right;\">\n",
       "      <th></th>\n",
       "      <th>Unnamed: 0</th>\n",
       "      <th>SMILES</th>\n",
       "      <th>HBA</th>\n",
       "      <th>HBD</th>\n",
       "      <th>RB</th>\n",
       "      <th>LogP</th>\n",
       "      <th>TPSA</th>\n",
       "      <th>MW</th>\n",
       "      <th>Name</th>\n",
       "      <th>Library</th>\n",
       "    </tr>\n",
       "  </thead>\n",
       "  <tbody>\n",
       "    <tr>\n",
       "      <th>0</th>\n",
       "      <td>0</td>\n",
       "      <td>CC(=O)Nc1cc(ccc1O)[As](=O)(O)O</td>\n",
       "      <td>3</td>\n",
       "      <td>4</td>\n",
       "      <td>2</td>\n",
       "      <td>-1.0884</td>\n",
       "      <td>106.86</td>\n",
       "      <td>275.092</td>\n",
       "      <td>Acetarsol</td>\n",
       "      <td>FDA</td>\n",
       "    </tr>\n",
       "    <tr>\n",
       "      <th>1</th>\n",
       "      <td>1</td>\n",
       "      <td>CC[P]([Au]SC1OC(COC(=O)C)C(C(C1OC(=O)C)OC(=O)C...</td>\n",
       "      <td>10</td>\n",
       "      <td>0</td>\n",
       "      <td>11</td>\n",
       "      <td>2.7925</td>\n",
       "      <td>114.43</td>\n",
       "      <td>678.491</td>\n",
       "      <td>Auranofin</td>\n",
       "      <td>FDA</td>\n",
       "    </tr>\n",
       "    <tr>\n",
       "      <th>2</th>\n",
       "      <td>2</td>\n",
       "      <td>CC(CC(B(O)O)NC(=O)C(NC(=O)c1cnccn1)Cc1ccccc1)C</td>\n",
       "      <td>6</td>\n",
       "      <td>4</td>\n",
       "      <td>9</td>\n",
       "      <td>0.3606</td>\n",
       "      <td>124.44</td>\n",
       "      <td>384.245</td>\n",
       "      <td>Bortezomib</td>\n",
       "      <td>FDA</td>\n",
       "    </tr>\n",
       "    <tr>\n",
       "      <th>3</th>\n",
       "      <td>3</td>\n",
       "      <td>COC(C[Hg]Cl)CNC(=O)N</td>\n",
       "      <td>2</td>\n",
       "      <td>2</td>\n",
       "      <td>5</td>\n",
       "      <td>0.3243</td>\n",
       "      <td>64.35</td>\n",
       "      <td>367.198</td>\n",
       "      <td>Chlormerodrin</td>\n",
       "      <td>FDA</td>\n",
       "    </tr>\n",
       "    <tr>\n",
       "      <th>4</th>\n",
       "      <td>4</td>\n",
       "      <td>O=C(c1ccccn1)O[Cr](OC(=O)c1ccccn1)OC(=O)c1ccccn1</td>\n",
       "      <td>9</td>\n",
       "      <td>0</td>\n",
       "      <td>6</td>\n",
       "      <td>2.1056</td>\n",
       "      <td>117.57</td>\n",
       "      <td>418.305</td>\n",
       "      <td>Chromium picolinate</td>\n",
       "      <td>FDA</td>\n",
       "    </tr>\n",
       "  </tbody>\n",
       "</table>\n",
       "</div>"
      ],
      "text/plain": [
       "   Unnamed: 0                                             SMILES  HBA  HBD  \\\n",
       "0           0                     CC(=O)Nc1cc(ccc1O)[As](=O)(O)O    3    4   \n",
       "1           1  CC[P]([Au]SC1OC(COC(=O)C)C(C(C1OC(=O)C)OC(=O)C...   10    0   \n",
       "2           2     CC(CC(B(O)O)NC(=O)C(NC(=O)c1cnccn1)Cc1ccccc1)C    6    4   \n",
       "3           3                               COC(C[Hg]Cl)CNC(=O)N    2    2   \n",
       "4           4   O=C(c1ccccn1)O[Cr](OC(=O)c1ccccn1)OC(=O)c1ccccn1    9    0   \n",
       "\n",
       "   RB    LogP    TPSA       MW                 Name Library  \n",
       "0   2 -1.0884  106.86  275.092            Acetarsol     FDA  \n",
       "1  11  2.7925  114.43  678.491            Auranofin     FDA  \n",
       "2   9  0.3606  124.44  384.245           Bortezomib     FDA  \n",
       "3   5  0.3243   64.35  367.198        Chlormerodrin     FDA  \n",
       "4   6  2.1056  117.57  418.305  Chromium picolinate     FDA  "
      ]
     },
     "execution_count": 13,
     "metadata": {},
     "output_type": "execute_result"
    }
   ],
   "source": [
    "#verify resutlt\n",
    "d = pd.read_csv(\"Database_descriptors.csv\")\n",
    "d.head()"
   ]
  },
  {
   "cell_type": "code",
   "execution_count": null,
   "metadata": {},
   "outputs": [],
   "source": []
  }
 ],
 "metadata": {
  "celltoolbar": "Raw Cell Format",
  "kernelspec": {
   "display_name": "Python 3",
   "language": "python",
   "name": "python3"
  },
  "language_info": {
   "codemirror_mode": {
    "name": "ipython",
    "version": 3
   },
   "file_extension": ".py",
   "mimetype": "text/x-python",
   "name": "python",
   "nbconvert_exporter": "python",
   "pygments_lexer": "ipython3",
   "version": "3.6.5"
  },
  "toc": {
   "base_numbering": 1,
   "nav_menu": {},
   "number_sections": true,
   "sideBar": true,
   "skip_h1_title": false,
   "title_cell": "Table of Contents",
   "title_sidebar": "Contents",
   "toc_cell": false,
   "toc_position": {},
   "toc_section_display": true,
   "toc_window_display": false
  }
 },
 "nbformat": 4,
 "nbformat_minor": 2
}
