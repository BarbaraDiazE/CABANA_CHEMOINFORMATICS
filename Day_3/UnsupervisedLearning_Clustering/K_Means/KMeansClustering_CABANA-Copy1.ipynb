{
 "cells": [
  {
   "cell_type": "markdown",
   "metadata": {},
   "source": [
    "# K-Means Clustering"
   ]
  },
  {
   "cell_type": "markdown",
   "metadata": {},
   "source": [
    "For this project we will attempt to use KMeans Clustering to cluster Compounds in 3 groups:\n",
    "        FDA,\n",
    "        Biofacquim,\n",
    "        AFRODB\n",
    "\n",
    "Note that, we have the \"Library\" labels for this data set, \n",
    "but we will NOT use them for the K-Means clustering algorithm\n",
    "(unsupervised learning algorithm).\n",
    "\n",
    "In this case we will use the labels to try to get an idea of \n",
    "how well the algorithm performed, but you won't usually do \n",
    "this for Kmeans\n",
    "\n",
    "So the classification report and confusion matrix at the end of \n",
    "this project, do not truly make sense in a real world setting!"
   ]
  },
  {
   "cell_type": "markdown",
   "metadata": {},
   "source": [
    "## Import Libraries\n",
    "\n",
    "** Import the libraries you usually use for data analysis.**"
   ]
  },
  {
   "cell_type": "code",
   "execution_count": 1,
   "metadata": {},
   "outputs": [],
   "source": [
    "import pandas as pd\n",
    "import numpy as np\n",
    "import matplotlib.pyplot as plt\n",
    "import seaborn as sns\n",
    "%matplotlib inline"
   ]
  },
  {
   "cell_type": "markdown",
   "metadata": {},
   "source": [
    "## Get the Data"
   ]
  },
  {
   "cell_type": "code",
   "execution_count": 2,
   "metadata": {},
   "outputs": [
    {
     "data": {
      "text/plain": [
       "'/home/babs/Documents/DIFACQUIM/CABANA_CHEMOINFORMATICS/Day_3/UnsupervisedLearning_Clustering/K_Means'"
      ]
     },
     "execution_count": 2,
     "metadata": {},
     "output_type": "execute_result"
    }
   ],
   "source": [
    "pwd"
   ]
  },
  {
   "cell_type": "markdown",
   "metadata": {},
   "source": [
    "Please configure your location to read .csv file"
   ]
  },
  {
   "cell_type": "code",
   "execution_count": 3,
   "metadata": {},
   "outputs": [],
   "source": [
    "Data = pd.read_csv(\"Data_cluster.csv\",index_col=0)"
   ]
  },
  {
   "cell_type": "code",
   "execution_count": 4,
   "metadata": {},
   "outputs": [
    {
     "data": {
      "text/plain": [
       "Index(['ID Database', 'Name', 'SMILES', 'HBA', 'HBD', 'RB', 'LogP', 'TPSA',\n",
       "       'MW', 'Heavy Atom', 'Ring Count', 'Fraction CSP3', 'subLibrary',\n",
       "       'Library', 'Target'],\n",
       "      dtype='object')"
      ]
     },
     "execution_count": 4,
     "metadata": {},
     "output_type": "execute_result"
    }
   ],
   "source": [
    "Data.columns"
   ]
  },
  {
   "cell_type": "code",
   "execution_count": 7,
   "metadata": {},
   "outputs": [
    {
     "data": {
      "text/plain": [
       "(2704, 15)"
      ]
     },
     "execution_count": 7,
     "metadata": {},
     "output_type": "execute_result"
    }
   ],
   "source": [
    "Data.shape"
   ]
  },
  {
   "cell_type": "code",
   "execution_count": 8,
   "metadata": {},
   "outputs": [],
   "source": [
    "#Select descriptors to train model (Numerical Data)\n",
    "features = ['HBA', 'HBD', 'RB', 'LogP', 'TPSA', 'MW', \n",
    "            'Heavy Atom', 'Ring Count', 'Fraction CSP3']"
   ]
  },
  {
   "cell_type": "code",
   "execution_count": 10,
   "metadata": {},
   "outputs": [
    {
     "data": {
      "text/html": [
       "<div>\n",
       "<style scoped>\n",
       "    .dataframe tbody tr th:only-of-type {\n",
       "        vertical-align: middle;\n",
       "    }\n",
       "\n",
       "    .dataframe tbody tr th {\n",
       "        vertical-align: top;\n",
       "    }\n",
       "\n",
       "    .dataframe thead th {\n",
       "        text-align: right;\n",
       "    }\n",
       "</style>\n",
       "<table border=\"1\" class=\"dataframe\">\n",
       "  <thead>\n",
       "    <tr style=\"text-align: right;\">\n",
       "      <th></th>\n",
       "      <th>HBA</th>\n",
       "      <th>HBD</th>\n",
       "      <th>RB</th>\n",
       "      <th>LogP</th>\n",
       "      <th>TPSA</th>\n",
       "      <th>MW</th>\n",
       "      <th>Heavy Atom</th>\n",
       "      <th>Ring Count</th>\n",
       "      <th>Fraction CSP3</th>\n",
       "    </tr>\n",
       "  </thead>\n",
       "  <tbody>\n",
       "    <tr>\n",
       "      <th>0</th>\n",
       "      <td>7.0</td>\n",
       "      <td>3.0</td>\n",
       "      <td>51.0</td>\n",
       "      <td>22.41390</td>\n",
       "      <td>105.45</td>\n",
       "      <td>1194.003</td>\n",
       "      <td>85.0</td>\n",
       "      <td>85.0</td>\n",
       "      <td>85.0</td>\n",
       "    </tr>\n",
       "    <tr>\n",
       "      <th>1</th>\n",
       "      <td>27.0</td>\n",
       "      <td>14.0</td>\n",
       "      <td>18.0</td>\n",
       "      <td>-3.53560</td>\n",
       "      <td>418.89</td>\n",
       "      <td>1195.309</td>\n",
       "      <td>83.0</td>\n",
       "      <td>83.0</td>\n",
       "      <td>83.0</td>\n",
       "    </tr>\n",
       "    <tr>\n",
       "      <th>2</th>\n",
       "      <td>26.0</td>\n",
       "      <td>14.0</td>\n",
       "      <td>17.0</td>\n",
       "      <td>-2.65880</td>\n",
       "      <td>393.98</td>\n",
       "      <td>1195.353</td>\n",
       "      <td>83.0</td>\n",
       "      <td>83.0</td>\n",
       "      <td>83.0</td>\n",
       "    </tr>\n",
       "    <tr>\n",
       "      <th>3</th>\n",
       "      <td>11.0</td>\n",
       "      <td>3.0</td>\n",
       "      <td>61.0</td>\n",
       "      <td>16.99360</td>\n",
       "      <td>201.42</td>\n",
       "      <td>1117.597</td>\n",
       "      <td>79.0</td>\n",
       "      <td>79.0</td>\n",
       "      <td>79.0</td>\n",
       "    </tr>\n",
       "    <tr>\n",
       "      <th>4</th>\n",
       "      <td>8.0</td>\n",
       "      <td>3.0</td>\n",
       "      <td>52.0</td>\n",
       "      <td>17.01800</td>\n",
       "      <td>122.52</td>\n",
       "      <td>943.489</td>\n",
       "      <td>67.0</td>\n",
       "      <td>67.0</td>\n",
       "      <td>67.0</td>\n",
       "    </tr>\n",
       "    <tr>\n",
       "      <th>5</th>\n",
       "      <td>6.0</td>\n",
       "      <td>1.0</td>\n",
       "      <td>4.0</td>\n",
       "      <td>8.99260</td>\n",
       "      <td>45.30</td>\n",
       "      <td>861.191</td>\n",
       "      <td>65.0</td>\n",
       "      <td>65.0</td>\n",
       "      <td>65.0</td>\n",
       "    </tr>\n",
       "    <tr>\n",
       "      <th>6</th>\n",
       "      <td>17.0</td>\n",
       "      <td>14.0</td>\n",
       "      <td>5.0</td>\n",
       "      <td>4.73830</td>\n",
       "      <td>310.91</td>\n",
       "      <td>850.782</td>\n",
       "      <td>62.0</td>\n",
       "      <td>62.0</td>\n",
       "      <td>62.0</td>\n",
       "    </tr>\n",
       "    <tr>\n",
       "      <th>7</th>\n",
       "      <td>8.0</td>\n",
       "      <td>5.0</td>\n",
       "      <td>12.0</td>\n",
       "      <td>11.19094</td>\n",
       "      <td>144.52</td>\n",
       "      <td>782.974</td>\n",
       "      <td>58.0</td>\n",
       "      <td>58.0</td>\n",
       "      <td>58.0</td>\n",
       "    </tr>\n",
       "    <tr>\n",
       "      <th>8</th>\n",
       "      <td>8.0</td>\n",
       "      <td>6.0</td>\n",
       "      <td>11.0</td>\n",
       "      <td>11.06024</td>\n",
       "      <td>155.52</td>\n",
       "      <td>782.974</td>\n",
       "      <td>58.0</td>\n",
       "      <td>58.0</td>\n",
       "      <td>58.0</td>\n",
       "    </tr>\n",
       "    <tr>\n",
       "      <th>9</th>\n",
       "      <td>7.0</td>\n",
       "      <td>4.0</td>\n",
       "      <td>32.0</td>\n",
       "      <td>13.59130</td>\n",
       "      <td>120.36</td>\n",
       "      <td>803.178</td>\n",
       "      <td>58.0</td>\n",
       "      <td>58.0</td>\n",
       "      <td>58.0</td>\n",
       "    </tr>\n",
       "    <tr>\n",
       "      <th>10</th>\n",
       "      <td>10.0</td>\n",
       "      <td>7.0</td>\n",
       "      <td>5.0</td>\n",
       "      <td>9.44814</td>\n",
       "      <td>155.11</td>\n",
       "      <td>772.939</td>\n",
       "      <td>57.0</td>\n",
       "      <td>57.0</td>\n",
       "      <td>57.0</td>\n",
       "    </tr>\n",
       "    <tr>\n",
       "      <th>11</th>\n",
       "      <td>10.0</td>\n",
       "      <td>6.0</td>\n",
       "      <td>6.0</td>\n",
       "      <td>9.51344</td>\n",
       "      <td>153.23</td>\n",
       "      <td>768.907</td>\n",
       "      <td>57.0</td>\n",
       "      <td>57.0</td>\n",
       "      <td>57.0</td>\n",
       "    </tr>\n",
       "    <tr>\n",
       "      <th>12</th>\n",
       "      <td>11.0</td>\n",
       "      <td>3.0</td>\n",
       "      <td>39.0</td>\n",
       "      <td>8.41140</td>\n",
       "      <td>201.42</td>\n",
       "      <td>809.003</td>\n",
       "      <td>57.0</td>\n",
       "      <td>57.0</td>\n",
       "      <td>57.0</td>\n",
       "    </tr>\n",
       "    <tr>\n",
       "      <th>13</th>\n",
       "      <td>9.0</td>\n",
       "      <td>7.0</td>\n",
       "      <td>5.0</td>\n",
       "      <td>10.14264</td>\n",
       "      <td>151.87</td>\n",
       "      <td>755.908</td>\n",
       "      <td>56.0</td>\n",
       "      <td>56.0</td>\n",
       "      <td>56.0</td>\n",
       "    </tr>\n",
       "    <tr>\n",
       "      <th>14</th>\n",
       "      <td>10.0</td>\n",
       "      <td>8.0</td>\n",
       "      <td>5.0</td>\n",
       "      <td>9.10594</td>\n",
       "      <td>163.90</td>\n",
       "      <td>758.912</td>\n",
       "      <td>56.0</td>\n",
       "      <td>56.0</td>\n",
       "      <td>56.0</td>\n",
       "    </tr>\n",
       "    <tr>\n",
       "      <th>15</th>\n",
       "      <td>10.0</td>\n",
       "      <td>7.0</td>\n",
       "      <td>5.0</td>\n",
       "      <td>9.26434</td>\n",
       "      <td>164.23</td>\n",
       "      <td>756.896</td>\n",
       "      <td>56.0</td>\n",
       "      <td>56.0</td>\n",
       "      <td>56.0</td>\n",
       "    </tr>\n",
       "    <tr>\n",
       "      <th>16</th>\n",
       "      <td>10.0</td>\n",
       "      <td>8.0</td>\n",
       "      <td>5.0</td>\n",
       "      <td>9.05204</td>\n",
       "      <td>163.90</td>\n",
       "      <td>756.896</td>\n",
       "      <td>56.0</td>\n",
       "      <td>56.0</td>\n",
       "      <td>56.0</td>\n",
       "    </tr>\n",
       "    <tr>\n",
       "      <th>17</th>\n",
       "      <td>7.0</td>\n",
       "      <td>2.0</td>\n",
       "      <td>38.0</td>\n",
       "      <td>13.85350</td>\n",
       "      <td>94.45</td>\n",
       "      <td>781.172</td>\n",
       "      <td>56.0</td>\n",
       "      <td>56.0</td>\n",
       "      <td>56.0</td>\n",
       "    </tr>\n",
       "    <tr>\n",
       "      <th>18</th>\n",
       "      <td>9.0</td>\n",
       "      <td>7.0</td>\n",
       "      <td>5.0</td>\n",
       "      <td>9.58164</td>\n",
       "      <td>151.87</td>\n",
       "      <td>741.881</td>\n",
       "      <td>55.0</td>\n",
       "      <td>55.0</td>\n",
       "      <td>55.0</td>\n",
       "    </tr>\n",
       "    <tr>\n",
       "      <th>19</th>\n",
       "      <td>9.0</td>\n",
       "      <td>6.0</td>\n",
       "      <td>5.0</td>\n",
       "      <td>9.50484</td>\n",
       "      <td>144.00</td>\n",
       "      <td>738.881</td>\n",
       "      <td>55.0</td>\n",
       "      <td>55.0</td>\n",
       "      <td>55.0</td>\n",
       "    </tr>\n",
       "    <tr>\n",
       "      <th>20</th>\n",
       "      <td>18.0</td>\n",
       "      <td>11.0</td>\n",
       "      <td>9.0</td>\n",
       "      <td>-0.41490</td>\n",
       "      <td>306.73</td>\n",
       "      <td>770.693</td>\n",
       "      <td>55.0</td>\n",
       "      <td>55.0</td>\n",
       "      <td>55.0</td>\n",
       "    </tr>\n",
       "    <tr>\n",
       "      <th>21</th>\n",
       "      <td>9.0</td>\n",
       "      <td>3.0</td>\n",
       "      <td>5.0</td>\n",
       "      <td>9.81620</td>\n",
       "      <td>148.82</td>\n",
       "      <td>730.895</td>\n",
       "      <td>53.0</td>\n",
       "      <td>53.0</td>\n",
       "      <td>53.0</td>\n",
       "    </tr>\n",
       "    <tr>\n",
       "      <th>22</th>\n",
       "      <td>16.0</td>\n",
       "      <td>2.0</td>\n",
       "      <td>10.0</td>\n",
       "      <td>0.59510</td>\n",
       "      <td>207.64</td>\n",
       "      <td>746.759</td>\n",
       "      <td>53.0</td>\n",
       "      <td>53.0</td>\n",
       "      <td>53.0</td>\n",
       "    </tr>\n",
       "    <tr>\n",
       "      <th>23</th>\n",
       "      <td>2.0</td>\n",
       "      <td>1.0</td>\n",
       "      <td>48.0</td>\n",
       "      <td>18.98180</td>\n",
       "      <td>37.30</td>\n",
       "      <td>745.359</td>\n",
       "      <td>53.0</td>\n",
       "      <td>53.0</td>\n",
       "      <td>53.0</td>\n",
       "    </tr>\n",
       "    <tr>\n",
       "      <th>24</th>\n",
       "      <td>2.0</td>\n",
       "      <td>0.0</td>\n",
       "      <td>47.0</td>\n",
       "      <td>18.51400</td>\n",
       "      <td>26.30</td>\n",
       "      <td>733.348</td>\n",
       "      <td>52.0</td>\n",
       "      <td>52.0</td>\n",
       "      <td>52.0</td>\n",
       "    </tr>\n",
       "    <tr>\n",
       "      <th>25</th>\n",
       "      <td>9.0</td>\n",
       "      <td>6.0</td>\n",
       "      <td>7.0</td>\n",
       "      <td>7.54622</td>\n",
       "      <td>172.59</td>\n",
       "      <td>676.762</td>\n",
       "      <td>50.0</td>\n",
       "      <td>50.0</td>\n",
       "      <td>50.0</td>\n",
       "    </tr>\n",
       "    <tr>\n",
       "      <th>26</th>\n",
       "      <td>12.0</td>\n",
       "      <td>0.0</td>\n",
       "      <td>7.0</td>\n",
       "      <td>4.41890</td>\n",
       "      <td>157.80</td>\n",
       "      <td>698.806</td>\n",
       "      <td>50.0</td>\n",
       "      <td>50.0</td>\n",
       "      <td>50.0</td>\n",
       "    </tr>\n",
       "    <tr>\n",
       "      <th>27</th>\n",
       "      <td>4.0</td>\n",
       "      <td>4.0</td>\n",
       "      <td>39.0</td>\n",
       "      <td>12.60090</td>\n",
       "      <td>89.79</td>\n",
       "      <td>706.194</td>\n",
       "      <td>50.0</td>\n",
       "      <td>50.0</td>\n",
       "      <td>50.0</td>\n",
       "    </tr>\n",
       "    <tr>\n",
       "      <th>28</th>\n",
       "      <td>6.0</td>\n",
       "      <td>0.0</td>\n",
       "      <td>1.0</td>\n",
       "      <td>5.47320</td>\n",
       "      <td>58.02</td>\n",
       "      <td>664.850</td>\n",
       "      <td>50.0</td>\n",
       "      <td>50.0</td>\n",
       "      <td>50.0</td>\n",
       "    </tr>\n",
       "    <tr>\n",
       "      <th>29</th>\n",
       "      <td>8.0</td>\n",
       "      <td>0.0</td>\n",
       "      <td>10.0</td>\n",
       "      <td>6.77520</td>\n",
       "      <td>61.86</td>\n",
       "      <td>664.843</td>\n",
       "      <td>49.0</td>\n",
       "      <td>49.0</td>\n",
       "      <td>49.0</td>\n",
       "    </tr>\n",
       "    <tr>\n",
       "      <th>...</th>\n",
       "      <td>...</td>\n",
       "      <td>...</td>\n",
       "      <td>...</td>\n",
       "      <td>...</td>\n",
       "      <td>...</td>\n",
       "      <td>...</td>\n",
       "      <td>...</td>\n",
       "      <td>...</td>\n",
       "      <td>...</td>\n",
       "    </tr>\n",
       "    <tr>\n",
       "      <th>2674</th>\n",
       "      <td>4.0</td>\n",
       "      <td>1.0</td>\n",
       "      <td>4.0</td>\n",
       "      <td>3.17320</td>\n",
       "      <td>45.59</td>\n",
       "      <td>324.424</td>\n",
       "      <td>24.0</td>\n",
       "      <td>24.0</td>\n",
       "      <td>24.0</td>\n",
       "    </tr>\n",
       "    <tr>\n",
       "      <th>2675</th>\n",
       "      <td>4.0</td>\n",
       "      <td>1.0</td>\n",
       "      <td>4.0</td>\n",
       "      <td>3.17320</td>\n",
       "      <td>45.59</td>\n",
       "      <td>324.424</td>\n",
       "      <td>24.0</td>\n",
       "      <td>24.0</td>\n",
       "      <td>24.0</td>\n",
       "    </tr>\n",
       "    <tr>\n",
       "      <th>2676</th>\n",
       "      <td>2.0</td>\n",
       "      <td>0.0</td>\n",
       "      <td>1.0</td>\n",
       "      <td>4.01750</td>\n",
       "      <td>6.48</td>\n",
       "      <td>304.437</td>\n",
       "      <td>23.0</td>\n",
       "      <td>23.0</td>\n",
       "      <td>23.0</td>\n",
       "    </tr>\n",
       "    <tr>\n",
       "      <th>2677</th>\n",
       "      <td>5.0</td>\n",
       "      <td>1.0</td>\n",
       "      <td>8.0</td>\n",
       "      <td>2.98942</td>\n",
       "      <td>77.10</td>\n",
       "      <td>359.451</td>\n",
       "      <td>25.0</td>\n",
       "      <td>25.0</td>\n",
       "      <td>25.0</td>\n",
       "    </tr>\n",
       "    <tr>\n",
       "      <th>2678</th>\n",
       "      <td>3.0</td>\n",
       "      <td>2.0</td>\n",
       "      <td>4.0</td>\n",
       "      <td>0.15140</td>\n",
       "      <td>63.32</td>\n",
       "      <td>149.215</td>\n",
       "      <td>9.0</td>\n",
       "      <td>9.0</td>\n",
       "      <td>9.0</td>\n",
       "    </tr>\n",
       "    <tr>\n",
       "      <th>2679</th>\n",
       "      <td>6.0</td>\n",
       "      <td>2.0</td>\n",
       "      <td>7.0</td>\n",
       "      <td>6.07520</td>\n",
       "      <td>70.00</td>\n",
       "      <td>473.594</td>\n",
       "      <td>34.0</td>\n",
       "      <td>34.0</td>\n",
       "      <td>34.0</td>\n",
       "    </tr>\n",
       "    <tr>\n",
       "      <th>2680</th>\n",
       "      <td>2.0</td>\n",
       "      <td>1.0</td>\n",
       "      <td>4.0</td>\n",
       "      <td>2.56760</td>\n",
       "      <td>38.33</td>\n",
       "      <td>259.349</td>\n",
       "      <td>19.0</td>\n",
       "      <td>19.0</td>\n",
       "      <td>19.0</td>\n",
       "    </tr>\n",
       "    <tr>\n",
       "      <th>2681</th>\n",
       "      <td>5.0</td>\n",
       "      <td>2.0</td>\n",
       "      <td>9.0</td>\n",
       "      <td>2.38320</td>\n",
       "      <td>95.94</td>\n",
       "      <td>416.518</td>\n",
       "      <td>30.0</td>\n",
       "      <td>30.0</td>\n",
       "      <td>30.0</td>\n",
       "    </tr>\n",
       "    <tr>\n",
       "      <th>2682</th>\n",
       "      <td>6.0</td>\n",
       "      <td>2.0</td>\n",
       "      <td>9.0</td>\n",
       "      <td>2.30804</td>\n",
       "      <td>74.27</td>\n",
       "      <td>427.545</td>\n",
       "      <td>31.0</td>\n",
       "      <td>31.0</td>\n",
       "      <td>31.0</td>\n",
       "    </tr>\n",
       "    <tr>\n",
       "      <th>2683</th>\n",
       "      <td>1.0</td>\n",
       "      <td>1.0</td>\n",
       "      <td>2.0</td>\n",
       "      <td>1.89670</td>\n",
       "      <td>12.03</td>\n",
       "      <td>171.243</td>\n",
       "      <td>13.0</td>\n",
       "      <td>13.0</td>\n",
       "      <td>13.0</td>\n",
       "    </tr>\n",
       "    <tr>\n",
       "      <th>2684</th>\n",
       "      <td>4.0</td>\n",
       "      <td>1.0</td>\n",
       "      <td>6.0</td>\n",
       "      <td>3.19380</td>\n",
       "      <td>39.72</td>\n",
       "      <td>313.397</td>\n",
       "      <td>23.0</td>\n",
       "      <td>23.0</td>\n",
       "      <td>23.0</td>\n",
       "    </tr>\n",
       "    <tr>\n",
       "      <th>2685</th>\n",
       "      <td>4.0</td>\n",
       "      <td>3.0</td>\n",
       "      <td>5.0</td>\n",
       "      <td>5.68880</td>\n",
       "      <td>92.35</td>\n",
       "      <td>482.821</td>\n",
       "      <td>33.0</td>\n",
       "      <td>33.0</td>\n",
       "      <td>33.0</td>\n",
       "    </tr>\n",
       "    <tr>\n",
       "      <th>2686</th>\n",
       "      <td>6.0</td>\n",
       "      <td>0.0</td>\n",
       "      <td>7.0</td>\n",
       "      <td>2.00030</td>\n",
       "      <td>76.15</td>\n",
       "      <td>376.453</td>\n",
       "      <td>27.0</td>\n",
       "      <td>27.0</td>\n",
       "      <td>27.0</td>\n",
       "    </tr>\n",
       "    <tr>\n",
       "      <th>2687</th>\n",
       "      <td>4.0</td>\n",
       "      <td>1.0</td>\n",
       "      <td>6.0</td>\n",
       "      <td>2.68040</td>\n",
       "      <td>50.80</td>\n",
       "      <td>371.275</td>\n",
       "      <td>22.0</td>\n",
       "      <td>22.0</td>\n",
       "      <td>22.0</td>\n",
       "    </tr>\n",
       "    <tr>\n",
       "      <th>2688</th>\n",
       "      <td>4.0</td>\n",
       "      <td>2.0</td>\n",
       "      <td>10.0</td>\n",
       "      <td>5.21990</td>\n",
       "      <td>78.87</td>\n",
       "      <td>452.595</td>\n",
       "      <td>33.0</td>\n",
       "      <td>33.0</td>\n",
       "      <td>33.0</td>\n",
       "    </tr>\n",
       "    <tr>\n",
       "      <th>2689</th>\n",
       "      <td>2.0</td>\n",
       "      <td>2.0</td>\n",
       "      <td>0.0</td>\n",
       "      <td>1.09780</td>\n",
       "      <td>40.46</td>\n",
       "      <td>110.112</td>\n",
       "      <td>8.0</td>\n",
       "      <td>8.0</td>\n",
       "      <td>8.0</td>\n",
       "    </tr>\n",
       "    <tr>\n",
       "      <th>2690</th>\n",
       "      <td>3.0</td>\n",
       "      <td>3.0</td>\n",
       "      <td>2.0</td>\n",
       "      <td>2.97380</td>\n",
       "      <td>60.69</td>\n",
       "      <td>228.247</td>\n",
       "      <td>17.0</td>\n",
       "      <td>17.0</td>\n",
       "      <td>17.0</td>\n",
       "    </tr>\n",
       "    <tr>\n",
       "      <th>2691</th>\n",
       "      <td>8.0</td>\n",
       "      <td>4.0</td>\n",
       "      <td>3.0</td>\n",
       "      <td>-3.01150</td>\n",
       "      <td>143.72</td>\n",
       "      <td>244.207</td>\n",
       "      <td>17.0</td>\n",
       "      <td>17.0</td>\n",
       "      <td>17.0</td>\n",
       "    </tr>\n",
       "    <tr>\n",
       "      <th>2692</th>\n",
       "      <td>8.0</td>\n",
       "      <td>2.0</td>\n",
       "      <td>5.0</td>\n",
       "      <td>2.79640</td>\n",
       "      <td>91.21</td>\n",
       "      <td>434.548</td>\n",
       "      <td>32.0</td>\n",
       "      <td>32.0</td>\n",
       "      <td>32.0</td>\n",
       "    </tr>\n",
       "    <tr>\n",
       "      <th>2693</th>\n",
       "      <td>3.0</td>\n",
       "      <td>1.0</td>\n",
       "      <td>3.0</td>\n",
       "      <td>1.15080</td>\n",
       "      <td>33.62</td>\n",
       "      <td>180.251</td>\n",
       "      <td>13.0</td>\n",
       "      <td>13.0</td>\n",
       "      <td>13.0</td>\n",
       "    </tr>\n",
       "    <tr>\n",
       "      <th>2694</th>\n",
       "      <td>6.0</td>\n",
       "      <td>2.0</td>\n",
       "      <td>5.0</td>\n",
       "      <td>4.98910</td>\n",
       "      <td>97.42</td>\n",
       "      <td>366.428</td>\n",
       "      <td>28.0</td>\n",
       "      <td>28.0</td>\n",
       "      <td>28.0</td>\n",
       "    </tr>\n",
       "    <tr>\n",
       "      <th>2695</th>\n",
       "      <td>4.0</td>\n",
       "      <td>1.0</td>\n",
       "      <td>1.0</td>\n",
       "      <td>2.77710</td>\n",
       "      <td>48.14</td>\n",
       "      <td>234.202</td>\n",
       "      <td>15.0</td>\n",
       "      <td>15.0</td>\n",
       "      <td>15.0</td>\n",
       "    </tr>\n",
       "    <tr>\n",
       "      <th>2696</th>\n",
       "      <td>1.0</td>\n",
       "      <td>1.0</td>\n",
       "      <td>1.0</td>\n",
       "      <td>2.55000</td>\n",
       "      <td>26.02</td>\n",
       "      <td>179.307</td>\n",
       "      <td>13.0</td>\n",
       "      <td>13.0</td>\n",
       "      <td>13.0</td>\n",
       "    </tr>\n",
       "    <tr>\n",
       "      <th>2697</th>\n",
       "      <td>3.0</td>\n",
       "      <td>1.0</td>\n",
       "      <td>2.0</td>\n",
       "      <td>4.49650</td>\n",
       "      <td>54.37</td>\n",
       "      <td>370.533</td>\n",
       "      <td>27.0</td>\n",
       "      <td>27.0</td>\n",
       "      <td>27.0</td>\n",
       "    </tr>\n",
       "    <tr>\n",
       "      <th>2698</th>\n",
       "      <td>4.0</td>\n",
       "      <td>1.0</td>\n",
       "      <td>4.0</td>\n",
       "      <td>5.93862</td>\n",
       "      <td>50.16</td>\n",
       "      <td>463.796</td>\n",
       "      <td>30.0</td>\n",
       "      <td>30.0</td>\n",
       "      <td>30.0</td>\n",
       "    </tr>\n",
       "    <tr>\n",
       "      <th>2699</th>\n",
       "      <td>9.0</td>\n",
       "      <td>2.0</td>\n",
       "      <td>4.0</td>\n",
       "      <td>2.44270</td>\n",
       "      <td>138.07</td>\n",
       "      <td>422.424</td>\n",
       "      <td>31.0</td>\n",
       "      <td>31.0</td>\n",
       "      <td>31.0</td>\n",
       "    </tr>\n",
       "    <tr>\n",
       "      <th>2700</th>\n",
       "      <td>4.0</td>\n",
       "      <td>5.0</td>\n",
       "      <td>4.0</td>\n",
       "      <td>-0.37440</td>\n",
       "      <td>148.18</td>\n",
       "      <td>283.113</td>\n",
       "      <td>17.0</td>\n",
       "      <td>17.0</td>\n",
       "      <td>17.0</td>\n",
       "    </tr>\n",
       "    <tr>\n",
       "      <th>2701</th>\n",
       "      <td>6.0</td>\n",
       "      <td>0.0</td>\n",
       "      <td>4.0</td>\n",
       "      <td>3.59042</td>\n",
       "      <td>64.16</td>\n",
       "      <td>410.493</td>\n",
       "      <td>30.0</td>\n",
       "      <td>30.0</td>\n",
       "      <td>30.0</td>\n",
       "    </tr>\n",
       "    <tr>\n",
       "      <th>2702</th>\n",
       "      <td>6.0</td>\n",
       "      <td>3.0</td>\n",
       "      <td>9.0</td>\n",
       "      <td>0.72340</td>\n",
       "      <td>111.90</td>\n",
       "      <td>286.352</td>\n",
       "      <td>16.0</td>\n",
       "      <td>16.0</td>\n",
       "      <td>16.0</td>\n",
       "    </tr>\n",
       "    <tr>\n",
       "      <th>2703</th>\n",
       "      <td>4.0</td>\n",
       "      <td>4.0</td>\n",
       "      <td>6.0</td>\n",
       "      <td>2.35200</td>\n",
       "      <td>72.72</td>\n",
       "      <td>287.359</td>\n",
       "      <td>21.0</td>\n",
       "      <td>21.0</td>\n",
       "      <td>21.0</td>\n",
       "    </tr>\n",
       "  </tbody>\n",
       "</table>\n",
       "<p>2704 rows × 9 columns</p>\n",
       "</div>"
      ],
      "text/plain": [
       "       HBA   HBD    RB      LogP    TPSA        MW  Heavy Atom  Ring Count  \\\n",
       "0      7.0   3.0  51.0  22.41390  105.45  1194.003        85.0        85.0   \n",
       "1     27.0  14.0  18.0  -3.53560  418.89  1195.309        83.0        83.0   \n",
       "2     26.0  14.0  17.0  -2.65880  393.98  1195.353        83.0        83.0   \n",
       "3     11.0   3.0  61.0  16.99360  201.42  1117.597        79.0        79.0   \n",
       "4      8.0   3.0  52.0  17.01800  122.52   943.489        67.0        67.0   \n",
       "5      6.0   1.0   4.0   8.99260   45.30   861.191        65.0        65.0   \n",
       "6     17.0  14.0   5.0   4.73830  310.91   850.782        62.0        62.0   \n",
       "7      8.0   5.0  12.0  11.19094  144.52   782.974        58.0        58.0   \n",
       "8      8.0   6.0  11.0  11.06024  155.52   782.974        58.0        58.0   \n",
       "9      7.0   4.0  32.0  13.59130  120.36   803.178        58.0        58.0   \n",
       "10    10.0   7.0   5.0   9.44814  155.11   772.939        57.0        57.0   \n",
       "11    10.0   6.0   6.0   9.51344  153.23   768.907        57.0        57.0   \n",
       "12    11.0   3.0  39.0   8.41140  201.42   809.003        57.0        57.0   \n",
       "13     9.0   7.0   5.0  10.14264  151.87   755.908        56.0        56.0   \n",
       "14    10.0   8.0   5.0   9.10594  163.90   758.912        56.0        56.0   \n",
       "15    10.0   7.0   5.0   9.26434  164.23   756.896        56.0        56.0   \n",
       "16    10.0   8.0   5.0   9.05204  163.90   756.896        56.0        56.0   \n",
       "17     7.0   2.0  38.0  13.85350   94.45   781.172        56.0        56.0   \n",
       "18     9.0   7.0   5.0   9.58164  151.87   741.881        55.0        55.0   \n",
       "19     9.0   6.0   5.0   9.50484  144.00   738.881        55.0        55.0   \n",
       "20    18.0  11.0   9.0  -0.41490  306.73   770.693        55.0        55.0   \n",
       "21     9.0   3.0   5.0   9.81620  148.82   730.895        53.0        53.0   \n",
       "22    16.0   2.0  10.0   0.59510  207.64   746.759        53.0        53.0   \n",
       "23     2.0   1.0  48.0  18.98180   37.30   745.359        53.0        53.0   \n",
       "24     2.0   0.0  47.0  18.51400   26.30   733.348        52.0        52.0   \n",
       "25     9.0   6.0   7.0   7.54622  172.59   676.762        50.0        50.0   \n",
       "26    12.0   0.0   7.0   4.41890  157.80   698.806        50.0        50.0   \n",
       "27     4.0   4.0  39.0  12.60090   89.79   706.194        50.0        50.0   \n",
       "28     6.0   0.0   1.0   5.47320   58.02   664.850        50.0        50.0   \n",
       "29     8.0   0.0  10.0   6.77520   61.86   664.843        49.0        49.0   \n",
       "...    ...   ...   ...       ...     ...       ...         ...         ...   \n",
       "2674   4.0   1.0   4.0   3.17320   45.59   324.424        24.0        24.0   \n",
       "2675   4.0   1.0   4.0   3.17320   45.59   324.424        24.0        24.0   \n",
       "2676   2.0   0.0   1.0   4.01750    6.48   304.437        23.0        23.0   \n",
       "2677   5.0   1.0   8.0   2.98942   77.10   359.451        25.0        25.0   \n",
       "2678   3.0   2.0   4.0   0.15140   63.32   149.215         9.0         9.0   \n",
       "2679   6.0   2.0   7.0   6.07520   70.00   473.594        34.0        34.0   \n",
       "2680   2.0   1.0   4.0   2.56760   38.33   259.349        19.0        19.0   \n",
       "2681   5.0   2.0   9.0   2.38320   95.94   416.518        30.0        30.0   \n",
       "2682   6.0   2.0   9.0   2.30804   74.27   427.545        31.0        31.0   \n",
       "2683   1.0   1.0   2.0   1.89670   12.03   171.243        13.0        13.0   \n",
       "2684   4.0   1.0   6.0   3.19380   39.72   313.397        23.0        23.0   \n",
       "2685   4.0   3.0   5.0   5.68880   92.35   482.821        33.0        33.0   \n",
       "2686   6.0   0.0   7.0   2.00030   76.15   376.453        27.0        27.0   \n",
       "2687   4.0   1.0   6.0   2.68040   50.80   371.275        22.0        22.0   \n",
       "2688   4.0   2.0  10.0   5.21990   78.87   452.595        33.0        33.0   \n",
       "2689   2.0   2.0   0.0   1.09780   40.46   110.112         8.0         8.0   \n",
       "2690   3.0   3.0   2.0   2.97380   60.69   228.247        17.0        17.0   \n",
       "2691   8.0   4.0   3.0  -3.01150  143.72   244.207        17.0        17.0   \n",
       "2692   8.0   2.0   5.0   2.79640   91.21   434.548        32.0        32.0   \n",
       "2693   3.0   1.0   3.0   1.15080   33.62   180.251        13.0        13.0   \n",
       "2694   6.0   2.0   5.0   4.98910   97.42   366.428        28.0        28.0   \n",
       "2695   4.0   1.0   1.0   2.77710   48.14   234.202        15.0        15.0   \n",
       "2696   1.0   1.0   1.0   2.55000   26.02   179.307        13.0        13.0   \n",
       "2697   3.0   1.0   2.0   4.49650   54.37   370.533        27.0        27.0   \n",
       "2698   4.0   1.0   4.0   5.93862   50.16   463.796        30.0        30.0   \n",
       "2699   9.0   2.0   4.0   2.44270  138.07   422.424        31.0        31.0   \n",
       "2700   4.0   5.0   4.0  -0.37440  148.18   283.113        17.0        17.0   \n",
       "2701   6.0   0.0   4.0   3.59042   64.16   410.493        30.0        30.0   \n",
       "2702   6.0   3.0   9.0   0.72340  111.90   286.352        16.0        16.0   \n",
       "2703   4.0   4.0   6.0   2.35200   72.72   287.359        21.0        21.0   \n",
       "\n",
       "      Fraction CSP3  \n",
       "0              85.0  \n",
       "1              83.0  \n",
       "2              83.0  \n",
       "3              79.0  \n",
       "4              67.0  \n",
       "5              65.0  \n",
       "6              62.0  \n",
       "7              58.0  \n",
       "8              58.0  \n",
       "9              58.0  \n",
       "10             57.0  \n",
       "11             57.0  \n",
       "12             57.0  \n",
       "13             56.0  \n",
       "14             56.0  \n",
       "15             56.0  \n",
       "16             56.0  \n",
       "17             56.0  \n",
       "18             55.0  \n",
       "19             55.0  \n",
       "20             55.0  \n",
       "21             53.0  \n",
       "22             53.0  \n",
       "23             53.0  \n",
       "24             52.0  \n",
       "25             50.0  \n",
       "26             50.0  \n",
       "27             50.0  \n",
       "28             50.0  \n",
       "29             49.0  \n",
       "...             ...  \n",
       "2674           24.0  \n",
       "2675           24.0  \n",
       "2676           23.0  \n",
       "2677           25.0  \n",
       "2678            9.0  \n",
       "2679           34.0  \n",
       "2680           19.0  \n",
       "2681           30.0  \n",
       "2682           31.0  \n",
       "2683           13.0  \n",
       "2684           23.0  \n",
       "2685           33.0  \n",
       "2686           27.0  \n",
       "2687           22.0  \n",
       "2688           33.0  \n",
       "2689            8.0  \n",
       "2690           17.0  \n",
       "2691           17.0  \n",
       "2692           32.0  \n",
       "2693           13.0  \n",
       "2694           28.0  \n",
       "2695           15.0  \n",
       "2696           13.0  \n",
       "2697           27.0  \n",
       "2698           30.0  \n",
       "2699           31.0  \n",
       "2700           17.0  \n",
       "2701           30.0  \n",
       "2702           16.0  \n",
       "2703           21.0  \n",
       "\n",
       "[2704 rows x 9 columns]"
      ]
     },
     "execution_count": 10,
     "metadata": {},
     "output_type": "execute_result"
    }
   ],
   "source": [
    "#Create a new data frame with numerical data\n",
    "df = Data[features]\n",
    "df"
   ]
  },
  {
   "cell_type": "code",
   "execution_count": 7,
   "metadata": {},
   "outputs": [],
   "source": [
    "#df.info()"
   ]
  },
  {
   "cell_type": "code",
   "execution_count": 8,
   "metadata": {},
   "outputs": [
    {
     "data": {
      "text/html": [
       "<div>\n",
       "<style scoped>\n",
       "    .dataframe tbody tr th:only-of-type {\n",
       "        vertical-align: middle;\n",
       "    }\n",
       "\n",
       "    .dataframe tbody tr th {\n",
       "        vertical-align: top;\n",
       "    }\n",
       "\n",
       "    .dataframe thead th {\n",
       "        text-align: right;\n",
       "    }\n",
       "</style>\n",
       "<table border=\"1\" class=\"dataframe\">\n",
       "  <thead>\n",
       "    <tr style=\"text-align: right;\">\n",
       "      <th></th>\n",
       "      <th>HBA</th>\n",
       "      <th>HBD</th>\n",
       "      <th>RB</th>\n",
       "      <th>LogP</th>\n",
       "      <th>TPSA</th>\n",
       "      <th>MW</th>\n",
       "      <th>Heavy Atom</th>\n",
       "      <th>Ring Count</th>\n",
       "      <th>Fraction CSP3</th>\n",
       "    </tr>\n",
       "  </thead>\n",
       "  <tbody>\n",
       "    <tr>\n",
       "      <th>count</th>\n",
       "      <td>2704.000000</td>\n",
       "      <td>2704.000000</td>\n",
       "      <td>2704.000000</td>\n",
       "      <td>2704.000000</td>\n",
       "      <td>2704.000000</td>\n",
       "      <td>2704.000000</td>\n",
       "      <td>2704.000000</td>\n",
       "      <td>2704.000000</td>\n",
       "      <td>2704.000000</td>\n",
       "    </tr>\n",
       "    <tr>\n",
       "      <th>mean</th>\n",
       "      <td>4.826923</td>\n",
       "      <td>2.012204</td>\n",
       "      <td>4.272189</td>\n",
       "      <td>3.014391</td>\n",
       "      <td>78.040211</td>\n",
       "      <td>347.178019</td>\n",
       "      <td>24.749630</td>\n",
       "      <td>24.749630</td>\n",
       "      <td>24.749630</td>\n",
       "    </tr>\n",
       "    <tr>\n",
       "      <th>std</th>\n",
       "      <td>3.632233</td>\n",
       "      <td>2.081452</td>\n",
       "      <td>4.967362</td>\n",
       "      <td>2.512787</td>\n",
       "      <td>56.861477</td>\n",
       "      <td>167.969202</td>\n",
       "      <td>12.005818</td>\n",
       "      <td>12.005818</td>\n",
       "      <td>12.005818</td>\n",
       "    </tr>\n",
       "    <tr>\n",
       "      <th>min</th>\n",
       "      <td>0.000000</td>\n",
       "      <td>0.000000</td>\n",
       "      <td>0.000000</td>\n",
       "      <td>-5.935100</td>\n",
       "      <td>0.000000</td>\n",
       "      <td>16.043000</td>\n",
       "      <td>1.000000</td>\n",
       "      <td>1.000000</td>\n",
       "      <td>1.000000</td>\n",
       "    </tr>\n",
       "    <tr>\n",
       "      <th>25%</th>\n",
       "      <td>3.000000</td>\n",
       "      <td>1.000000</td>\n",
       "      <td>2.000000</td>\n",
       "      <td>1.546100</td>\n",
       "      <td>46.150000</td>\n",
       "      <td>254.115000</td>\n",
       "      <td>18.000000</td>\n",
       "      <td>18.000000</td>\n",
       "      <td>18.000000</td>\n",
       "    </tr>\n",
       "    <tr>\n",
       "      <th>50%</th>\n",
       "      <td>4.000000</td>\n",
       "      <td>2.000000</td>\n",
       "      <td>3.000000</td>\n",
       "      <td>2.897000</td>\n",
       "      <td>67.715000</td>\n",
       "      <td>332.474000</td>\n",
       "      <td>24.000000</td>\n",
       "      <td>24.000000</td>\n",
       "      <td>24.000000</td>\n",
       "    </tr>\n",
       "    <tr>\n",
       "      <th>75%</th>\n",
       "      <td>6.000000</td>\n",
       "      <td>3.000000</td>\n",
       "      <td>5.000000</td>\n",
       "      <td>4.276750</td>\n",
       "      <td>98.360000</td>\n",
       "      <td>414.718000</td>\n",
       "      <td>30.000000</td>\n",
       "      <td>30.000000</td>\n",
       "      <td>30.000000</td>\n",
       "    </tr>\n",
       "    <tr>\n",
       "      <th>max</th>\n",
       "      <td>47.000000</td>\n",
       "      <td>19.000000</td>\n",
       "      <td>63.000000</td>\n",
       "      <td>22.413900</td>\n",
       "      <td>656.850000</td>\n",
       "      <td>2501.126000</td>\n",
       "      <td>174.000000</td>\n",
       "      <td>174.000000</td>\n",
       "      <td>174.000000</td>\n",
       "    </tr>\n",
       "  </tbody>\n",
       "</table>\n",
       "</div>"
      ],
      "text/plain": [
       "               HBA          HBD           RB         LogP         TPSA  \\\n",
       "count  2704.000000  2704.000000  2704.000000  2704.000000  2704.000000   \n",
       "mean      4.826923     2.012204     4.272189     3.014391    78.040211   \n",
       "std       3.632233     2.081452     4.967362     2.512787    56.861477   \n",
       "min       0.000000     0.000000     0.000000    -5.935100     0.000000   \n",
       "25%       3.000000     1.000000     2.000000     1.546100    46.150000   \n",
       "50%       4.000000     2.000000     3.000000     2.897000    67.715000   \n",
       "75%       6.000000     3.000000     5.000000     4.276750    98.360000   \n",
       "max      47.000000    19.000000    63.000000    22.413900   656.850000   \n",
       "\n",
       "                MW   Heavy Atom   Ring Count  Fraction CSP3  \n",
       "count  2704.000000  2704.000000  2704.000000    2704.000000  \n",
       "mean    347.178019    24.749630    24.749630      24.749630  \n",
       "std     167.969202    12.005818    12.005818      12.005818  \n",
       "min      16.043000     1.000000     1.000000       1.000000  \n",
       "25%     254.115000    18.000000    18.000000      18.000000  \n",
       "50%     332.474000    24.000000    24.000000      24.000000  \n",
       "75%     414.718000    30.000000    30.000000      30.000000  \n",
       "max    2501.126000   174.000000   174.000000     174.000000  "
      ]
     },
     "execution_count": 8,
     "metadata": {},
     "output_type": "execute_result"
    }
   ],
   "source": [
    "#Statistical values\n",
    "df.describe()"
   ]
  },
  {
   "cell_type": "markdown",
   "metadata": {},
   "source": [
    "## Exploratory Data Analysis\n",
    "\n",
    "It's time to create some data visualizations!"
   ]
  },
  {
   "cell_type": "code",
   "execution_count": 9,
   "metadata": {},
   "outputs": [
    {
     "data": {
      "text/plain": [
       "<matplotlib.axes._subplots.AxesSubplot at 0x7f974ecd7dd8>"
      ]
     },
     "execution_count": 9,
     "metadata": {},
     "output_type": "execute_result"
    },
    {
     "data": {
      "image/png": "[encoded data removed]",
      "text/plain": [
       "<Figure size 432x288 with 2 Axes>"
      ]
     },
     "metadata": {
      "needs_background": "light"
     },
     "output_type": "display_data"
    }
   ],
   "source": [
    "sns.heatmap(df.corr())"
   ]
  },
  {
   "cell_type": "code",
   "execution_count": 11,
   "metadata": {
    "scrolled": true
   },
   "outputs": [
    {
     "name": "stderr",
     "output_type": "stream",
     "text": [
      "/home/babs/anaconda3/envs/my-rdkit-env/lib/python3.6/site-packages/seaborn/regression.py:546: UserWarning: The `size` paramter has been renamed to `height`; please update your code.\n",
      "  warnings.warn(msg, UserWarning)\n"
     ]
    },
    {
     "data": {
      "text/plain": [
       "<seaborn.axisgrid.FacetGrid at 0x7f06290f7be0>"
      ]
     },
     "execution_count": 11,
     "metadata": {},
     "output_type": "execute_result"
    },
    {
     "data": {
      "image/png": "[encoded data removed]",
      "text/plain": [
       "<Figure size 531.625x432 with 1 Axes>"
      ]
     },
     "metadata": {},
     "output_type": "display_data"
    }
   ],
   "source": [
    "sns.set_style('whitegrid')\n",
    "sns.lmplot('LogP','MW',data=Data, hue='Library',\n",
    "           palette='cool',size=6,aspect=1,fit_reg=False)"
   ]
  },
  {
   "cell_type": "code",
   "execution_count": 12,
   "metadata": {},
   "outputs": [
    {
     "data": {
      "text/plain": [
       "<seaborn.axisgrid.FacetGrid at 0x7f0628c4e6d8>"
      ]
     },
     "execution_count": 12,
     "metadata": {},
     "output_type": "execute_result"
    },
    {
     "data": {
      "image/png": "[encoded data removed]",
      "text/plain": [
       "<Figure size 531.625x432 with 1 Axes>"
      ]
     },
     "metadata": {},
     "output_type": "display_data"
    }
   ],
   "source": [
    "sns.set_style('whitegrid')\n",
    "sns.lmplot('TPSA','MW',data=Data, hue='Library',\n",
    "           palette='cool',size=6,aspect=1,fit_reg=False)"
   ]
  },
  {
   "cell_type": "markdown",
   "metadata": {},
   "source": []
  },
  {
   "cell_type": "code",
   "execution_count": 13,
   "metadata": {},
   "outputs": [
    {
     "name": "stderr",
     "output_type": "stream",
     "text": [
      "/home/babs/anaconda3/envs/my-rdkit-env/lib/python3.6/site-packages/seaborn/axisgrid.py:230: UserWarning: The `size` paramter has been renamed to `height`; please update your code.\n",
      "  warnings.warn(msg, UserWarning)\n"
     ]
    },
    {
     "data": {
      "image/png": "[encoded data removed]",
      "text/plain": [
       "<Figure size 864x432 with 1 Axes>"
      ]
     },
     "metadata": {},
     "output_type": "display_data"
    }
   ],
   "source": [
    "g = sns.FacetGrid(Data,hue=\"Library\",palette='cool',size=6,aspect=2)\n",
    "g = g.map(plt.hist,'MW',bins=20,alpha=0.7)"
   ]
  },
  {
   "cell_type": "markdown",
   "metadata": {},
   "source": [
    "**Create a similar histogram for the Grad.Rate column.**"
   ]
  },
  {
   "cell_type": "code",
   "execution_count": 13,
   "metadata": {},
   "outputs": [
    {
     "data": {
      "image/png": "[encoded data removed]",
      "text/plain": [
       "<Figure size 864x432 with 1 Axes>"
      ]
     },
     "metadata": {},
     "output_type": "display_data"
    }
   ],
   "source": [
    "sns.set_style('darkgrid')\n",
    "g = sns.FacetGrid(Data,hue=\"Library\",palette='cool',size=6,aspect=2)\n",
    "g = g.map(plt.hist,'TPSA',bins=20,alpha=0.7)"
   ]
  },
  {
   "cell_type": "code",
   "execution_count": 14,
   "metadata": {},
   "outputs": [
    {
     "data": {
      "image/png": "[encoded data removed]",
      "text/plain": [
       "<Figure size 864x432 with 1 Axes>"
      ]
     },
     "metadata": {},
     "output_type": "display_data"
    }
   ],
   "source": [
    "sns.set_style('darkgrid')\n",
    "g = sns.FacetGrid(Data,hue=\"Library\",palette='cool',size=6,aspect=2)\n",
    "g = g.map(plt.hist,'Heavy Atom',bins=20,alpha=0.7)"
   ]
  },
  {
   "cell_type": "markdown",
   "metadata": {},
   "source": [
    "\"\"\"K Means Cluster Creation \"\"\""
   ]
  },
  {
   "cell_type": "code",
   "execution_count": 14,
   "metadata": {},
   "outputs": [],
   "source": [
    "from sklearn.cluster import KMeans"
   ]
  },
  {
   "cell_type": "markdown",
   "metadata": {},
   "source": [
    "** Create an instance of a K Means model with 2 clusters.**"
   ]
  },
  {
   "cell_type": "code",
   "execution_count": 15,
   "metadata": {},
   "outputs": [],
   "source": [
    "kmeans = KMeans(n_clusters=3)"
   ]
  },
  {
   "cell_type": "markdown",
   "metadata": {},
   "source": [
    "**Fit the model to all the data except for the Private label.**"
   ]
  },
  {
   "cell_type": "code",
   "execution_count": 16,
   "metadata": {},
   "outputs": [
    {
     "data": {
      "text/plain": [
       "KMeans(algorithm='auto', copy_x=True, init='k-means++', max_iter=300,\n",
       "       n_clusters=3, n_init=10, n_jobs=None, precompute_distances='auto',\n",
       "       random_state=None, tol=0.0001, verbose=0)"
      ]
     },
     "execution_count": 16,
     "metadata": {},
     "output_type": "execute_result"
    }
   ],
   "source": [
    "kmeans.fit(df)"
   ]
  },
  {
   "cell_type": "markdown",
   "metadata": {},
   "source": [
    "** What are the cluster center vectors?**"
   ]
  },
  {
   "cell_type": "code",
   "execution_count": 17,
   "metadata": {},
   "outputs": [
    {
     "data": {
      "text/plain": [
       "array([[   3.44452198,    1.55547802,    2.85694348,    2.11631771,\n",
       "          58.48973482,  246.6116698 ,   17.54361479,   17.54361479,\n",
       "          17.54361479],\n",
       "       [  25.4       ,   11.65714286,   26.77142857,    1.71301429,\n",
       "         384.81      , 1236.99648571,   85.8       ,   85.8       ,\n",
       "          85.8       ],\n",
       "       [   5.84708738,    2.26860841,    5.27588997,    4.09245613,\n",
       "          92.01989482,  438.57602146,   31.37540453,   31.37540453,\n",
       "          31.37540453]])"
      ]
     },
     "execution_count": 17,
     "metadata": {},
     "output_type": "execute_result"
    }
   ],
   "source": [
    "kmeans.cluster_centers_"
   ]
  },
  {
   "cell_type": "code",
   "execution_count": 18,
   "metadata": {},
   "outputs": [
    {
     "data": {
      "text/plain": [
       "KMeans(algorithm='auto', copy_x=True, init='k-means++', max_iter=300,\n",
       "       n_clusters=3, n_init=10, n_jobs=None, precompute_distances='auto',\n",
       "       random_state=None, tol=0.0001, verbose=0)"
      ]
     },
     "execution_count": 18,
     "metadata": {},
     "output_type": "execute_result"
    }
   ],
   "source": [
    "kmeans"
   ]
  },
  {
   "cell_type": "code",
   "execution_count": 20,
   "metadata": {},
   "outputs": [
    {
     "data": {
      "text/plain": [
       "array([1, 1, 1, ..., 2, 0, 0], dtype=int32)"
      ]
     },
     "execution_count": 20,
     "metadata": {},
     "output_type": "execute_result"
    }
   ],
   "source": [
    "kmeans.labels_"
   ]
  },
  {
   "cell_type": "markdown",
   "metadata": {},
   "source": [
    "## Evaluation\n",
    "\n",
    "There is no perfect way to evaluate clustering if you don't have the labels, however since this is just an exercise, we do have the labels, so we take advantage of this to evaluate our clusters, keep in mind, you usually won't have this luxury in the real world.\n",
    "\n",
    "** Create a new column for df called 'Cluster', which is:\n",
    "    Afro -> 0,\n",
    "    Biofacquim -> 1,\n",
    "    FDA -> 2,"
   ]
  },
  {
   "cell_type": "code",
   "execution_count": 21,
   "metadata": {},
   "outputs": [],
   "source": [
    "#Add predictions to Data\n",
    "Data['Cluster'] = kmeans.labels_"
   ]
  },
  {
   "cell_type": "code",
   "execution_count": 22,
   "metadata": {},
   "outputs": [
    {
     "name": "stderr",
     "output_type": "stream",
     "text": [
      "/home/babs/anaconda3/envs/my-rdkit-env/lib/python3.6/site-packages/seaborn/regression.py:546: UserWarning: The `size` paramter has been renamed to `height`; please update your code.\n",
      "  warnings.warn(msg, UserWarning)\n"
     ]
    },
    {
     "data": {
      "text/plain": [
       "<seaborn.axisgrid.FacetGrid at 0x7f06419e8e10>"
      ]
     },
     "execution_count": 22,
     "metadata": {},
     "output_type": "execute_result"
    },
    {
     "data": {
      "image/png": "[encoded data removed]",
      "text/plain": [
       "<Figure size 475.5x432 with 1 Axes>"
      ]
     },
     "metadata": {},
     "output_type": "display_data"
    }
   ],
   "source": [
    "#Plot scatter plots again\n",
    "#Now hue is \"Cluster\" (predicted result)\n",
    "sns.set_style('whitegrid')\n",
    "sns.lmplot('LogP','MW',data=Data, hue='Cluster',\n",
    "           palette='cool',size=6,aspect=1,fit_reg=False)"
   ]
  },
  {
   "cell_type": "code",
   "execution_count": 23,
   "metadata": {},
   "outputs": [
    {
     "data": {
      "text/plain": [
       "<seaborn.axisgrid.FacetGrid at 0x7f06419653c8>"
      ]
     },
     "execution_count": 23,
     "metadata": {},
     "output_type": "execute_result"
    },
    {
     "data": {
      "image/png": "[encoded data removed]",
      "text/plain": [
       "<Figure size 475.5x432 with 1 Axes>"
      ]
     },
     "metadata": {},
     "output_type": "display_data"
    }
   ],
   "source": [
    "sns.set_style('whitegrid')\n",
    "sns.lmplot('TPSA','MW',data=Data, hue='Cluster',\n",
    "           palette='cool',size=6,aspect=1,fit_reg=False)"
   ]
  },
  {
   "cell_type": "markdown",
   "metadata": {},
   "source": [
    "In the last plot patters are similar, \n",
    "we can say that cluster predictions is not so bad"
   ]
  },
  {
   "cell_type": "markdown",
   "metadata": {},
   "source": [
    "** Create a confusion matrix and classification report to see how well the Kmeans clustering worked without being given any labels.**"
   ]
  },
  {
   "cell_type": "code",
   "execution_count": 24,
   "metadata": {},
   "outputs": [
    {
     "name": "stdout",
     "output_type": "stream",
     "text": [
      "[[  0   0   0   0]\n",
      " [335 613   6   0]\n",
      " [213 181  29   0]\n",
      " [885 442   0   0]]\n",
      "              precision    recall  f1-score   support\n",
      "\n",
      "           0       0.00      0.00      0.00         0\n",
      "           1       0.50      0.64      0.56       954\n",
      "           2       0.83      0.07      0.13       423\n",
      "           3       0.00      0.00      0.00      1327\n",
      "\n",
      "    accuracy                           0.24      2704\n",
      "   macro avg       0.33      0.18      0.17      2704\n",
      "weighted avg       0.30      0.24      0.22      2704\n",
      "\n"
     ]
    },
    {
     "name": "stderr",
     "output_type": "stream",
     "text": [
      "/home/babs/anaconda3/envs/my-rdkit-env/lib/python3.6/site-packages/sklearn/metrics/classification.py:1437: UndefinedMetricWarning: Precision and F-score are ill-defined and being set to 0.0 in labels with no predicted samples.\n",
      "  'precision', 'predicted', average, warn_for)\n",
      "/home/babs/anaconda3/envs/my-rdkit-env/lib/python3.6/site-packages/sklearn/metrics/classification.py:1439: UndefinedMetricWarning: Recall and F-score are ill-defined and being set to 0.0 in labels with no true samples.\n",
      "  'recall', 'true', average, warn_for)\n"
     ]
    }
   ],
   "source": [
    "from sklearn.metrics import confusion_matrix,classification_report\n",
    "print(confusion_matrix(Data['Target'],kmeans.labels_))\n",
    "print(classification_report(Data['Target'],kmeans.labels_))"
   ]
  },
  {
   "cell_type": "code",
   "execution_count": null,
   "metadata": {},
   "outputs": [],
   "source": []
  }
 ],
 "metadata": {
  "kernelspec": {
   "display_name": "Python 3",
   "language": "python",
   "name": "python3"
  },
  "language_info": {
   "codemirror_mode": {
    "name": "ipython",
    "version": 3
   },
   "file_extension": ".py",
   "mimetype": "text/x-python",
   "name": "python",
   "nbconvert_exporter": "python",
   "pygments_lexer": "ipython3",
   "version": "3.6.5"
  }
 },
 "nbformat": 4,
 "nbformat_minor": 1
}
