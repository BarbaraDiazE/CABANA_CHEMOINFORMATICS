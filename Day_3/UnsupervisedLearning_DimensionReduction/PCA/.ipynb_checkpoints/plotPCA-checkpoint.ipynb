{
 "cells": [
  {
   "cell_type": "markdown",
   "metadata": {},
   "source": []
  },
  {
   "cell_type": "code",
   "execution_count": null,
   "metadata": {},
   "outputs": [],
   "source": [
    "Objective: Visualize chemical Space of Biofacquim and other libraries."
   ]
  },
  {
   "cell_type": "markdown",
   "metadata": {},
   "source": [
    "## Import Libraries"
   ]
  },
  {
   "cell_type": "code",
   "execution_count": 1,
   "metadata": {},
   "outputs": [],
   "source": [
    "import pandas as pd\n",
    "import numpy as np\n",
    "\n",
    "from bokeh.io import  show, output_file\n",
    "from bokeh.models import ColumnDataSource, LassoSelectTool, ZoomInTool, ZoomOutTool, SaveTool, HoverTool,PanTool, Legend\n",
    "from bokeh.plotting import figure\n",
    "from bokeh.core.enums import LegendLocation"
   ]
  },
  {
   "cell_type": "markdown",
   "metadata": {},
   "source": [
    "## Open Database"
   ]
  },
  {
   "cell_type": "code",
   "execution_count": 2,
   "metadata": {},
   "outputs": [
    {
     "data": {
      "text/html": [
       "<div>\n",
       "<style scoped>\n",
       "    .dataframe tbody tr th:only-of-type {\n",
       "        vertical-align: middle;\n",
       "    }\n",
       "\n",
       "    .dataframe tbody tr th {\n",
       "        vertical-align: top;\n",
       "    }\n",
       "\n",
       "    .dataframe thead th {\n",
       "        text-align: right;\n",
       "    }\n",
       "</style>\n",
       "<table border=\"1\" class=\"dataframe\">\n",
       "  <thead>\n",
       "    <tr style=\"text-align: right;\">\n",
       "      <th></th>\n",
       "      <th>Unnamed: 0</th>\n",
       "      <th>PC 1</th>\n",
       "      <th>PC 2</th>\n",
       "      <th>PC 3</th>\n",
       "      <th>PC 4</th>\n",
       "      <th>PC 5</th>\n",
       "      <th>PC 6</th>\n",
       "      <th>Library</th>\n",
       "      <th>SMILES</th>\n",
       "      <th>Name</th>\n",
       "    </tr>\n",
       "  </thead>\n",
       "  <tbody>\n",
       "    <tr>\n",
       "      <th>0</th>\n",
       "      <td>0</td>\n",
       "      <td>1.727453</td>\n",
       "      <td>-10.481176</td>\n",
       "      <td>-5.764133</td>\n",
       "      <td>5.010820</td>\n",
       "      <td>4.673651</td>\n",
       "      <td>0.762974</td>\n",
       "      <td>AFRODB</td>\n",
       "      <td>CCCCCCCCCCCCCCCCCCCCCCCCCCCCCCCCCCCCCCCCCCC(OC...</td>\n",
       "      <td>NPR_00036</td>\n",
       "    </tr>\n",
       "    <tr>\n",
       "      <th>1</th>\n",
       "      <td>1</td>\n",
       "      <td>4.698225</td>\n",
       "      <td>1.221082</td>\n",
       "      <td>4.772969</td>\n",
       "      <td>-1.260738</td>\n",
       "      <td>0.375039</td>\n",
       "      <td>4.067114</td>\n",
       "      <td>AFRODB</td>\n",
       "      <td>C[C@H](CCC(O[C@H](C[C@@H]([C@@H]1CC2)[C@H]3[C@...</td>\n",
       "      <td>ABD_UD_004</td>\n",
       "    </tr>\n",
       "    <tr>\n",
       "      <th>2</th>\n",
       "      <td>2</td>\n",
       "      <td>4.491176</td>\n",
       "      <td>0.917275</td>\n",
       "      <td>4.549075</td>\n",
       "      <td>-1.782514</td>\n",
       "      <td>0.259125</td>\n",
       "      <td>5.050090</td>\n",
       "      <td>AFRODB</td>\n",
       "      <td>C[C@H](CC[C@@]([C@H]1C)(OC)O[C@H](C2)[C@H]1[C@...</td>\n",
       "      <td>ABD_UD_003</td>\n",
       "    </tr>\n",
       "    <tr>\n",
       "      <th>3</th>\n",
       "      <td>3</td>\n",
       "      <td>2.750055</td>\n",
       "      <td>-8.639492</td>\n",
       "      <td>-5.919068</td>\n",
       "      <td>9.498894</td>\n",
       "      <td>5.840558</td>\n",
       "      <td>-2.650968</td>\n",
       "      <td>AFRODB</td>\n",
       "      <td>COc(cc(/C=C/C(OCCCCCCCCCCCCCCCCCCCCCCCCCCCCCCC...</td>\n",
       "      <td>WA_0086</td>\n",
       "    </tr>\n",
       "    <tr>\n",
       "      <th>4</th>\n",
       "      <td>4</td>\n",
       "      <td>1.833588</td>\n",
       "      <td>-7.986786</td>\n",
       "      <td>-5.872903</td>\n",
       "      <td>7.344716</td>\n",
       "      <td>6.014168</td>\n",
       "      <td>0.041645</td>\n",
       "      <td>AFRODB</td>\n",
       "      <td>COc(cc(/C=C/C(OCCCCCCCCCCCCCCCCCCCCCCCCCCCCCCC...</td>\n",
       "      <td>WA_0085</td>\n",
       "    </tr>\n",
       "  </tbody>\n",
       "</table>\n",
       "</div>"
      ],
      "text/plain": [
       "   Unnamed: 0      PC 1       PC 2      PC 3      PC 4      PC 5      PC 6  \\\n",
       "0           0  1.727453 -10.481176 -5.764133  5.010820  4.673651  0.762974   \n",
       "1           1  4.698225   1.221082  4.772969 -1.260738  0.375039  4.067114   \n",
       "2           2  4.491176   0.917275  4.549075 -1.782514  0.259125  5.050090   \n",
       "3           3  2.750055  -8.639492 -5.919068  9.498894  5.840558 -2.650968   \n",
       "4           4  1.833588  -7.986786 -5.872903  7.344716  6.014168  0.041645   \n",
       "\n",
       "  Library                                             SMILES        Name  \n",
       "0  AFRODB  CCCCCCCCCCCCCCCCCCCCCCCCCCCCCCCCCCCCCCCCCCC(OC...   NPR_00036  \n",
       "1  AFRODB  C[C@H](CCC(O[C@H](C[C@@H]([C@@H]1CC2)[C@H]3[C@...  ABD_UD_004  \n",
       "2  AFRODB  C[C@H](CC[C@@]([C@H]1C)(OC)O[C@H](C2)[C@H]1[C@...  ABD_UD_003  \n",
       "3  AFRODB  COc(cc(/C=C/C(OCCCCCCCCCCCCCCCCCCCCCCCCCCCCCCC...     WA_0086  \n",
       "4  AFRODB  COc(cc(/C=C/C(OCCCCCCCCCCCCCCCCCCCCCCCCCCCCCCC...     WA_0085  "
      ]
     },
     "execution_count": 2,
     "metadata": {},
     "output_type": "execute_result"
    }
   ],
   "source": [
    "Data = pd.read_csv(\"Results_PCA.csv\", sep = \",\")\n",
    "Data.head()"
   ]
  },
  {
   "cell_type": "code",
   "execution_count": 3,
   "metadata": {},
   "outputs": [
    {
     "data": {
      "text/plain": [
       "array(['AFRODB', 'BIOFACQUIM', 'Epidatabase', 'FDA', 'PPI'], dtype=object)"
      ]
     },
     "execution_count": 3,
     "metadata": {},
     "output_type": "execute_result"
    }
   ],
   "source": [
    "#visualize Libraries names\n",
    "Data.Library.unique()"
   ]
  },
  {
   "cell_type": "markdown",
   "metadata": {},
   "source": [
    "## Plot"
   ]
  },
  {
   "cell_type": "code",
   "execution_count": null,
   "metadata": {},
   "outputs": [],
   "source": [
    "#Filter Data by Library"
   ]
  },
  {
   "cell_type": "code",
   "execution_count": 4,
   "metadata": {},
   "outputs": [],
   "source": [
    "def column_source( pca_result, L):\n",
    "    data = pca_result[pca_result[\"Library\"] == L]\n",
    "    X = data[\"PC 1\"].to_list()\n",
    "    Y = data[\"PC 2\"].to_list()\n",
    "    N = data[\"Name\"].to_list()\n",
    "    return ColumnDataSource(dict(x = X, y = Y, N = N))"
   ]
  },
  {
   "cell_type": "code",
   "execution_count": 5,
   "metadata": {},
   "outputs": [],
   "source": [
    "#Assign sources\n",
    "source1=column_source(Data, 'AFRODB')\n",
    "source2=column_source(Data, 'Epidatabase')\n",
    "source3=column_source(Data, 'BIOFACQUIM')\n",
    "source4=column_source(Data, 'FDA')\n",
    "source5=column_source(Data, 'PPI')"
   ]
  },
  {
   "cell_type": "code",
   "execution_count": 7,
   "metadata": {},
   "outputs": [],
   "source": [
    "#Set the plot features\n",
    "hover = HoverTool(tooltips = [          (\"PCA1\",\"($x)\"),\n",
    "                                        (\"PCA2\",\"($y)\"),\n",
    "                                        (\"NAME\",\"(@N)\"),\n",
    "                                        ])\n",
    "p = figure(title = \"Chemical Space by PCA\",\n",
    "        x_axis_label = \"PC 1 \" + \" \", y_axis_label=\"PC 2 \" + \" \",\n",
    "        x_range = (-7,7), y_range = (-7,7), tools = [hover], plot_width = 1000, plot_height = 800)\n",
    "\n",
    "#plot libraries\n",
    "\n",
    "AFRO_plot = p.circle(x = \"x\", y = \"y\", source = source1, color = \"gold\", size = 5)\n",
    "EPI_plot = p.circle(x = \"x\", y = \"y\", source = source2, color = \"tomato\", size = 5)\n",
    "PPI_plot = p.circle(x = \"x\", y = \"y\", source = source5, color =\"blueviolet\", size = 5)\n",
    "FDA_plot = p.circle(x = \"x\", y = \"y\", source = source4, color = \"teal\", size = 5)\n",
    "BIOFACQUIM_plot = p.circle(x = \"x\", y = \"y\", source = source3, color =\"yellowgreen\", size = 5)\n",
    "p.add_tools(LassoSelectTool(), ZoomInTool(), ZoomOutTool(), SaveTool(), PanTool())\n",
    "\n",
    "#configure legend\n",
    "\n",
    "legend = Legend(items=[    \n",
    "            (\"AFRODB\",     [AFRO_plot]),\n",
    "            (\"EPIDATABASE\",     [EPI_plot]),\n",
    "            (\"BIOFACQUIM\",   [BIOFACQUIM_plot]),\n",
    "            (\"FDA\",      [FDA_plot]),\n",
    "            (\"PPI\", [PPI_plot])\n",
    "            ], \n",
    "        location = \"center\", orientation = \"vertical\", click_policy = \"hide\")\n",
    "p.add_layout(legend, place = 'right')\n",
    "p.xaxis.axis_label_text_font_size = \"20pt\"\n",
    "p.yaxis.axis_label_text_font_size = \"20pt\"\n",
    "p.xaxis.axis_label_text_color = \"black\"\n",
    "p.yaxis.axis_label_text_color = \"black\"\n",
    "p.xaxis.major_label_text_font_size = \"18pt\"\n",
    "p.yaxis.major_label_text_font_size = \"18pt\"\n",
    "p.title.text_font_size = \"22pt\""
   ]
  },
  {
   "cell_type": "code",
   "execution_count": 8,
   "metadata": {},
   "outputs": [],
   "source": [
    "show(p)"
   ]
  },
  {
   "cell_type": "code",
   "execution_count": null,
   "metadata": {},
   "outputs": [],
   "source": []
  }
 ],
 "metadata": {
  "kernelspec": {
   "display_name": "Python 3",
   "language": "python",
   "name": "python3"
  },
  "language_info": {
   "codemirror_mode": {
    "name": "ipython",
    "version": 3
   },
   "file_extension": ".py",
   "mimetype": "text/x-python",
   "name": "python",
   "nbconvert_exporter": "python",
   "pygments_lexer": "ipython3",
   "version": "3.7.3"
  }
 },
 "nbformat": 4,
 "nbformat_minor": 2
}
