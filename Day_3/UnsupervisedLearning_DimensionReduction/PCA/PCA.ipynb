{
 "cells": [
  {
   "cell_type": "markdown",
   "metadata": {},
   "source": [
    "# PCA"
   ]
  },
  {
   "cell_type": "markdown",
   "metadata": {},
   "source": [
    "## Principal Component Analysis\n",
    "\n",
    "Objective: Explore Chemical Space of Biofacquim against the world.\n",
    "           Perform PCA and save output.\n",
    "\n",
    "Data: ADME descriptors for 5 libraries.\n",
    "    Libraries:\n",
    "        AFRODB,\n",
    "        BIOFACQUIM,\n",
    "        Epidatabase,\n",
    "        FDA, \n",
    "        PPI,\n",
    "        \n",
    "   Descriptors (ADME):\n",
    "        HBA,\n",
    "        HBD,\n",
    "        RB,\n",
    "        LogP,\n",
    "        TPSA, \n",
    "        MW, \n",
    "   \n",
    "Method: PCA"
   ]
  },
  {
   "cell_type": "markdown",
   "metadata": {},
   "source": [
    "## Import Libraries"
   ]
  },
  {
   "cell_type": "code",
   "execution_count": 1,
   "metadata": {},
   "outputs": [],
   "source": [
    "import pandas as pd\n",
    "import numpy as np\n",
    "\n",
    "import seaborn as sns\n",
    "import matplotlib.pyplot as plt\n",
    "\n",
    "import sklearn\n",
    "from sklearn import datasets, decomposition\n",
    "from sklearn.preprocessing import StandardScaler"
   ]
  },
  {
   "cell_type": "markdown",
   "metadata": {},
   "source": [
    "## Open Database"
   ]
  },
  {
   "cell_type": "code",
   "execution_count": 2,
   "metadata": {},
   "outputs": [
    {
     "data": {
      "text/html": [
       "<div>\n",
       "<style scoped>\n",
       "    .dataframe tbody tr th:only-of-type {\n",
       "        vertical-align: middle;\n",
       "    }\n",
       "\n",
       "    .dataframe tbody tr th {\n",
       "        vertical-align: top;\n",
       "    }\n",
       "\n",
       "    .dataframe thead th {\n",
       "        text-align: right;\n",
       "    }\n",
       "</style>\n",
       "<table border=\"1\" class=\"dataframe\">\n",
       "  <thead>\n",
       "    <tr style=\"text-align: right;\">\n",
       "      <th></th>\n",
       "      <th>ID Database</th>\n",
       "      <th>Name</th>\n",
       "      <th>SMILES</th>\n",
       "      <th>HBA</th>\n",
       "      <th>HBD</th>\n",
       "      <th>RB</th>\n",
       "      <th>LogP</th>\n",
       "      <th>TPSA</th>\n",
       "      <th>MW</th>\n",
       "      <th>Heavy Atom</th>\n",
       "      <th>Ring Count</th>\n",
       "      <th>Fraction CSP3</th>\n",
       "      <th>subLibrary</th>\n",
       "      <th>Library</th>\n",
       "    </tr>\n",
       "  </thead>\n",
       "  <tbody>\n",
       "    <tr>\n",
       "      <th>0</th>\n",
       "      <td>AfroDb.564</td>\n",
       "      <td>NPR_00036</td>\n",
       "      <td>CCCCCCCCCCCCCCCCCCCCCCCCCCCCCCCCCCCCCCCCCCC(OC...</td>\n",
       "      <td>7.0</td>\n",
       "      <td>3.0</td>\n",
       "      <td>51.0</td>\n",
       "      <td>22.4139</td>\n",
       "      <td>105.45</td>\n",
       "      <td>1194.003</td>\n",
       "      <td>85.0</td>\n",
       "      <td>85.0</td>\n",
       "      <td>85.0</td>\n",
       "      <td>AFRODB</td>\n",
       "      <td>AFRODB</td>\n",
       "    </tr>\n",
       "    <tr>\n",
       "      <th>1</th>\n",
       "      <td>AfroDb.71</td>\n",
       "      <td>ABD_UD_004</td>\n",
       "      <td>C[C@H](CCC(O[C@H](C[C@@H]([C@@H]1CC2)[C@H]3[C@...</td>\n",
       "      <td>27.0</td>\n",
       "      <td>14.0</td>\n",
       "      <td>18.0</td>\n",
       "      <td>-3.5356</td>\n",
       "      <td>418.89</td>\n",
       "      <td>1195.309</td>\n",
       "      <td>83.0</td>\n",
       "      <td>83.0</td>\n",
       "      <td>83.0</td>\n",
       "      <td>AFRODB</td>\n",
       "      <td>AFRODB</td>\n",
       "    </tr>\n",
       "    <tr>\n",
       "      <th>2</th>\n",
       "      <td>AfroDb.70</td>\n",
       "      <td>ABD_UD_003</td>\n",
       "      <td>C[C@H](CC[C@@]([C@H]1C)(OC)O[C@H](C2)[C@H]1[C@...</td>\n",
       "      <td>26.0</td>\n",
       "      <td>14.0</td>\n",
       "      <td>17.0</td>\n",
       "      <td>-2.6588</td>\n",
       "      <td>393.98</td>\n",
       "      <td>1195.353</td>\n",
       "      <td>83.0</td>\n",
       "      <td>83.0</td>\n",
       "      <td>83.0</td>\n",
       "      <td>AFRODB</td>\n",
       "      <td>AFRODB</td>\n",
       "    </tr>\n",
       "    <tr>\n",
       "      <th>3</th>\n",
       "      <td>AfroDb.937</td>\n",
       "      <td>WA_0086</td>\n",
       "      <td>COc(cc(/C=C/C(OCCCCCCCCCCCCCCCCCCCCCCCCCCCCCCC...</td>\n",
       "      <td>11.0</td>\n",
       "      <td>3.0</td>\n",
       "      <td>61.0</td>\n",
       "      <td>16.9936</td>\n",
       "      <td>201.42</td>\n",
       "      <td>1117.597</td>\n",
       "      <td>79.0</td>\n",
       "      <td>79.0</td>\n",
       "      <td>79.0</td>\n",
       "      <td>AFRODB</td>\n",
       "      <td>AFRODB</td>\n",
       "    </tr>\n",
       "    <tr>\n",
       "      <th>4</th>\n",
       "      <td>AfroDb.936</td>\n",
       "      <td>WA_0085</td>\n",
       "      <td>COc(cc(/C=C/C(OCCCCCCCCCCCCCCCCCCCCCCCCCCCCCCC...</td>\n",
       "      <td>8.0</td>\n",
       "      <td>3.0</td>\n",
       "      <td>52.0</td>\n",
       "      <td>17.0180</td>\n",
       "      <td>122.52</td>\n",
       "      <td>943.489</td>\n",
       "      <td>67.0</td>\n",
       "      <td>67.0</td>\n",
       "      <td>67.0</td>\n",
       "      <td>AFRODB</td>\n",
       "      <td>AFRODB</td>\n",
       "    </tr>\n",
       "  </tbody>\n",
       "</table>\n",
       "</div>"
      ],
      "text/plain": [
       "  ID Database        Name                                             SMILES  \\\n",
       "0  AfroDb.564   NPR_00036  CCCCCCCCCCCCCCCCCCCCCCCCCCCCCCCCCCCCCCCCCCC(OC...   \n",
       "1   AfroDb.71  ABD_UD_004  C[C@H](CCC(O[C@H](C[C@@H]([C@@H]1CC2)[C@H]3[C@...   \n",
       "2   AfroDb.70  ABD_UD_003  C[C@H](CC[C@@]([C@H]1C)(OC)O[C@H](C2)[C@H]1[C@...   \n",
       "3  AfroDb.937     WA_0086  COc(cc(/C=C/C(OCCCCCCCCCCCCCCCCCCCCCCCCCCCCCCC...   \n",
       "4  AfroDb.936     WA_0085  COc(cc(/C=C/C(OCCCCCCCCCCCCCCCCCCCCCCCCCCCCCCC...   \n",
       "\n",
       "    HBA   HBD    RB     LogP    TPSA        MW  Heavy Atom  Ring Count  \\\n",
       "0   7.0   3.0  51.0  22.4139  105.45  1194.003        85.0        85.0   \n",
       "1  27.0  14.0  18.0  -3.5356  418.89  1195.309        83.0        83.0   \n",
       "2  26.0  14.0  17.0  -2.6588  393.98  1195.353        83.0        83.0   \n",
       "3  11.0   3.0  61.0  16.9936  201.42  1117.597        79.0        79.0   \n",
       "4   8.0   3.0  52.0  17.0180  122.52   943.489        67.0        67.0   \n",
       "\n",
       "   Fraction CSP3 subLibrary Library  \n",
       "0           85.0     AFRODB  AFRODB  \n",
       "1           83.0     AFRODB  AFRODB  \n",
       "2           83.0     AFRODB  AFRODB  \n",
       "3           79.0     AFRODB  AFRODB  \n",
       "4           67.0     AFRODB  AFRODB  "
      ]
     },
     "execution_count": 2,
     "metadata": {},
     "output_type": "execute_result"
    }
   ],
   "source": [
    "Data = pd.read_csv(\"Databases_CABANA_2.csv\", sep = \",\", index_col = \"Unnamed: 0\")\n",
    "Data.head()"
   ]
  },
  {
   "cell_type": "code",
   "execution_count": 3,
   "metadata": {},
   "outputs": [
    {
     "data": {
      "text/plain": [
       "Index(['ID Database', 'Name', 'SMILES', 'HBA', 'HBD', 'RB', 'LogP', 'TPSA',\n",
       "       'MW', 'Heavy Atom', 'Ring Count', 'Fraction CSP3', 'subLibrary',\n",
       "       'Library'],\n",
       "      dtype='object')"
      ]
     },
     "execution_count": 3,
     "metadata": {},
     "output_type": "execute_result"
    }
   ],
   "source": [
    "#visualize column names\n",
    "Data.columns"
   ]
  },
  {
   "cell_type": "code",
   "execution_count": 4,
   "metadata": {},
   "outputs": [
    {
     "data": {
      "text/plain": [
       "array(['AFRODB', 'BIOFACQUIM', 'Epidatabase', 'FDA', 'PPI'], dtype=object)"
      ]
     },
     "execution_count": 4,
     "metadata": {},
     "output_type": "execute_result"
    }
   ],
   "source": [
    "#Identify libraries\n",
    "Data.Library.unique()"
   ]
  },
  {
   "cell_type": "markdown",
   "metadata": {},
   "source": [
    "## Exploratory Data Analysis"
   ]
  },
  {
   "cell_type": "code",
   "execution_count": 5,
   "metadata": {},
   "outputs": [
    {
     "data": {
      "text/plain": [
       "<matplotlib.axes._subplots.AxesSubplot at 0x7f63305dc278>"
      ]
     },
     "execution_count": 5,
     "metadata": {},
     "output_type": "execute_result"
    },
    {
     "data": {
      "image/png": "[encoded data removed]",
      "text/plain": [
       "<Figure size 432x288 with 1 Axes>"
      ]
     },
     "metadata": {
      "needs_background": "light"
     },
     "output_type": "display_data"
    }
   ],
   "source": [
    "#Plot a Descriptor\n",
    "sns.boxplot(x = \"Library\", y = Data[\"HBA\"], data=Data)"
   ]
  },
  {
   "cell_type": "code",
   "execution_count": 6,
   "metadata": {},
   "outputs": [],
   "source": [
    "#select numerical Data\n",
    "numerical_descriptors = ['HBA', 'HBD', 'RB','LogP', 'TPSA', 'MW']"
   ]
  },
  {
   "cell_type": "code",
   "execution_count": 7,
   "metadata": {},
   "outputs": [],
   "source": [
    "#Save Numerical Data into a new DF\n",
    "numerical_data = Data[numerical_descriptors]"
   ]
  },
  {
   "cell_type": "code",
   "execution_count": 8,
   "metadata": {},
   "outputs": [
    {
     "data": {
      "text/html": [
       "<div>\n",
       "<style scoped>\n",
       "    .dataframe tbody tr th:only-of-type {\n",
       "        vertical-align: middle;\n",
       "    }\n",
       "\n",
       "    .dataframe tbody tr th {\n",
       "        vertical-align: top;\n",
       "    }\n",
       "\n",
       "    .dataframe thead th {\n",
       "        text-align: right;\n",
       "    }\n",
       "</style>\n",
       "<table border=\"1\" class=\"dataframe\">\n",
       "  <thead>\n",
       "    <tr style=\"text-align: right;\">\n",
       "      <th></th>\n",
       "      <th>HBA</th>\n",
       "      <th>HBD</th>\n",
       "      <th>RB</th>\n",
       "      <th>LogP</th>\n",
       "      <th>TPSA</th>\n",
       "      <th>MW</th>\n",
       "    </tr>\n",
       "  </thead>\n",
       "  <tbody>\n",
       "    <tr>\n",
       "      <th>count</th>\n",
       "      <td>21084.000000</td>\n",
       "      <td>21084.000000</td>\n",
       "      <td>21084.000000</td>\n",
       "      <td>21084.000000</td>\n",
       "      <td>21084.000000</td>\n",
       "      <td>21084.000000</td>\n",
       "    </tr>\n",
       "    <tr>\n",
       "      <th>mean</th>\n",
       "      <td>5.448065</td>\n",
       "      <td>2.389869</td>\n",
       "      <td>6.465282</td>\n",
       "      <td>3.245990</td>\n",
       "      <td>93.442773</td>\n",
       "      <td>409.114843</td>\n",
       "    </tr>\n",
       "    <tr>\n",
       "      <th>std</th>\n",
       "      <td>3.443007</td>\n",
       "      <td>2.821554</td>\n",
       "      <td>5.897002</td>\n",
       "      <td>2.235868</td>\n",
       "      <td>75.909175</td>\n",
       "      <td>186.042341</td>\n",
       "    </tr>\n",
       "    <tr>\n",
       "      <th>min</th>\n",
       "      <td>0.000000</td>\n",
       "      <td>0.000000</td>\n",
       "      <td>0.000000</td>\n",
       "      <td>-83.666800</td>\n",
       "      <td>0.000000</td>\n",
       "      <td>16.043000</td>\n",
       "    </tr>\n",
       "    <tr>\n",
       "      <th>25%</th>\n",
       "      <td>4.000000</td>\n",
       "      <td>1.000000</td>\n",
       "      <td>4.000000</td>\n",
       "      <td>2.238600</td>\n",
       "      <td>64.977500</td>\n",
       "      <td>320.370000</td>\n",
       "    </tr>\n",
       "    <tr>\n",
       "      <th>50%</th>\n",
       "      <td>5.000000</td>\n",
       "      <td>2.000000</td>\n",
       "      <td>5.000000</td>\n",
       "      <td>3.296200</td>\n",
       "      <td>83.830000</td>\n",
       "      <td>387.139500</td>\n",
       "    </tr>\n",
       "    <tr>\n",
       "      <th>75%</th>\n",
       "      <td>6.000000</td>\n",
       "      <td>3.000000</td>\n",
       "      <td>8.000000</td>\n",
       "      <td>4.312800</td>\n",
       "      <td>106.877500</td>\n",
       "      <td>462.407000</td>\n",
       "    </tr>\n",
       "    <tr>\n",
       "      <th>max</th>\n",
       "      <td>191.000000</td>\n",
       "      <td>116.000000</td>\n",
       "      <td>169.000000</td>\n",
       "      <td>22.413900</td>\n",
       "      <td>3038.930000</td>\n",
       "      <td>6179.373000</td>\n",
       "    </tr>\n",
       "  </tbody>\n",
       "</table>\n",
       "</div>"
      ],
      "text/plain": [
       "                HBA           HBD            RB          LogP          TPSA  \\\n",
       "count  21084.000000  21084.000000  21084.000000  21084.000000  21084.000000   \n",
       "mean       5.448065      2.389869      6.465282      3.245990     93.442773   \n",
       "std        3.443007      2.821554      5.897002      2.235868     75.909175   \n",
       "min        0.000000      0.000000      0.000000    -83.666800      0.000000   \n",
       "25%        4.000000      1.000000      4.000000      2.238600     64.977500   \n",
       "50%        5.000000      2.000000      5.000000      3.296200     83.830000   \n",
       "75%        6.000000      3.000000      8.000000      4.312800    106.877500   \n",
       "max      191.000000    116.000000    169.000000     22.413900   3038.930000   \n",
       "\n",
       "                 MW  \n",
       "count  21084.000000  \n",
       "mean     409.114843  \n",
       "std      186.042341  \n",
       "min       16.043000  \n",
       "25%      320.370000  \n",
       "50%      387.139500  \n",
       "75%      462.407000  \n",
       "max     6179.373000  "
      ]
     },
     "execution_count": 8,
     "metadata": {},
     "output_type": "execute_result"
    }
   ],
   "source": [
    "#Statistical values\n",
    "numerical_data.describe()"
   ]
  },
  {
   "cell_type": "code",
   "execution_count": 9,
   "metadata": {},
   "outputs": [
    {
     "data": {
      "text/html": [
       "<div>\n",
       "<style scoped>\n",
       "    .dataframe tbody tr th:only-of-type {\n",
       "        vertical-align: middle;\n",
       "    }\n",
       "\n",
       "    .dataframe tbody tr th {\n",
       "        vertical-align: top;\n",
       "    }\n",
       "\n",
       "    .dataframe thead th {\n",
       "        text-align: right;\n",
       "    }\n",
       "</style>\n",
       "<table border=\"1\" class=\"dataframe\">\n",
       "  <thead>\n",
       "    <tr style=\"text-align: right;\">\n",
       "      <th></th>\n",
       "      <th>HBA</th>\n",
       "      <th>HBD</th>\n",
       "      <th>RB</th>\n",
       "      <th>LogP</th>\n",
       "      <th>TPSA</th>\n",
       "      <th>MW</th>\n",
       "    </tr>\n",
       "  </thead>\n",
       "  <tbody>\n",
       "    <tr>\n",
       "      <th>HBA</th>\n",
       "      <td>1.000000</td>\n",
       "      <td>0.717281</td>\n",
       "      <td>0.677813</td>\n",
       "      <td>-0.349287</td>\n",
       "      <td>0.866372</td>\n",
       "      <td>0.814347</td>\n",
       "    </tr>\n",
       "    <tr>\n",
       "      <th>HBD</th>\n",
       "      <td>0.717281</td>\n",
       "      <td>1.000000</td>\n",
       "      <td>0.769447</td>\n",
       "      <td>-0.499214</td>\n",
       "      <td>0.929746</td>\n",
       "      <td>0.709818</td>\n",
       "    </tr>\n",
       "    <tr>\n",
       "      <th>RB</th>\n",
       "      <td>0.677813</td>\n",
       "      <td>0.769447</td>\n",
       "      <td>1.000000</td>\n",
       "      <td>-0.160490</td>\n",
       "      <td>0.806619</td>\n",
       "      <td>0.818425</td>\n",
       "    </tr>\n",
       "    <tr>\n",
       "      <th>LogP</th>\n",
       "      <td>-0.349287</td>\n",
       "      <td>-0.499214</td>\n",
       "      <td>-0.160490</td>\n",
       "      <td>1.000000</td>\n",
       "      <td>-0.477352</td>\n",
       "      <td>-0.006784</td>\n",
       "    </tr>\n",
       "    <tr>\n",
       "      <th>TPSA</th>\n",
       "      <td>0.866372</td>\n",
       "      <td>0.929746</td>\n",
       "      <td>0.806619</td>\n",
       "      <td>-0.477352</td>\n",
       "      <td>1.000000</td>\n",
       "      <td>0.820930</td>\n",
       "    </tr>\n",
       "  </tbody>\n",
       "</table>\n",
       "</div>"
      ],
      "text/plain": [
       "           HBA       HBD        RB      LogP      TPSA        MW\n",
       "HBA   1.000000  0.717281  0.677813 -0.349287  0.866372  0.814347\n",
       "HBD   0.717281  1.000000  0.769447 -0.499214  0.929746  0.709818\n",
       "RB    0.677813  0.769447  1.000000 -0.160490  0.806619  0.818425\n",
       "LogP -0.349287 -0.499214 -0.160490  1.000000 -0.477352 -0.006784\n",
       "TPSA  0.866372  0.929746  0.806619 -0.477352  1.000000  0.820930"
      ]
     },
     "execution_count": 9,
     "metadata": {},
     "output_type": "execute_result"
    }
   ],
   "source": [
    "#Correlation\n",
    "Correlation = numerical_data.corr()\n",
    "Correlation.head()"
   ]
  },
  {
   "cell_type": "code",
   "execution_count": 10,
   "metadata": {},
   "outputs": [
    {
     "data": {
      "image/png": "[encoded data removed]",
      "text/plain": [
       "<Figure size 432x288 with 2 Axes>"
      ]
     },
     "metadata": {
      "needs_background": "light"
     },
     "output_type": "display_data"
    }
   ],
   "source": [
    "sns.heatmap(numerical_data.corr())\n",
    "plt.savefig(\"correlacion_inicial.png\")"
   ]
  },
  {
   "cell_type": "markdown",
   "metadata": {},
   "source": [
    "## Normalize Data"
   ]
  },
  {
   "cell_type": "code",
   "execution_count": 11,
   "metadata": {
    "scrolled": true
   },
   "outputs": [
    {
     "data": {
      "text/html": [
       "<div>\n",
       "<style scoped>\n",
       "    .dataframe tbody tr th:only-of-type {\n",
       "        vertical-align: middle;\n",
       "    }\n",
       "\n",
       "    .dataframe tbody tr th {\n",
       "        vertical-align: top;\n",
       "    }\n",
       "\n",
       "    .dataframe thead th {\n",
       "        text-align: right;\n",
       "    }\n",
       "</style>\n",
       "<table border=\"1\" class=\"dataframe\">\n",
       "  <thead>\n",
       "    <tr style=\"text-align: right;\">\n",
       "      <th></th>\n",
       "      <th>0</th>\n",
       "      <th>1</th>\n",
       "      <th>2</th>\n",
       "      <th>3</th>\n",
       "      <th>4</th>\n",
       "      <th>5</th>\n",
       "    </tr>\n",
       "  </thead>\n",
       "  <tbody>\n",
       "    <tr>\n",
       "      <th>0</th>\n",
       "      <td>0.450761</td>\n",
       "      <td>0.216244</td>\n",
       "      <td>7.552274</td>\n",
       "      <td>8.573121</td>\n",
       "      <td>0.158183</td>\n",
       "      <td>4.218968</td>\n",
       "    </tr>\n",
       "    <tr>\n",
       "      <th>1</th>\n",
       "      <td>6.259774</td>\n",
       "      <td>4.114898</td>\n",
       "      <td>1.956077</td>\n",
       "      <td>-3.033163</td>\n",
       "      <td>4.287426</td>\n",
       "      <td>4.225989</td>\n",
       "    </tr>\n",
       "    <tr>\n",
       "      <th>2</th>\n",
       "      <td>5.969324</td>\n",
       "      <td>4.114898</td>\n",
       "      <td>1.786496</td>\n",
       "      <td>-2.641002</td>\n",
       "      <td>3.959263</td>\n",
       "      <td>4.226225</td>\n",
       "    </tr>\n",
       "    <tr>\n",
       "      <th>3</th>\n",
       "      <td>1.612563</td>\n",
       "      <td>0.216244</td>\n",
       "      <td>9.248091</td>\n",
       "      <td>6.148815</td>\n",
       "      <td>1.422487</td>\n",
       "      <td>3.808267</td>\n",
       "    </tr>\n",
       "    <tr>\n",
       "      <th>4</th>\n",
       "      <td>0.741211</td>\n",
       "      <td>0.216244</td>\n",
       "      <td>7.721856</td>\n",
       "      <td>6.159728</td>\n",
       "      <td>0.383062</td>\n",
       "      <td>2.872394</td>\n",
       "    </tr>\n",
       "  </tbody>\n",
       "</table>\n",
       "</div>"
      ],
      "text/plain": [
       "          0         1         2         3         4         5\n",
       "0  0.450761  0.216244  7.552274  8.573121  0.158183  4.218968\n",
       "1  6.259774  4.114898  1.956077 -3.033163  4.287426  4.225989\n",
       "2  5.969324  4.114898  1.786496 -2.641002  3.959263  4.226225\n",
       "3  1.612563  0.216244  9.248091  6.148815  1.422487  3.808267\n",
       "4  0.741211  0.216244  7.721856  6.159728  0.383062  2.872394"
      ]
     },
     "execution_count": 11,
     "metadata": {},
     "output_type": "execute_result"
    }
   ],
   "source": [
    "numerical_data = pd.DataFrame(StandardScaler().fit_transform(numerical_data))\n",
    "# Calculate the principal components using scikit-learn\n",
    "sklearn_pca = sklearn.decomposition.PCA() #call the method\n",
    "sklearn_pca.fit(numerical_data)           #execute\n",
    "numerical_data.head()"
   ]
  },
  {
   "cell_type": "markdown",
   "metadata": {},
   "source": [
    "# Machine Learning Model"
   ]
  },
  {
   "cell_type": "markdown",
   "metadata": {},
   "source": [
    "## PCA"
   ]
  },
  {
   "cell_type": "code",
   "execution_count": 12,
   "metadata": {},
   "outputs": [],
   "source": [
    "#Assign Model\n",
    "sklearn_pca = sklearn.decomposition.PCA(n_components=6, svd_solver = \"full\", whiten = True)"
   ]
  },
  {
   "cell_type": "code",
   "execution_count": 13,
   "metadata": {},
   "outputs": [
    {
     "data": {
      "text/plain": [
       "PCA(copy=True, iterated_power='auto', n_components=6, random_state=None,\n",
       "  svd_solver='full', tol=0.0, whiten=True)"
      ]
     },
     "execution_count": 13,
     "metadata": {},
     "output_type": "execute_result"
    }
   ],
   "source": [
    "#Train model\n",
    "sklearn_pca.fit(numerical_data)"
   ]
  },
  {
   "cell_type": "code",
   "execution_count": 14,
   "metadata": {},
   "outputs": [
    {
     "data": {
      "text/html": [
       "<div>\n",
       "<style scoped>\n",
       "    .dataframe tbody tr th:only-of-type {\n",
       "        vertical-align: middle;\n",
       "    }\n",
       "\n",
       "    .dataframe tbody tr th {\n",
       "        vertical-align: top;\n",
       "    }\n",
       "\n",
       "    .dataframe thead th {\n",
       "        text-align: right;\n",
       "    }\n",
       "</style>\n",
       "<table border=\"1\" class=\"dataframe\">\n",
       "  <thead>\n",
       "    <tr style=\"text-align: right;\">\n",
       "      <th></th>\n",
       "      <th>PC 1</th>\n",
       "      <th>PC 2</th>\n",
       "      <th>PC 3</th>\n",
       "      <th>PC 4</th>\n",
       "      <th>PC 5</th>\n",
       "      <th>PC 6</th>\n",
       "    </tr>\n",
       "  </thead>\n",
       "  <tbody>\n",
       "    <tr>\n",
       "      <th>0</th>\n",
       "      <td>1.727453</td>\n",
       "      <td>-10.481176</td>\n",
       "      <td>-5.764133</td>\n",
       "      <td>5.010820</td>\n",
       "      <td>4.673651</td>\n",
       "      <td>0.762974</td>\n",
       "    </tr>\n",
       "    <tr>\n",
       "      <th>1</th>\n",
       "      <td>4.698225</td>\n",
       "      <td>1.221082</td>\n",
       "      <td>4.772969</td>\n",
       "      <td>-1.260738</td>\n",
       "      <td>0.375039</td>\n",
       "      <td>4.067114</td>\n",
       "    </tr>\n",
       "    <tr>\n",
       "      <th>2</th>\n",
       "      <td>4.491176</td>\n",
       "      <td>0.917275</td>\n",
       "      <td>4.549075</td>\n",
       "      <td>-1.782514</td>\n",
       "      <td>0.259125</td>\n",
       "      <td>5.050090</td>\n",
       "    </tr>\n",
       "    <tr>\n",
       "      <th>3</th>\n",
       "      <td>2.750055</td>\n",
       "      <td>-8.639492</td>\n",
       "      <td>-5.919068</td>\n",
       "      <td>9.498894</td>\n",
       "      <td>5.840558</td>\n",
       "      <td>-2.650968</td>\n",
       "    </tr>\n",
       "    <tr>\n",
       "      <th>4</th>\n",
       "      <td>1.833588</td>\n",
       "      <td>-7.986786</td>\n",
       "      <td>-5.872903</td>\n",
       "      <td>7.344716</td>\n",
       "      <td>6.014168</td>\n",
       "      <td>0.041645</td>\n",
       "    </tr>\n",
       "  </tbody>\n",
       "</table>\n",
       "</div>"
      ],
      "text/plain": [
       "       PC 1       PC 2      PC 3      PC 4      PC 5      PC 6\n",
       "0  1.727453 -10.481176 -5.764133  5.010820  4.673651  0.762974\n",
       "1  4.698225   1.221082  4.772969 -1.260738  0.375039  4.067114\n",
       "2  4.491176   0.917275  4.549075 -1.782514  0.259125  5.050090\n",
       "3  2.750055  -8.639492 -5.919068  9.498894  5.840558 -2.650968\n",
       "4  1.833588  -7.986786 -5.872903  7.344716  6.014168  0.041645"
      ]
     },
     "execution_count": 14,
     "metadata": {},
     "output_type": "execute_result"
    }
   ],
   "source": [
    "#Show PCA results\n",
    "pca_result = pd.DataFrame(sklearn_pca.transform(numerical_data), columns=['PC 1','PC 2',\"PC 3\", 'PC 4','PC 5',\"PC 6\"])\n",
    "pca_result.head()"
   ]
  },
  {
   "cell_type": "code",
   "execution_count": 18,
   "metadata": {},
   "outputs": [
    {
     "name": "stdout",
     "output_type": "stream",
     "text": [
      "       PC 1       PC 2      PC 3      PC 4      PC 5      PC 6 Library  \\\n",
      "0  1.727453 -10.481176 -5.764133  5.010820  4.673651  0.762974  AFRODB   \n",
      "1  4.698225   1.221082  4.772969 -1.260738  0.375039  4.067114  AFRODB   \n",
      "2  4.491176   0.917275  4.549075 -1.782514  0.259125  5.050090  AFRODB   \n",
      "3  2.750055  -8.639492 -5.919068  9.498894  5.840558 -2.650968  AFRODB   \n",
      "4  1.833588  -7.986786 -5.872903  7.344716  6.014168  0.041645  AFRODB   \n",
      "\n",
      "                                              SMILES        Name  \n",
      "0  CCCCCCCCCCCCCCCCCCCCCCCCCCCCCCCCCCCCCCCCCCC(OC...   NPR_00036  \n",
      "1  C[C@H](CCC(O[C@H](C[C@@H]([C@@H]1CC2)[C@H]3[C@...  ABD_UD_004  \n",
      "2  C[C@H](CC[C@@]([C@H]1C)(OC)O[C@H](C2)[C@H]1[C@...  ABD_UD_003  \n",
      "3  COc(cc(/C=C/C(OCCCCCCCCCCCCCCCCCCCCCCCCCCCCCCC...     WA_0086  \n",
      "4  COc(cc(/C=C/C(OCCCCCCCCCCCCCCCCCCCCCCCCCCCCCCC...     WA_0085  \n"
     ]
    }
   ],
   "source": [
    "\"\"\"Merge Names and SMILES\"\"\"\n",
    "pca_result[\"Library\"] = Data.Library\n",
    "pca_result[\"SMILES\"] = Data.SMILES\n",
    "pca_result[\"Name\"] = Data.Name\n",
    "print(pca_result.head())"
   ]
  },
  {
   "cell_type": "code",
   "execution_count": 20,
   "metadata": {},
   "outputs": [
    {
     "name": "stdout",
     "output_type": "stream",
     "text": [
      "Variance PC 1: 71.91\n",
      "Variance PC 2: 18.01\n"
     ]
    }
   ],
   "source": [
    "variance = list(sklearn_pca.explained_variance_ratio_)\n",
    "a = round(variance[0] * 100, 2)\n",
    "b = round(variance[1] * 100, 2)\n",
    "print(\"Variance PC 1:\", str(a))\n",
    "print(\"Variance PC 2:\", str(b))"
   ]
  },
  {
   "cell_type": "markdown",
   "metadata": {},
   "source": [
    "## Save results as .csv File"
   ]
  },
  {
   "cell_type": "code",
   "execution_count": 16,
   "metadata": {},
   "outputs": [],
   "source": [
    "pca_result.to_csv(\"Results_PCA.csv\", sep = \",\")"
   ]
  },
  {
   "cell_type": "markdown",
   "metadata": {},
   "source": []
  }
 ],
 "metadata": {
  "kernelspec": {
   "display_name": "Python 3",
   "language": "python",
   "name": "python3"
  },
  "language_info": {
   "codemirror_mode": {
    "name": "ipython",
    "version": 3
   },
   "file_extension": ".py",
   "mimetype": "text/x-python",
   "name": "python",
   "nbconvert_exporter": "python",
   "pygments_lexer": "ipython3",
   "version": "3.7.3"
  }
 },
 "nbformat": 4,
 "nbformat_minor": 2
}
