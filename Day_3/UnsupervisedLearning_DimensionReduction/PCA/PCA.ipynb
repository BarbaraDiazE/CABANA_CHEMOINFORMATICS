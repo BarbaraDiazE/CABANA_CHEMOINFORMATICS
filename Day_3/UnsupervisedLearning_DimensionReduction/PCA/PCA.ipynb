{
 "cells": [
  {
   "cell_type": "markdown",
   "metadata": {},
   "source": [
    "# PCA"
   ]
  },
  {
   "cell_type": "markdown",
   "metadata": {},
   "source": [
    "## Principal Component Analysis\n",
    "\n",
    "Objective: Explore Chemical Space of Biofacquim against the world.\n",
    "           Perform PCA and save output.\n",
    "\n",
    "Data: ADME descriptors for 5 libraries.\n",
    "    Libraries:\n",
    "        AFRODB,\n",
    "        BIOFACQUIM,\n",
    "        Epidatabase,\n",
    "        FDA, \n",
    "        PPI,\n",
    "        \n",
    "   Descriptors (ADME):\n",
    "        HBA,\n",
    "        HBD,\n",
    "        RB,\n",
    "        LogP,\n",
    "        TPSA, \n",
    "        MW, \n",
    "   \n",
    "Method: PCA"
   ]
  },
  {
   "cell_type": "markdown",
   "metadata": {},
   "source": [
    "## Import Libraries"
   ]
  },
  {
   "cell_type": "code",
   "execution_count": 2,
   "metadata": {},
   "outputs": [],
   "source": [
    "import pandas as pd\n",
    "import numpy as np\n",
    "\n",
    "#import seaborn as sns\n",
    "#import matplotlib.pyplot as plt\n",
    "\n",
    "import sklearn\n",
    "from sklearn import datasets, decomposition\n",
    "from sklearn.preprocessing import StandardScaler"
   ]
  },
  {
   "cell_type": "markdown",
   "metadata": {},
   "source": [
    "## Open Database"
   ]
  },
  {
   "cell_type": "code",
   "execution_count": 3,
   "metadata": {},
   "outputs": [
    {
     "data": {
      "text/html": [
       "<div>\n",
       "<style scoped>\n",
       "    .dataframe tbody tr th:only-of-type {\n",
       "        vertical-align: middle;\n",
       "    }\n",
       "\n",
       "    .dataframe tbody tr th {\n",
       "        vertical-align: top;\n",
       "    }\n",
       "\n",
       "    .dataframe thead th {\n",
       "        text-align: right;\n",
       "    }\n",
       "</style>\n",
       "<table border=\"1\" class=\"dataframe\">\n",
       "  <thead>\n",
       "    <tr style=\"text-align: right;\">\n",
       "      <th></th>\n",
       "      <th>ID Database</th>\n",
       "      <th>Name</th>\n",
       "      <th>SMILES</th>\n",
       "      <th>HBA</th>\n",
       "      <th>HBD</th>\n",
       "      <th>RB</th>\n",
       "      <th>LogP</th>\n",
       "      <th>TPSA</th>\n",
       "      <th>MW</th>\n",
       "      <th>Heavy Atom</th>\n",
       "      <th>Ring Count</th>\n",
       "      <th>Fraction CSP3</th>\n",
       "      <th>subLibrary</th>\n",
       "      <th>Library</th>\n",
       "    </tr>\n",
       "  </thead>\n",
       "  <tbody>\n",
       "    <tr>\n",
       "      <th>0</th>\n",
       "      <td>AfroDb.564</td>\n",
       "      <td>NPR_00036</td>\n",
       "      <td>CCCCCCCCCCCCCCCCCCCCCCCCCCCCCCCCCCCCCCCCCCC(OC...</td>\n",
       "      <td>7.0</td>\n",
       "      <td>3.0</td>\n",
       "      <td>51.0</td>\n",
       "      <td>22.4139</td>\n",
       "      <td>105.45</td>\n",
       "      <td>1194.003</td>\n",
       "      <td>85.0</td>\n",
       "      <td>85.0</td>\n",
       "      <td>85.0</td>\n",
       "      <td>AFRODB</td>\n",
       "      <td>AFRODB</td>\n",
       "    </tr>\n",
       "    <tr>\n",
       "      <th>1</th>\n",
       "      <td>AfroDb.71</td>\n",
       "      <td>ABD_UD_004</td>\n",
       "      <td>C[C@H](CCC(O[C@H](C[C@@H]([C@@H]1CC2)[C@H]3[C@...</td>\n",
       "      <td>27.0</td>\n",
       "      <td>14.0</td>\n",
       "      <td>18.0</td>\n",
       "      <td>-3.5356</td>\n",
       "      <td>418.89</td>\n",
       "      <td>1195.309</td>\n",
       "      <td>83.0</td>\n",
       "      <td>83.0</td>\n",
       "      <td>83.0</td>\n",
       "      <td>AFRODB</td>\n",
       "      <td>AFRODB</td>\n",
       "    </tr>\n",
       "    <tr>\n",
       "      <th>2</th>\n",
       "      <td>AfroDb.70</td>\n",
       "      <td>ABD_UD_003</td>\n",
       "      <td>C[C@H](CC[C@@]([C@H]1C)(OC)O[C@H](C2)[C@H]1[C@...</td>\n",
       "      <td>26.0</td>\n",
       "      <td>14.0</td>\n",
       "      <td>17.0</td>\n",
       "      <td>-2.6588</td>\n",
       "      <td>393.98</td>\n",
       "      <td>1195.353</td>\n",
       "      <td>83.0</td>\n",
       "      <td>83.0</td>\n",
       "      <td>83.0</td>\n",
       "      <td>AFRODB</td>\n",
       "      <td>AFRODB</td>\n",
       "    </tr>\n",
       "    <tr>\n",
       "      <th>3</th>\n",
       "      <td>AfroDb.937</td>\n",
       "      <td>WA_0086</td>\n",
       "      <td>COc(cc(/C=C/C(OCCCCCCCCCCCCCCCCCCCCCCCCCCCCCCC...</td>\n",
       "      <td>11.0</td>\n",
       "      <td>3.0</td>\n",
       "      <td>61.0</td>\n",
       "      <td>16.9936</td>\n",
       "      <td>201.42</td>\n",
       "      <td>1117.597</td>\n",
       "      <td>79.0</td>\n",
       "      <td>79.0</td>\n",
       "      <td>79.0</td>\n",
       "      <td>AFRODB</td>\n",
       "      <td>AFRODB</td>\n",
       "    </tr>\n",
       "    <tr>\n",
       "      <th>4</th>\n",
       "      <td>AfroDb.936</td>\n",
       "      <td>WA_0085</td>\n",
       "      <td>COc(cc(/C=C/C(OCCCCCCCCCCCCCCCCCCCCCCCCCCCCCCC...</td>\n",
       "      <td>8.0</td>\n",
       "      <td>3.0</td>\n",
       "      <td>52.0</td>\n",
       "      <td>17.0180</td>\n",
       "      <td>122.52</td>\n",
       "      <td>943.489</td>\n",
       "      <td>67.0</td>\n",
       "      <td>67.0</td>\n",
       "      <td>67.0</td>\n",
       "      <td>AFRODB</td>\n",
       "      <td>AFRODB</td>\n",
       "    </tr>\n",
       "  </tbody>\n",
       "</table>\n",
       "</div>"
      ],
      "text/plain": [
       "  ID Database        Name                                             SMILES  \\\n",
       "0  AfroDb.564   NPR_00036  CCCCCCCCCCCCCCCCCCCCCCCCCCCCCCCCCCCCCCCCCCC(OC...   \n",
       "1   AfroDb.71  ABD_UD_004  C[C@H](CCC(O[C@H](C[C@@H]([C@@H]1CC2)[C@H]3[C@...   \n",
       "2   AfroDb.70  ABD_UD_003  C[C@H](CC[C@@]([C@H]1C)(OC)O[C@H](C2)[C@H]1[C@...   \n",
       "3  AfroDb.937     WA_0086  COc(cc(/C=C/C(OCCCCCCCCCCCCCCCCCCCCCCCCCCCCCCC...   \n",
       "4  AfroDb.936     WA_0085  COc(cc(/C=C/C(OCCCCCCCCCCCCCCCCCCCCCCCCCCCCCCC...   \n",
       "\n",
       "    HBA   HBD    RB     LogP    TPSA        MW  Heavy Atom  Ring Count  \\\n",
       "0   7.0   3.0  51.0  22.4139  105.45  1194.003        85.0        85.0   \n",
       "1  27.0  14.0  18.0  -3.5356  418.89  1195.309        83.0        83.0   \n",
       "2  26.0  14.0  17.0  -2.6588  393.98  1195.353        83.0        83.0   \n",
       "3  11.0   3.0  61.0  16.9936  201.42  1117.597        79.0        79.0   \n",
       "4   8.0   3.0  52.0  17.0180  122.52   943.489        67.0        67.0   \n",
       "\n",
       "   Fraction CSP3 subLibrary Library  \n",
       "0           85.0     AFRODB  AFRODB  \n",
       "1           83.0     AFRODB  AFRODB  \n",
       "2           83.0     AFRODB  AFRODB  \n",
       "3           79.0     AFRODB  AFRODB  \n",
       "4           67.0     AFRODB  AFRODB  "
      ]
     },
     "execution_count": 3,
     "metadata": {},
     "output_type": "execute_result"
    }
   ],
   "source": [
    "Data = pd.read_csv(\"Databases_CABANA_2.csv\", sep = \",\", index_col = \"Unnamed: 0\")\n",
    "Data.head()"
   ]
  },
  {
   "cell_type": "code",
   "execution_count": 4,
   "metadata": {},
   "outputs": [
    {
     "data": {
      "text/plain": [
       "(21084, 14)"
      ]
     },
     "execution_count": 4,
     "metadata": {},
     "output_type": "execute_result"
    }
   ],
   "source": [
    "Data.shape"
   ]
  },
  {
   "cell_type": "code",
   "execution_count": 5,
   "metadata": {},
   "outputs": [
    {
     "data": {
      "text/plain": [
       "Index(['ID Database', 'Name', 'SMILES', 'HBA', 'HBD', 'RB', 'LogP', 'TPSA',\n",
       "       'MW', 'Heavy Atom', 'Ring Count', 'Fraction CSP3', 'subLibrary',\n",
       "       'Library'],\n",
       "      dtype='object')"
      ]
     },
     "execution_count": 5,
     "metadata": {},
     "output_type": "execute_result"
    }
   ],
   "source": [
    "#visualize column names\n",
    "Data.columns"
   ]
  },
  {
   "cell_type": "code",
   "execution_count": 7,
   "metadata": {},
   "outputs": [
    {
     "data": {
      "text/plain": [
       "array(['AFRODB', 'BIOFACQUIM', 'Epidatabase', 'FDA', 'PPI'], dtype=object)"
      ]
     },
     "execution_count": 7,
     "metadata": {},
     "output_type": "execute_result"
    }
   ],
   "source": [
    "#Identificar librerias\n",
    "Data.Library.unique()"
   ]
  },
  {
   "cell_type": "code",
   "execution_count": 4,
   "metadata": {},
   "outputs": [
    {
     "data": {
      "text/plain": [
       "array(['AFRODB', 'BIOFACQUIM', 'Epidatabase', 'FDA', 'PPI'], dtype=object)"
      ]
     },
     "execution_count": 4,
     "metadata": {},
     "output_type": "execute_result"
    }
   ],
   "source": [
    "#Identify libraries\n",
    "Data.Library.unique()"
   ]
  },
  {
   "cell_type": "markdown",
   "metadata": {},
   "source": [
    "## Exploratory Data Analysis"
   ]
  },
  {
   "cell_type": "code",
   "execution_count": 11,
   "metadata": {},
   "outputs": [
    {
     "data": {
      "text/plain": [
       "<matplotlib.axes._subplots.AxesSubplot at 0x7f48924418d0>"
      ]
     },
     "execution_count": 11,
     "metadata": {},
     "output_type": "execute_result"
    },
    {
     "data": {
      "image/png": "[encoded data removed]",
      "text/plain": [
       "<Figure size 432x288 with 1 Axes>"
      ]
     },
     "metadata": {
      "needs_background": "light"
     },
     "output_type": "display_data"
    }
   ],
   "source": [
    "#Plot a Descriptor\n",
    "\n",
    "Data = Data[Data[\"MW\"] < 1500]\n",
    "sns.boxplot(x = \"Library\", y = Data[\"MW\"], data=Data)"
   ]
  },
  {
   "cell_type": "code",
   "execution_count": 12,
   "metadata": {},
   "outputs": [],
   "source": [
    "#select numerical Data\n",
    "numerical_descriptors = ['HBA', 'HBD', 'RB','LogP', 'TPSA', 'MW']"
   ]
  },
  {
   "cell_type": "code",
   "execution_count": null,
   "metadata": {},
   "outputs": [],
   "source": []
  },
  {
   "cell_type": "code",
   "execution_count": 13,
   "metadata": {},
   "outputs": [],
   "source": [
    "#Save Numerical Data into a new DF\n",
    "numerical_data = Data[numerical_descriptors]"
   ]
  },
  {
   "cell_type": "code",
   "execution_count": 8,
   "metadata": {},
   "outputs": [
    {
     "data": {
      "text/html": [
       "<div>\n",
       "<style scoped>\n",
       "    .dataframe tbody tr th:only-of-type {\n",
       "        vertical-align: middle;\n",
       "    }\n",
       "\n",
       "    .dataframe tbody tr th {\n",
       "        vertical-align: top;\n",
       "    }\n",
       "\n",
       "    .dataframe thead th {\n",
       "        text-align: right;\n",
       "    }\n",
       "</style>\n",
       "<table border=\"1\" class=\"dataframe\">\n",
       "  <thead>\n",
       "    <tr style=\"text-align: right;\">\n",
       "      <th></th>\n",
       "      <th>HBA</th>\n",
       "      <th>HBD</th>\n",
       "      <th>RB</th>\n",
       "      <th>LogP</th>\n",
       "      <th>TPSA</th>\n",
       "      <th>MW</th>\n",
       "    </tr>\n",
       "  </thead>\n",
       "  <tbody>\n",
       "    <tr>\n",
       "      <th>count</th>\n",
       "      <td>21084.000000</td>\n",
       "      <td>21084.000000</td>\n",
       "      <td>21084.000000</td>\n",
       "      <td>21084.000000</td>\n",
       "      <td>21084.000000</td>\n",
       "      <td>21084.000000</td>\n",
       "    </tr>\n",
       "    <tr>\n",
       "      <th>mean</th>\n",
       "      <td>5.448065</td>\n",
       "      <td>2.389869</td>\n",
       "      <td>6.465282</td>\n",
       "      <td>3.245990</td>\n",
       "      <td>93.442773</td>\n",
       "      <td>409.114843</td>\n",
       "    </tr>\n",
       "    <tr>\n",
       "      <th>std</th>\n",
       "      <td>3.443007</td>\n",
       "      <td>2.821554</td>\n",
       "      <td>5.897002</td>\n",
       "      <td>2.235868</td>\n",
       "      <td>75.909175</td>\n",
       "      <td>186.042341</td>\n",
       "    </tr>\n",
       "    <tr>\n",
       "      <th>min</th>\n",
       "      <td>0.000000</td>\n",
       "      <td>0.000000</td>\n",
       "      <td>0.000000</td>\n",
       "      <td>-83.666800</td>\n",
       "      <td>0.000000</td>\n",
       "      <td>16.043000</td>\n",
       "    </tr>\n",
       "    <tr>\n",
       "      <th>25%</th>\n",
       "      <td>4.000000</td>\n",
       "      <td>1.000000</td>\n",
       "      <td>4.000000</td>\n",
       "      <td>2.238600</td>\n",
       "      <td>64.977500</td>\n",
       "      <td>320.370000</td>\n",
       "    </tr>\n",
       "    <tr>\n",
       "      <th>50%</th>\n",
       "      <td>5.000000</td>\n",
       "      <td>2.000000</td>\n",
       "      <td>5.000000</td>\n",
       "      <td>3.296200</td>\n",
       "      <td>83.830000</td>\n",
       "      <td>387.139500</td>\n",
       "    </tr>\n",
       "    <tr>\n",
       "      <th>75%</th>\n",
       "      <td>6.000000</td>\n",
       "      <td>3.000000</td>\n",
       "      <td>8.000000</td>\n",
       "      <td>4.312800</td>\n",
       "      <td>106.877500</td>\n",
       "      <td>462.407000</td>\n",
       "    </tr>\n",
       "    <tr>\n",
       "      <th>max</th>\n",
       "      <td>191.000000</td>\n",
       "      <td>116.000000</td>\n",
       "      <td>169.000000</td>\n",
       "      <td>22.413900</td>\n",
       "      <td>3038.930000</td>\n",
       "      <td>6179.373000</td>\n",
       "    </tr>\n",
       "  </tbody>\n",
       "</table>\n",
       "</div>"
      ],
      "text/plain": [
       "                HBA           HBD            RB          LogP          TPSA  \\\n",
       "count  21084.000000  21084.000000  21084.000000  21084.000000  21084.000000   \n",
       "mean       5.448065      2.389869      6.465282      3.245990     93.442773   \n",
       "std        3.443007      2.821554      5.897002      2.235868     75.909175   \n",
       "min        0.000000      0.000000      0.000000    -83.666800      0.000000   \n",
       "25%        4.000000      1.000000      4.000000      2.238600     64.977500   \n",
       "50%        5.000000      2.000000      5.000000      3.296200     83.830000   \n",
       "75%        6.000000      3.000000      8.000000      4.312800    106.877500   \n",
       "max      191.000000    116.000000    169.000000     22.413900   3038.930000   \n",
       "\n",
       "                 MW  \n",
       "count  21084.000000  \n",
       "mean     409.114843  \n",
       "std      186.042341  \n",
       "min       16.043000  \n",
       "25%      320.370000  \n",
       "50%      387.139500  \n",
       "75%      462.407000  \n",
       "max     6179.373000  "
      ]
     },
     "execution_count": 8,
     "metadata": {},
     "output_type": "execute_result"
    }
   ],
   "source": [
    "#Statistical values\n",
    "numerical_data.describe()"
   ]
  },
  {
   "cell_type": "code",
   "execution_count": 14,
   "metadata": {},
   "outputs": [
    {
     "data": {
      "text/html": [
       "<div>\n",
       "<style scoped>\n",
       "    .dataframe tbody tr th:only-of-type {\n",
       "        vertical-align: middle;\n",
       "    }\n",
       "\n",
       "    .dataframe tbody tr th {\n",
       "        vertical-align: top;\n",
       "    }\n",
       "\n",
       "    .dataframe thead th {\n",
       "        text-align: right;\n",
       "    }\n",
       "</style>\n",
       "<table border=\"1\" class=\"dataframe\">\n",
       "  <thead>\n",
       "    <tr style=\"text-align: right;\">\n",
       "      <th></th>\n",
       "      <th>HBA</th>\n",
       "      <th>HBD</th>\n",
       "      <th>RB</th>\n",
       "      <th>LogP</th>\n",
       "      <th>TPSA</th>\n",
       "      <th>MW</th>\n",
       "      <th>Heavy Atom</th>\n",
       "      <th>Ring Count</th>\n",
       "      <th>Fraction CSP3</th>\n",
       "    </tr>\n",
       "  </thead>\n",
       "  <tbody>\n",
       "    <tr>\n",
       "      <th>count</th>\n",
       "      <td>1676.000000</td>\n",
       "      <td>1676.000000</td>\n",
       "      <td>1676.000000</td>\n",
       "      <td>1676.000000</td>\n",
       "      <td>1676.000000</td>\n",
       "      <td>1676.000000</td>\n",
       "      <td>1676.000000</td>\n",
       "      <td>1676.000000</td>\n",
       "      <td>1676.000000</td>\n",
       "    </tr>\n",
       "    <tr>\n",
       "      <th>mean</th>\n",
       "      <td>4.944511</td>\n",
       "      <td>2.337709</td>\n",
       "      <td>5.348449</td>\n",
       "      <td>2.200169</td>\n",
       "      <td>88.823126</td>\n",
       "      <td>360.846278</td>\n",
       "      <td>24.806683</td>\n",
       "      <td>24.806683</td>\n",
       "      <td>24.806683</td>\n",
       "    </tr>\n",
       "    <tr>\n",
       "      <th>std</th>\n",
       "      <td>3.771048</td>\n",
       "      <td>2.673123</td>\n",
       "      <td>5.280576</td>\n",
       "      <td>2.604306</td>\n",
       "      <td>78.376192</td>\n",
       "      <td>203.876488</td>\n",
       "      <td>14.006339</td>\n",
       "      <td>14.006339</td>\n",
       "      <td>14.006339</td>\n",
       "    </tr>\n",
       "    <tr>\n",
       "      <th>min</th>\n",
       "      <td>0.000000</td>\n",
       "      <td>0.000000</td>\n",
       "      <td>0.000000</td>\n",
       "      <td>-19.396500</td>\n",
       "      <td>0.000000</td>\n",
       "      <td>16.043000</td>\n",
       "      <td>1.000000</td>\n",
       "      <td>1.000000</td>\n",
       "      <td>1.000000</td>\n",
       "    </tr>\n",
       "    <tr>\n",
       "      <th>25%</th>\n",
       "      <td>2.000000</td>\n",
       "      <td>1.000000</td>\n",
       "      <td>2.000000</td>\n",
       "      <td>0.725080</td>\n",
       "      <td>41.975000</td>\n",
       "      <td>238.188250</td>\n",
       "      <td>16.000000</td>\n",
       "      <td>16.000000</td>\n",
       "      <td>16.000000</td>\n",
       "    </tr>\n",
       "    <tr>\n",
       "      <th>50%</th>\n",
       "      <td>4.000000</td>\n",
       "      <td>2.000000</td>\n",
       "      <td>4.000000</td>\n",
       "      <td>2.471700</td>\n",
       "      <td>71.005000</td>\n",
       "      <td>325.392000</td>\n",
       "      <td>23.000000</td>\n",
       "      <td>23.000000</td>\n",
       "      <td>23.000000</td>\n",
       "    </tr>\n",
       "    <tr>\n",
       "      <th>75%</th>\n",
       "      <td>6.000000</td>\n",
       "      <td>3.000000</td>\n",
       "      <td>7.000000</td>\n",
       "      <td>3.850725</td>\n",
       "      <td>107.455000</td>\n",
       "      <td>427.783750</td>\n",
       "      <td>30.000000</td>\n",
       "      <td>30.000000</td>\n",
       "      <td>30.000000</td>\n",
       "    </tr>\n",
       "    <tr>\n",
       "      <th>max</th>\n",
       "      <td>51.000000</td>\n",
       "      <td>22.000000</td>\n",
       "      <td>56.000000</td>\n",
       "      <td>12.938000</td>\n",
       "      <td>772.170000</td>\n",
       "      <td>1448.686000</td>\n",
       "      <td>102.000000</td>\n",
       "      <td>102.000000</td>\n",
       "      <td>102.000000</td>\n",
       "    </tr>\n",
       "  </tbody>\n",
       "</table>\n",
       "</div>"
      ],
      "text/plain": [
       "               HBA          HBD           RB         LogP         TPSA  \\\n",
       "count  1676.000000  1676.000000  1676.000000  1676.000000  1676.000000   \n",
       "mean      4.944511     2.337709     5.348449     2.200169    88.823126   \n",
       "std       3.771048     2.673123     5.280576     2.604306    78.376192   \n",
       "min       0.000000     0.000000     0.000000   -19.396500     0.000000   \n",
       "25%       2.000000     1.000000     2.000000     0.725080    41.975000   \n",
       "50%       4.000000     2.000000     4.000000     2.471700    71.005000   \n",
       "75%       6.000000     3.000000     7.000000     3.850725   107.455000   \n",
       "max      51.000000    22.000000    56.000000    12.938000   772.170000   \n",
       "\n",
       "                MW   Heavy Atom   Ring Count  Fraction CSP3  \n",
       "count  1676.000000  1676.000000  1676.000000    1676.000000  \n",
       "mean    360.846278    24.806683    24.806683      24.806683  \n",
       "std     203.876488    14.006339    14.006339      14.006339  \n",
       "min      16.043000     1.000000     1.000000       1.000000  \n",
       "25%     238.188250    16.000000    16.000000      16.000000  \n",
       "50%     325.392000    23.000000    23.000000      23.000000  \n",
       "75%     427.783750    30.000000    30.000000      30.000000  \n",
       "max    1448.686000   102.000000   102.000000     102.000000  "
      ]
     },
     "execution_count": 14,
     "metadata": {},
     "output_type": "execute_result"
    }
   ],
   "source": [
    "FDA =  Data[Data[\"Library\"] == \"FDA\"]\n",
    "FDA.describe()"
   ]
  },
  {
   "cell_type": "code",
   "execution_count": 21,
   "metadata": {},
   "outputs": [
    {
     "data": {
      "text/html": [
       "<div>\n",
       "<style scoped>\n",
       "    .dataframe tbody tr th:only-of-type {\n",
       "        vertical-align: middle;\n",
       "    }\n",
       "\n",
       "    .dataframe tbody tr th {\n",
       "        vertical-align: top;\n",
       "    }\n",
       "\n",
       "    .dataframe thead th {\n",
       "        text-align: right;\n",
       "    }\n",
       "</style>\n",
       "<table border=\"1\" class=\"dataframe\">\n",
       "  <thead>\n",
       "    <tr style=\"text-align: right;\">\n",
       "      <th></th>\n",
       "      <th>HBA</th>\n",
       "      <th>HBD</th>\n",
       "      <th>RB</th>\n",
       "      <th>LogP</th>\n",
       "      <th>TPSA</th>\n",
       "      <th>MW</th>\n",
       "      <th>Heavy Atom</th>\n",
       "      <th>Ring Count</th>\n",
       "      <th>Fraction CSP3</th>\n",
       "    </tr>\n",
       "  </thead>\n",
       "  <tbody>\n",
       "    <tr>\n",
       "      <th>count</th>\n",
       "      <td>418.000000</td>\n",
       "      <td>418.000000</td>\n",
       "      <td>418.000000</td>\n",
       "      <td>418.000000</td>\n",
       "      <td>418.000000</td>\n",
       "      <td>418.000000</td>\n",
       "      <td>418.000000</td>\n",
       "      <td>418.000000</td>\n",
       "      <td>418.000000</td>\n",
       "    </tr>\n",
       "    <tr>\n",
       "      <th>mean</th>\n",
       "      <td>6.234450</td>\n",
       "      <td>2.483254</td>\n",
       "      <td>5.117225</td>\n",
       "      <td>2.992248</td>\n",
       "      <td>98.047871</td>\n",
       "      <td>389.483761</td>\n",
       "      <td>27.952153</td>\n",
       "      <td>27.952153</td>\n",
       "      <td>27.952153</td>\n",
       "    </tr>\n",
       "    <tr>\n",
       "      <th>std</th>\n",
       "      <td>5.243478</td>\n",
       "      <td>3.025227</td>\n",
       "      <td>6.141274</td>\n",
       "      <td>2.777187</td>\n",
       "      <td>82.316960</td>\n",
       "      <td>205.842617</td>\n",
       "      <td>14.173221</td>\n",
       "      <td>14.173221</td>\n",
       "      <td>14.173221</td>\n",
       "    </tr>\n",
       "    <tr>\n",
       "      <th>min</th>\n",
       "      <td>0.000000</td>\n",
       "      <td>0.000000</td>\n",
       "      <td>0.000000</td>\n",
       "      <td>-5.935100</td>\n",
       "      <td>0.000000</td>\n",
       "      <td>122.123000</td>\n",
       "      <td>9.000000</td>\n",
       "      <td>9.000000</td>\n",
       "      <td>9.000000</td>\n",
       "    </tr>\n",
       "    <tr>\n",
       "      <th>25%</th>\n",
       "      <td>3.000000</td>\n",
       "      <td>1.000000</td>\n",
       "      <td>2.000000</td>\n",
       "      <td>1.507200</td>\n",
       "      <td>52.600000</td>\n",
       "      <td>262.272000</td>\n",
       "      <td>19.000000</td>\n",
       "      <td>19.000000</td>\n",
       "      <td>19.000000</td>\n",
       "    </tr>\n",
       "    <tr>\n",
       "      <th>50%</th>\n",
       "      <td>5.000000</td>\n",
       "      <td>2.000000</td>\n",
       "      <td>3.000000</td>\n",
       "      <td>2.820860</td>\n",
       "      <td>70.855000</td>\n",
       "      <td>339.389000</td>\n",
       "      <td>24.000000</td>\n",
       "      <td>24.000000</td>\n",
       "      <td>24.000000</td>\n",
       "    </tr>\n",
       "    <tr>\n",
       "      <th>75%</th>\n",
       "      <td>7.000000</td>\n",
       "      <td>3.000000</td>\n",
       "      <td>6.000000</td>\n",
       "      <td>3.760065</td>\n",
       "      <td>113.195000</td>\n",
       "      <td>454.213000</td>\n",
       "      <td>33.000000</td>\n",
       "      <td>33.000000</td>\n",
       "      <td>33.000000</td>\n",
       "    </tr>\n",
       "    <tr>\n",
       "      <th>max</th>\n",
       "      <td>32.000000</td>\n",
       "      <td>19.000000</td>\n",
       "      <td>31.000000</td>\n",
       "      <td>12.891300</td>\n",
       "      <td>521.430000</td>\n",
       "      <td>1341.448000</td>\n",
       "      <td>92.000000</td>\n",
       "      <td>92.000000</td>\n",
       "      <td>92.000000</td>\n",
       "    </tr>\n",
       "  </tbody>\n",
       "</table>\n",
       "</div>"
      ],
      "text/plain": [
       "              HBA         HBD          RB        LogP        TPSA  \\\n",
       "count  418.000000  418.000000  418.000000  418.000000  418.000000   \n",
       "mean     6.234450    2.483254    5.117225    2.992248   98.047871   \n",
       "std      5.243478    3.025227    6.141274    2.777187   82.316960   \n",
       "min      0.000000    0.000000    0.000000   -5.935100    0.000000   \n",
       "25%      3.000000    1.000000    2.000000    1.507200   52.600000   \n",
       "50%      5.000000    2.000000    3.000000    2.820860   70.855000   \n",
       "75%      7.000000    3.000000    6.000000    3.760065  113.195000   \n",
       "max     32.000000   19.000000   31.000000   12.891300  521.430000   \n",
       "\n",
       "                MW  Heavy Atom  Ring Count  Fraction CSP3  \n",
       "count   418.000000  418.000000  418.000000     418.000000  \n",
       "mean    389.483761   27.952153   27.952153      27.952153  \n",
       "std     205.842617   14.173221   14.173221      14.173221  \n",
       "min     122.123000    9.000000    9.000000       9.000000  \n",
       "25%     262.272000   19.000000   19.000000      19.000000  \n",
       "50%     339.389000   24.000000   24.000000      24.000000  \n",
       "75%     454.213000   33.000000   33.000000      33.000000  \n",
       "max    1341.448000   92.000000   92.000000      92.000000  "
      ]
     },
     "execution_count": 21,
     "metadata": {},
     "output_type": "execute_result"
    }
   ],
   "source": [
    "BIO = Data[Data[\"Library\"] == \"BIOFACQUIM\"]\n",
    "#BIO.head()\n",
    "BIO.describe()"
   ]
  },
  {
   "cell_type": "code",
   "execution_count": 9,
   "metadata": {},
   "outputs": [
    {
     "data": {
      "text/html": [
       "<div>\n",
       "<style scoped>\n",
       "    .dataframe tbody tr th:only-of-type {\n",
       "        vertical-align: middle;\n",
       "    }\n",
       "\n",
       "    .dataframe tbody tr th {\n",
       "        vertical-align: top;\n",
       "    }\n",
       "\n",
       "    .dataframe thead th {\n",
       "        text-align: right;\n",
       "    }\n",
       "</style>\n",
       "<table border=\"1\" class=\"dataframe\">\n",
       "  <thead>\n",
       "    <tr style=\"text-align: right;\">\n",
       "      <th></th>\n",
       "      <th>HBA</th>\n",
       "      <th>HBD</th>\n",
       "      <th>RB</th>\n",
       "      <th>LogP</th>\n",
       "      <th>TPSA</th>\n",
       "      <th>MW</th>\n",
       "    </tr>\n",
       "  </thead>\n",
       "  <tbody>\n",
       "    <tr>\n",
       "      <th>HBA</th>\n",
       "      <td>1.000000</td>\n",
       "      <td>0.717281</td>\n",
       "      <td>0.677813</td>\n",
       "      <td>-0.349287</td>\n",
       "      <td>0.866372</td>\n",
       "      <td>0.814347</td>\n",
       "    </tr>\n",
       "    <tr>\n",
       "      <th>HBD</th>\n",
       "      <td>0.717281</td>\n",
       "      <td>1.000000</td>\n",
       "      <td>0.769447</td>\n",
       "      <td>-0.499214</td>\n",
       "      <td>0.929746</td>\n",
       "      <td>0.709818</td>\n",
       "    </tr>\n",
       "    <tr>\n",
       "      <th>RB</th>\n",
       "      <td>0.677813</td>\n",
       "      <td>0.769447</td>\n",
       "      <td>1.000000</td>\n",
       "      <td>-0.160490</td>\n",
       "      <td>0.806619</td>\n",
       "      <td>0.818425</td>\n",
       "    </tr>\n",
       "    <tr>\n",
       "      <th>LogP</th>\n",
       "      <td>-0.349287</td>\n",
       "      <td>-0.499214</td>\n",
       "      <td>-0.160490</td>\n",
       "      <td>1.000000</td>\n",
       "      <td>-0.477352</td>\n",
       "      <td>-0.006784</td>\n",
       "    </tr>\n",
       "    <tr>\n",
       "      <th>TPSA</th>\n",
       "      <td>0.866372</td>\n",
       "      <td>0.929746</td>\n",
       "      <td>0.806619</td>\n",
       "      <td>-0.477352</td>\n",
       "      <td>1.000000</td>\n",
       "      <td>0.820930</td>\n",
       "    </tr>\n",
       "  </tbody>\n",
       "</table>\n",
       "</div>"
      ],
      "text/plain": [
       "           HBA       HBD        RB      LogP      TPSA        MW\n",
       "HBA   1.000000  0.717281  0.677813 -0.349287  0.866372  0.814347\n",
       "HBD   0.717281  1.000000  0.769447 -0.499214  0.929746  0.709818\n",
       "RB    0.677813  0.769447  1.000000 -0.160490  0.806619  0.818425\n",
       "LogP -0.349287 -0.499214 -0.160490  1.000000 -0.477352 -0.006784\n",
       "TPSA  0.866372  0.929746  0.806619 -0.477352  1.000000  0.820930"
      ]
     },
     "execution_count": 9,
     "metadata": {},
     "output_type": "execute_result"
    }
   ],
   "source": [
    "#Correlation\n",
    "Correlation = numerical_data.corr()\n",
    "Correlation.head()"
   ]
  },
  {
   "cell_type": "code",
   "execution_count": 10,
   "metadata": {},
   "outputs": [
    {
     "data": {
      "image/png": "[encoded data removed]",
      "text/plain": [
       "<Figure size 432x288 with 2 Axes>"
      ]
     },
     "metadata": {
      "needs_background": "light"
     },
     "output_type": "display_data"
    }
   ],
   "source": [
    "sns.heatmap(numerical_data.corr())\n",
    "plt.savefig(\"correlacion_inicial.png\")"
   ]
  },
  {
   "cell_type": "markdown",
   "metadata": {},
   "source": [
    "## Normalize Data"
   ]
  },
  {
   "cell_type": "code",
   "execution_count": 23,
   "metadata": {
    "scrolled": true
   },
   "outputs": [
    {
     "data": {
      "text/html": [
       "<div>\n",
       "<style scoped>\n",
       "    .dataframe tbody tr th:only-of-type {\n",
       "        vertical-align: middle;\n",
       "    }\n",
       "\n",
       "    .dataframe tbody tr th {\n",
       "        vertical-align: top;\n",
       "    }\n",
       "\n",
       "    .dataframe thead th {\n",
       "        text-align: right;\n",
       "    }\n",
       "</style>\n",
       "<table border=\"1\" class=\"dataframe\">\n",
       "  <thead>\n",
       "    <tr style=\"text-align: right;\">\n",
       "      <th></th>\n",
       "      <th>0</th>\n",
       "      <th>1</th>\n",
       "      <th>2</th>\n",
       "      <th>3</th>\n",
       "      <th>4</th>\n",
       "      <th>5</th>\n",
       "    </tr>\n",
       "  </thead>\n",
       "  <tbody>\n",
       "    <tr>\n",
       "      <th>0</th>\n",
       "      <td>0.645657</td>\n",
       "      <td>0.401855</td>\n",
       "      <td>11.129015</td>\n",
       "      <td>9.762059</td>\n",
       "      <td>0.330678</td>\n",
       "      <td>5.647060</td>\n",
       "    </tr>\n",
       "    <tr>\n",
       "      <th>1</th>\n",
       "      <td>8.383225</td>\n",
       "      <td>6.456207</td>\n",
       "      <td>2.927977</td>\n",
       "      <td>-3.487995</td>\n",
       "      <td>7.063362</td>\n",
       "      <td>5.656373</td>\n",
       "    </tr>\n",
       "    <tr>\n",
       "      <th>2</th>\n",
       "      <td>7.996347</td>\n",
       "      <td>6.456207</td>\n",
       "      <td>2.679461</td>\n",
       "      <td>-3.040293</td>\n",
       "      <td>6.528296</td>\n",
       "      <td>5.656687</td>\n",
       "    </tr>\n",
       "    <tr>\n",
       "      <th>3</th>\n",
       "      <td>2.193171</td>\n",
       "      <td>0.401855</td>\n",
       "      <td>13.614178</td>\n",
       "      <td>6.994404</td>\n",
       "      <td>2.392111</td>\n",
       "      <td>5.102219</td>\n",
       "    </tr>\n",
       "    <tr>\n",
       "      <th>4</th>\n",
       "      <td>1.032535</td>\n",
       "      <td>0.401855</td>\n",
       "      <td>11.377531</td>\n",
       "      <td>7.006863</td>\n",
       "      <td>0.697341</td>\n",
       "      <td>3.860678</td>\n",
       "    </tr>\n",
       "  </tbody>\n",
       "</table>\n",
       "</div>"
      ],
      "text/plain": [
       "          0         1          2         3         4         5\n",
       "0  0.645657  0.401855  11.129015  9.762059  0.330678  5.647060\n",
       "1  8.383225  6.456207   2.927977 -3.487995  7.063362  5.656373\n",
       "2  7.996347  6.456207   2.679461 -3.040293  6.528296  5.656687\n",
       "3  2.193171  0.401855  13.614178  6.994404  2.392111  5.102219\n",
       "4  1.032535  0.401855  11.377531  7.006863  0.697341  3.860678"
      ]
     },
     "execution_count": 23,
     "metadata": {},
     "output_type": "execute_result"
    }
   ],
   "source": [
    "numerical_data = pd.DataFrame(StandardScaler().fit_transform(numerical_data))\n",
    "# Calculate the principal components using scikit-learn\n",
    "numerical_data.head()"
   ]
  },
  {
   "cell_type": "code",
   "execution_count": 24,
   "metadata": {},
   "outputs": [
    {
     "data": {
      "text/plain": [
       "PCA(copy=True, iterated_power='auto', n_components=None, random_state=None,\n",
       "    svd_solver='auto', tol=0.0, whiten=False)"
      ]
     },
     "execution_count": 24,
     "metadata": {},
     "output_type": "execute_result"
    }
   ],
   "source": [
    "sklearn_pca = sklearn.decomposition.PCA() #call the method\n",
    "sklearn_pca.fit(numerical_data)           #execute"
   ]
  },
  {
   "cell_type": "markdown",
   "metadata": {},
   "source": [
    "# Machine Learning Model"
   ]
  },
  {
   "cell_type": "markdown",
   "metadata": {},
   "source": [
    "## PCA"
   ]
  },
  {
   "cell_type": "code",
   "execution_count": 12,
   "metadata": {},
   "outputs": [],
   "source": [
    "#Assign Model\n",
    "sklearn_pca = sklearn.decomposition.PCA(n_components=6, svd_solver = \"full\", whiten = True)"
   ]
  },
  {
   "cell_type": "code",
   "execution_count": 13,
   "metadata": {},
   "outputs": [
    {
     "data": {
      "text/plain": [
       "PCA(copy=True, iterated_power='auto', n_components=6, random_state=None,\n",
       "    svd_solver='full', tol=0.0, whiten=True)"
      ]
     },
     "execution_count": 13,
     "metadata": {},
     "output_type": "execute_result"
    }
   ],
   "source": [
    "#Train model\n",
    "sklearn_pca.fit(numerical_data)"
   ]
  },
  {
   "cell_type": "code",
   "execution_count": 26,
   "metadata": {},
   "outputs": [
    {
     "data": {
      "text/html": [
       "<div>\n",
       "<style scoped>\n",
       "    .dataframe tbody tr th:only-of-type {\n",
       "        vertical-align: middle;\n",
       "    }\n",
       "\n",
       "    .dataframe tbody tr th {\n",
       "        vertical-align: top;\n",
       "    }\n",
       "\n",
       "    .dataframe thead th {\n",
       "        text-align: right;\n",
       "    }\n",
       "</style>\n",
       "<table border=\"1\" class=\"dataframe\">\n",
       "  <thead>\n",
       "    <tr style=\"text-align: right;\">\n",
       "      <th></th>\n",
       "      <th>PC 1</th>\n",
       "      <th>PC 2</th>\n",
       "      <th>PC 3</th>\n",
       "      <th>PC 4</th>\n",
       "      <th>PC 5</th>\n",
       "      <th>PC 6</th>\n",
       "    </tr>\n",
       "  </thead>\n",
       "  <tbody>\n",
       "    <tr>\n",
       "      <th>0</th>\n",
       "      <td>7.489868</td>\n",
       "      <td>12.745201</td>\n",
       "      <td>-4.959822</td>\n",
       "      <td>2.575001</td>\n",
       "      <td>-1.385036</td>\n",
       "      <td>0.206670</td>\n",
       "    </tr>\n",
       "    <tr>\n",
       "      <th>1</th>\n",
       "      <td>13.844666</td>\n",
       "      <td>-3.851776</td>\n",
       "      <td>2.574616</td>\n",
       "      <td>-0.270224</td>\n",
       "      <td>0.054491</td>\n",
       "      <td>-1.170585</td>\n",
       "    </tr>\n",
       "    <tr>\n",
       "      <th>2</th>\n",
       "      <td>13.293397</td>\n",
       "      <td>-3.420555</td>\n",
       "      <td>2.417961</td>\n",
       "      <td>-0.619019</td>\n",
       "      <td>0.065054</td>\n",
       "      <td>-1.419600</td>\n",
       "    </tr>\n",
       "    <tr>\n",
       "      <th>3</th>\n",
       "      <td>10.032845</td>\n",
       "      <td>10.458687</td>\n",
       "      <td>-5.273828</td>\n",
       "      <td>5.431767</td>\n",
       "      <td>-1.559375</td>\n",
       "      <td>1.096686</td>\n",
       "    </tr>\n",
       "    <tr>\n",
       "      <th>4</th>\n",
       "      <td>7.198307</td>\n",
       "      <td>9.831694</td>\n",
       "      <td>-5.158237</td>\n",
       "      <td>4.113243</td>\n",
       "      <td>-1.741645</td>\n",
       "      <td>0.354613</td>\n",
       "    </tr>\n",
       "  </tbody>\n",
       "</table>\n",
       "</div>"
      ],
      "text/plain": [
       "        PC 1       PC 2      PC 3      PC 4      PC 5      PC 6\n",
       "0   7.489868  12.745201 -4.959822  2.575001 -1.385036  0.206670\n",
       "1  13.844666  -3.851776  2.574616 -0.270224  0.054491 -1.170585\n",
       "2  13.293397  -3.420555  2.417961 -0.619019  0.065054 -1.419600\n",
       "3  10.032845  10.458687 -5.273828  5.431767 -1.559375  1.096686\n",
       "4   7.198307   9.831694 -5.158237  4.113243 -1.741645  0.354613"
      ]
     },
     "execution_count": 26,
     "metadata": {},
     "output_type": "execute_result"
    }
   ],
   "source": [
    "#Show PCA results\n",
    "pca_result = pd.DataFrame(sklearn_pca.transform(numerical_data), columns=['PC 1','PC 2',\"PC 3\", 'PC 4','PC 5',\"PC 6\"])\n",
    "pca_result.head()"
   ]
  },
  {
   "cell_type": "code",
   "execution_count": 27,
   "metadata": {},
   "outputs": [
    {
     "name": "stdout",
     "output_type": "stream",
     "text": [
      "        PC 1       PC 2      PC 3      PC 4      PC 5      PC 6 Library  \\\n",
      "0   7.489868  12.745201 -4.959822  2.575001 -1.385036  0.206670  AFRODB   \n",
      "1  13.844666  -3.851776  2.574616 -0.270224  0.054491 -1.170585  AFRODB   \n",
      "2  13.293397  -3.420555  2.417961 -0.619019  0.065054 -1.419600  AFRODB   \n",
      "3  10.032845  10.458687 -5.273828  5.431767 -1.559375  1.096686  AFRODB   \n",
      "4   7.198307   9.831694 -5.158237  4.113243 -1.741645  0.354613  AFRODB   \n",
      "\n",
      "                                              SMILES        Name  \n",
      "0  CCCCCCCCCCCCCCCCCCCCCCCCCCCCCCCCCCCCCCCCCCC(OC...   NPR_00036  \n",
      "1  C[C@H](CCC(O[C@H](C[C@@H]([C@@H]1CC2)[C@H]3[C@...  ABD_UD_004  \n",
      "2  C[C@H](CC[C@@]([C@H]1C)(OC)O[C@H](C2)[C@H]1[C@...  ABD_UD_003  \n",
      "3  COc(cc(/C=C/C(OCCCCCCCCCCCCCCCCCCCCCCCCCCCCCCC...     WA_0086  \n",
      "4  COc(cc(/C=C/C(OCCCCCCCCCCCCCCCCCCCCCCCCCCCCCCC...     WA_0085  \n"
     ]
    }
   ],
   "source": [
    "\"\"\"Merge Names and SMILES\"\"\"\n",
    "pca_result[\"Library\"] = Data.Library\n",
    "pca_result[\"SMILES\"] = Data.SMILES\n",
    "pca_result[\"Name\"] = Data.Name\n",
    "print(pca_result.head())"
   ]
  },
  {
   "cell_type": "code",
   "execution_count": 28,
   "metadata": {},
   "outputs": [
    {
     "name": "stdout",
     "output_type": "stream",
     "text": [
      "Variance PC 1: 58.18\n",
      "Variance PC 2: 24.17\n"
     ]
    }
   ],
   "source": [
    "variance = list(sklearn_pca.explained_variance_ratio_)\n",
    "a = round(variance[0] * 100, 2)\n",
    "b = round(variance[1] * 100, 2)\n",
    "print(\"Variance PC 1:\", str(a))\n",
    "print(\"Variance PC 2:\", str(b))"
   ]
  },
  {
   "cell_type": "code",
   "execution_count": 29,
   "metadata": {},
   "outputs": [
    {
     "data": {
      "text/html": [
       "<div>\n",
       "<style scoped>\n",
       "    .dataframe tbody tr th:only-of-type {\n",
       "        vertical-align: middle;\n",
       "    }\n",
       "\n",
       "    .dataframe tbody tr th {\n",
       "        vertical-align: top;\n",
       "    }\n",
       "\n",
       "    .dataframe thead th {\n",
       "        text-align: right;\n",
       "    }\n",
       "</style>\n",
       "<table border=\"1\" class=\"dataframe\">\n",
       "  <thead>\n",
       "    <tr style=\"text-align: right;\">\n",
       "      <th></th>\n",
       "      <th>PC 1</th>\n",
       "      <th>PC 2</th>\n",
       "      <th>PC 3</th>\n",
       "      <th>PC 4</th>\n",
       "      <th>PC 5</th>\n",
       "      <th>PC 6</th>\n",
       "    </tr>\n",
       "  </thead>\n",
       "  <tbody>\n",
       "    <tr>\n",
       "      <th>HBA</th>\n",
       "      <td>0.451633</td>\n",
       "      <td>-0.058118</td>\n",
       "      <td>0.644706</td>\n",
       "      <td>0.222642</td>\n",
       "      <td>-0.496015</td>\n",
       "      <td>-0.285313</td>\n",
       "    </tr>\n",
       "    <tr>\n",
       "      <th>HBD</th>\n",
       "      <td>0.425185</td>\n",
       "      <td>-0.301738</td>\n",
       "      <td>-0.464418</td>\n",
       "      <td>-0.560364</td>\n",
       "      <td>-0.205210</td>\n",
       "      <td>-0.395435</td>\n",
       "    </tr>\n",
       "    <tr>\n",
       "      <th>RB</th>\n",
       "      <td>0.404828</td>\n",
       "      <td>0.273101</td>\n",
       "      <td>-0.561091</td>\n",
       "      <td>0.661735</td>\n",
       "      <td>-0.093832</td>\n",
       "      <td>-0.003172</td>\n",
       "    </tr>\n",
       "    <tr>\n",
       "      <th>LogP</th>\n",
       "      <td>-0.016812</td>\n",
       "      <td>0.799388</td>\n",
       "      <td>-0.021795</td>\n",
       "      <td>-0.396201</td>\n",
       "      <td>-0.415614</td>\n",
       "      <td>0.174674</td>\n",
       "    </tr>\n",
       "    <tr>\n",
       "      <th>TPSA</th>\n",
       "      <td>0.501899</td>\n",
       "      <td>-0.221655</td>\n",
       "      <td>0.069120</td>\n",
       "      <td>-0.148048</td>\n",
       "      <td>0.035156</td>\n",
       "      <td>0.819167</td>\n",
       "    </tr>\n",
       "    <tr>\n",
       "      <th>MW</th>\n",
       "      <td>0.446290</td>\n",
       "      <td>0.377942</td>\n",
       "      <td>0.220441</td>\n",
       "      <td>-0.140130</td>\n",
       "      <td>0.727381</td>\n",
       "      <td>-0.246316</td>\n",
       "    </tr>\n",
       "  </tbody>\n",
       "</table>\n",
       "</div>"
      ],
      "text/plain": [
       "          PC 1      PC 2      PC 3      PC 4      PC 5      PC 6\n",
       "HBA   0.451633 -0.058118  0.644706  0.222642 -0.496015 -0.285313\n",
       "HBD   0.425185 -0.301738 -0.464418 -0.560364 -0.205210 -0.395435\n",
       "RB    0.404828  0.273101 -0.561091  0.661735 -0.093832 -0.003172\n",
       "LogP -0.016812  0.799388 -0.021795 -0.396201 -0.415614  0.174674\n",
       "TPSA  0.501899 -0.221655  0.069120 -0.148048  0.035156  0.819167\n",
       "MW    0.446290  0.377942  0.220441 -0.140130  0.727381 -0.246316"
      ]
     },
     "execution_count": 29,
     "metadata": {},
     "output_type": "execute_result"
    }
   ],
   "source": [
    "#Identify how a descriptor contribute to each component\n",
    "loadings = sklearn_pca.components_\n",
    "loadings = np.transpose(loadings)\n",
    "PCA_loadings = pd.DataFrame(\n",
    "                    data =loadings,\n",
    "                    index = numerical_descriptors,\n",
    "                    columns = [\"PC 1\", \"PC 2\", \"PC 3\",\"PC 4\",\"PC 5\", \"PC 6\" ]\n",
    "                    )\n",
    "PCA_loadings"
   ]
  },
  {
   "cell_type": "markdown",
   "metadata": {},
   "source": [
    "## Save results as .csv File"
   ]
  },
  {
   "cell_type": "code",
   "execution_count": 30,
   "metadata": {},
   "outputs": [],
   "source": [
    "pca_result.to_csv(\"Results_PCA.csv\", sep = \",\")"
   ]
  },
  {
   "cell_type": "markdown",
   "metadata": {},
   "source": []
  },
  {
   "cell_type": "code",
   "execution_count": null,
   "metadata": {},
   "outputs": [],
   "source": []
  }
 ],
 "metadata": {
  "kernelspec": {
   "display_name": "Python 3",
   "language": "python",
   "name": "python3"
  },
  "language_info": {
   "codemirror_mode": {
    "name": "ipython",
    "version": 3
   },
   "file_extension": ".py",
   "mimetype": "text/x-python",
   "name": "python",
   "nbconvert_exporter": "python",
   "pygments_lexer": "ipython3",
   "version": "3.6.5"
  }
 },
 "nbformat": 4,
 "nbformat_minor": 2
}
