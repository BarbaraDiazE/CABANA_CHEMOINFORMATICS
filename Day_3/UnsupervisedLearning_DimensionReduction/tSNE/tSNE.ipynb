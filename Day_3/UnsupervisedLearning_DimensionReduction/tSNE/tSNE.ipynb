{
 "cells": [
  {
   "cell_type": "markdown",
   "metadata": {},
   "source": [
    "Explore Biofacquim against the world.\n",
    "Perform a tSNE from Tanimoto Distance Matrix and save results."
   ]
  },
  {
   "cell_type": "code",
   "execution_count": 1,
   "metadata": {},
   "outputs": [],
   "source": [
    "\"\"\"Import Libraries\"\"\"\n",
    "import pandas as pd\n",
    "import numpy as np\n",
    "\n",
    "import rdkit    \n",
    "from rdkit import Chem, DataStructs\n",
    "from rdkit.Chem import AllChem, MACCSkeys\n",
    "from rdkit.DataManip.Metric.rdMetricMatrixCalc import GetTanimotoSimMat, GetTanimotoDistMat\n",
    "\n",
    "import sklearn\n",
    "from sklearn import datasets, decomposition\n",
    "from sklearn.manifold import TSNE"
   ]
  },
  {
   "cell_type": "code",
   "execution_count": 2,
   "metadata": {},
   "outputs": [
    {
     "data": {
      "text/html": [
       "<div>\n",
       "<style scoped>\n",
       "    .dataframe tbody tr th:only-of-type {\n",
       "        vertical-align: middle;\n",
       "    }\n",
       "\n",
       "    .dataframe tbody tr th {\n",
       "        vertical-align: top;\n",
       "    }\n",
       "\n",
       "    .dataframe thead th {\n",
       "        text-align: right;\n",
       "    }\n",
       "</style>\n",
       "<table border=\"1\" class=\"dataframe\">\n",
       "  <thead>\n",
       "    <tr style=\"text-align: right;\">\n",
       "      <th></th>\n",
       "      <th>Unnamed: 0</th>\n",
       "      <th>ID Database</th>\n",
       "      <th>Name</th>\n",
       "      <th>SMILES</th>\n",
       "      <th>HBA</th>\n",
       "      <th>HBD</th>\n",
       "      <th>RB</th>\n",
       "      <th>LogP</th>\n",
       "      <th>TPSA</th>\n",
       "      <th>MW</th>\n",
       "      <th>Heavy Atom</th>\n",
       "      <th>Ring Count</th>\n",
       "      <th>Fraction CSP3</th>\n",
       "      <th>subLibrary</th>\n",
       "      <th>Library</th>\n",
       "    </tr>\n",
       "  </thead>\n",
       "  <tbody>\n",
       "    <tr>\n",
       "      <th>0</th>\n",
       "      <td>0</td>\n",
       "      <td>AfroDb.564</td>\n",
       "      <td>NPR_00036</td>\n",
       "      <td>CCCCCCCCCCCCCCCCCCCCCCCCCCCCCCCCCCCCCCCCCCC(OC...</td>\n",
       "      <td>7.0</td>\n",
       "      <td>3.0</td>\n",
       "      <td>51.0</td>\n",
       "      <td>22.4139</td>\n",
       "      <td>105.45</td>\n",
       "      <td>1194.003</td>\n",
       "      <td>85.0</td>\n",
       "      <td>85.0</td>\n",
       "      <td>85.0</td>\n",
       "      <td>AFRODB</td>\n",
       "      <td>AFRODB</td>\n",
       "    </tr>\n",
       "    <tr>\n",
       "      <th>1</th>\n",
       "      <td>1</td>\n",
       "      <td>AfroDb.71</td>\n",
       "      <td>ABD_UD_004</td>\n",
       "      <td>C[C@H](CCC(O[C@H](C[C@@H]([C@@H]1CC2)[C@H]3[C@...</td>\n",
       "      <td>27.0</td>\n",
       "      <td>14.0</td>\n",
       "      <td>18.0</td>\n",
       "      <td>-3.5356</td>\n",
       "      <td>418.89</td>\n",
       "      <td>1195.309</td>\n",
       "      <td>83.0</td>\n",
       "      <td>83.0</td>\n",
       "      <td>83.0</td>\n",
       "      <td>AFRODB</td>\n",
       "      <td>AFRODB</td>\n",
       "    </tr>\n",
       "    <tr>\n",
       "      <th>2</th>\n",
       "      <td>2</td>\n",
       "      <td>AfroDb.70</td>\n",
       "      <td>ABD_UD_003</td>\n",
       "      <td>C[C@H](CC[C@@]([C@H]1C)(OC)O[C@H](C2)[C@H]1[C@...</td>\n",
       "      <td>26.0</td>\n",
       "      <td>14.0</td>\n",
       "      <td>17.0</td>\n",
       "      <td>-2.6588</td>\n",
       "      <td>393.98</td>\n",
       "      <td>1195.353</td>\n",
       "      <td>83.0</td>\n",
       "      <td>83.0</td>\n",
       "      <td>83.0</td>\n",
       "      <td>AFRODB</td>\n",
       "      <td>AFRODB</td>\n",
       "    </tr>\n",
       "    <tr>\n",
       "      <th>3</th>\n",
       "      <td>3</td>\n",
       "      <td>AfroDb.937</td>\n",
       "      <td>WA_0086</td>\n",
       "      <td>COc(cc(/C=C/C(OCCCCCCCCCCCCCCCCCCCCCCCCCCCCCCC...</td>\n",
       "      <td>11.0</td>\n",
       "      <td>3.0</td>\n",
       "      <td>61.0</td>\n",
       "      <td>16.9936</td>\n",
       "      <td>201.42</td>\n",
       "      <td>1117.597</td>\n",
       "      <td>79.0</td>\n",
       "      <td>79.0</td>\n",
       "      <td>79.0</td>\n",
       "      <td>AFRODB</td>\n",
       "      <td>AFRODB</td>\n",
       "    </tr>\n",
       "    <tr>\n",
       "      <th>4</th>\n",
       "      <td>4</td>\n",
       "      <td>AfroDb.936</td>\n",
       "      <td>WA_0085</td>\n",
       "      <td>COc(cc(/C=C/C(OCCCCCCCCCCCCCCCCCCCCCCCCCCCCCCC...</td>\n",
       "      <td>8.0</td>\n",
       "      <td>3.0</td>\n",
       "      <td>52.0</td>\n",
       "      <td>17.0180</td>\n",
       "      <td>122.52</td>\n",
       "      <td>943.489</td>\n",
       "      <td>67.0</td>\n",
       "      <td>67.0</td>\n",
       "      <td>67.0</td>\n",
       "      <td>AFRODB</td>\n",
       "      <td>AFRODB</td>\n",
       "    </tr>\n",
       "  </tbody>\n",
       "</table>\n",
       "</div>"
      ],
      "text/plain": [
       "   Unnamed: 0 ID Database        Name  \\\n",
       "0           0  AfroDb.564   NPR_00036   \n",
       "1           1   AfroDb.71  ABD_UD_004   \n",
       "2           2   AfroDb.70  ABD_UD_003   \n",
       "3           3  AfroDb.937     WA_0086   \n",
       "4           4  AfroDb.936     WA_0085   \n",
       "\n",
       "                                              SMILES   HBA   HBD    RB  \\\n",
       "0  CCCCCCCCCCCCCCCCCCCCCCCCCCCCCCCCCCCCCCCCCCC(OC...   7.0   3.0  51.0   \n",
       "1  C[C@H](CCC(O[C@H](C[C@@H]([C@@H]1CC2)[C@H]3[C@...  27.0  14.0  18.0   \n",
       "2  C[C@H](CC[C@@]([C@H]1C)(OC)O[C@H](C2)[C@H]1[C@...  26.0  14.0  17.0   \n",
       "3  COc(cc(/C=C/C(OCCCCCCCCCCCCCCCCCCCCCCCCCCCCCCC...  11.0   3.0  61.0   \n",
       "4  COc(cc(/C=C/C(OCCCCCCCCCCCCCCCCCCCCCCCCCCCCCCC...   8.0   3.0  52.0   \n",
       "\n",
       "      LogP    TPSA        MW  Heavy Atom  Ring Count  Fraction CSP3  \\\n",
       "0  22.4139  105.45  1194.003        85.0        85.0           85.0   \n",
       "1  -3.5356  418.89  1195.309        83.0        83.0           83.0   \n",
       "2  -2.6588  393.98  1195.353        83.0        83.0           83.0   \n",
       "3  16.9936  201.42  1117.597        79.0        79.0           79.0   \n",
       "4  17.0180  122.52   943.489        67.0        67.0           67.0   \n",
       "\n",
       "  subLibrary Library  \n",
       "0     AFRODB  AFRODB  \n",
       "1     AFRODB  AFRODB  \n",
       "2     AFRODB  AFRODB  \n",
       "3     AFRODB  AFRODB  \n",
       "4     AFRODB  AFRODB  "
      ]
     },
     "execution_count": 2,
     "metadata": {},
     "output_type": "execute_result"
    }
   ],
   "source": [
    "\"\"\"Open Database\"\"\"\n",
    "Data = pd.read_csv(\"Databases_CABANA.csv\", sep = \",\")\n",
    "Data.head()"
   ]
  },
  {
   "cell_type": "code",
   "execution_count": 3,
   "metadata": {},
   "outputs": [
    {
     "data": {
      "text/plain": [
       "(21084, 15)"
      ]
     },
     "execution_count": 3,
     "metadata": {},
     "output_type": "execute_result"
    }
   ],
   "source": [
    "#count elements\n",
    "Data.shape"
   ]
  },
  {
   "cell_type": "code",
   "execution_count": 4,
   "metadata": {},
   "outputs": [
    {
     "data": {
      "text/plain": [
       "(2108, 15)"
      ]
     },
     "execution_count": 4,
     "metadata": {},
     "output_type": "execute_result"
    }
   ],
   "source": [
    "#Take a random sample (Modify frac)\n",
    "Data = Data.sample(frac=0.1, replace=True, random_state=1992)\n",
    "Data.shape"
   ]
  },
  {
   "cell_type": "code",
   "execution_count": 5,
   "metadata": {},
   "outputs": [],
   "source": [
    "#compute distance matrix \n",
    "def compute_distance_matrix(Data):\n",
    "    \"\"\"MACCS Keys fp\"\"\"\n",
    "    smiles = list(Data[\"SMILES\"])\n",
    "    smi=[Chem.MolFromSmiles(x) for x in smiles]\n",
    "    fps =  [MACCSkeys.GenMACCSKeys(x) for x in smi]\n",
    "    tanimoto_sim_mat_lower_triangle=GetTanimotoSimMat(fps)\n",
    "    n_mol = len(fps)\n",
    "    similarity_matrix = np.ones([n_mol,n_mol])\n",
    "    i_lower= np.tril_indices(n=n_mol,m=n_mol,k=-1)\n",
    "    i_upper= np.triu_indices(n=n_mol,m=n_mol,k=1)\n",
    "    similarity_matrix[i_lower] = tanimoto_sim_mat_lower_triangle\n",
    "    similarity_matrix[i_upper] = similarity_matrix.T[i_upper] \n",
    "    distance_matrix = np.subtract(1,similarity_matrix)\n",
    "    return distance_matrix"
   ]
  },
  {
   "cell_type": "code",
   "execution_count": 6,
   "metadata": {},
   "outputs": [],
   "source": [
    "#execute function\n",
    "distance_matrix = compute_distance_matrix(Data)"
   ]
  },
  {
   "cell_type": "code",
   "execution_count": 7,
   "metadata": {},
   "outputs": [],
   "source": [
    "\"\"\"Perform tSNE\"\"\"\n",
    "#write a funtion to perform tSNE and merge id information\n",
    "def compute_tsne(matrix, Data):\n",
    "        TSNE_sim = TSNE(n_components=2,\n",
    "                        init='pca',\n",
    "                        random_state=1992, \n",
    "                        angle = 0.3,\n",
    "                        perplexity=50\n",
    "                        ).fit_transform(matrix)\n",
    "        tsne_result = pd.DataFrame(data = TSNE_sim , \n",
    "                                columns=[\"PC 1\",\"PC 2\"]\n",
    "                                )\n",
    "        tsne_result[\"Library\"] = list(Data.Library)\n",
    "        tsne_result[\"SMILES\"] = list(Data.SMILES)\n",
    "        tsne_result[\"Name\"] = list(Data.Name)\n",
    "        print(\"tSNE is done!\")\n",
    "        return tsne_result\n"
   ]
  },
  {
   "cell_type": "code",
   "execution_count": 8,
   "metadata": {},
   "outputs": [
    {
     "name": "stdout",
     "output_type": "stream",
     "text": [
      "tSNE is done!\n"
     ]
    }
   ],
   "source": [
    "tsne_result = compute_tsne(distance_matrix, Data)"
   ]
  },
  {
   "cell_type": "code",
   "execution_count": 9,
   "metadata": {},
   "outputs": [
    {
     "data": {
      "text/html": [
       "<div>\n",
       "<style scoped>\n",
       "    .dataframe tbody tr th:only-of-type {\n",
       "        vertical-align: middle;\n",
       "    }\n",
       "\n",
       "    .dataframe tbody tr th {\n",
       "        vertical-align: top;\n",
       "    }\n",
       "\n",
       "    .dataframe thead th {\n",
       "        text-align: right;\n",
       "    }\n",
       "</style>\n",
       "<table border=\"1\" class=\"dataframe\">\n",
       "  <thead>\n",
       "    <tr style=\"text-align: right;\">\n",
       "      <th></th>\n",
       "      <th>PC 1</th>\n",
       "      <th>PC 2</th>\n",
       "      <th>Library</th>\n",
       "      <th>SMILES</th>\n",
       "      <th>Name</th>\n",
       "    </tr>\n",
       "  </thead>\n",
       "  <tbody>\n",
       "    <tr>\n",
       "      <th>0</th>\n",
       "      <td>-47.938419</td>\n",
       "      <td>40.677586</td>\n",
       "      <td>Epidatabase</td>\n",
       "      <td>ONC(c(cc1)ccc1N[C@@H](CCN1c(cc2)cc(Cl)c2Cl)C1=...</td>\n",
       "      <td>SBSM341754</td>\n",
       "    </tr>\n",
       "    <tr>\n",
       "      <th>1</th>\n",
       "      <td>-19.640524</td>\n",
       "      <td>24.254223</td>\n",
       "      <td>Epidatabase</td>\n",
       "      <td>ONC(CCCCCNC(C=C1c(cccc2)c2-c2c1cccc2)=O)=O</td>\n",
       "      <td>SBSM462973</td>\n",
       "    </tr>\n",
       "    <tr>\n",
       "      <th>2</th>\n",
       "      <td>-15.006295</td>\n",
       "      <td>51.330250</td>\n",
       "      <td>Epidatabase</td>\n",
       "      <td>ONC(/C=C/c1cccc2ccccc12)=O</td>\n",
       "      <td>SBSM267041</td>\n",
       "    </tr>\n",
       "    <tr>\n",
       "      <th>3</th>\n",
       "      <td>-54.159760</td>\n",
       "      <td>32.496826</td>\n",
       "      <td>Epidatabase</td>\n",
       "      <td>ONC(c1cn(CCN(C2)C(c(cc3)ccc3-c3ccccc3)=O)c2n1)=O</td>\n",
       "      <td>SBSM330733</td>\n",
       "    </tr>\n",
       "    <tr>\n",
       "      <th>4</th>\n",
       "      <td>26.841022</td>\n",
       "      <td>-9.170390</td>\n",
       "      <td>Epidatabase</td>\n",
       "      <td>Clc(cc1)cnc1N/N=C(\\c1ccccc1)/c1ncccc1</td>\n",
       "      <td>SBSM195263</td>\n",
       "    </tr>\n",
       "  </tbody>\n",
       "</table>\n",
       "</div>"
      ],
      "text/plain": [
       "        PC 1       PC 2      Library  \\\n",
       "0 -47.938419  40.677586  Epidatabase   \n",
       "1 -19.640524  24.254223  Epidatabase   \n",
       "2 -15.006295  51.330250  Epidatabase   \n",
       "3 -54.159760  32.496826  Epidatabase   \n",
       "4  26.841022  -9.170390  Epidatabase   \n",
       "\n",
       "                                              SMILES        Name  \n",
       "0  ONC(c(cc1)ccc1N[C@@H](CCN1c(cc2)cc(Cl)c2Cl)C1=...  SBSM341754  \n",
       "1         ONC(CCCCCNC(C=C1c(cccc2)c2-c2c1cccc2)=O)=O  SBSM462973  \n",
       "2                         ONC(/C=C/c1cccc2ccccc12)=O  SBSM267041  \n",
       "3   ONC(c1cn(CCN(C2)C(c(cc3)ccc3-c3ccccc3)=O)c2n1)=O  SBSM330733  \n",
       "4              Clc(cc1)cnc1N/N=C(\\c1ccccc1)/c1ncccc1  SBSM195263  "
      ]
     },
     "execution_count": 9,
     "metadata": {},
     "output_type": "execute_result"
    }
   ],
   "source": [
    "tsne_result.head()"
   ]
  },
  {
   "cell_type": "code",
   "execution_count": 10,
   "metadata": {},
   "outputs": [],
   "source": [
    "#Save results as .csv File\n",
    "tsne_result.to_csv(\"Results_tSNE.csv\", sep = \",\")"
   ]
  },
  {
   "cell_type": "code",
   "execution_count": null,
   "metadata": {},
   "outputs": [],
   "source": []
  }
 ],
 "metadata": {
  "kernelspec": {
   "display_name": "Python 3",
   "language": "python",
   "name": "python3"
  },
  "language_info": {
   "codemirror_mode": {
    "name": "ipython",
    "version": 3
   },
   "file_extension": ".py",
   "mimetype": "text/x-python",
   "name": "python",
   "nbconvert_exporter": "python",
   "pygments_lexer": "ipython3",
   "version": "3.7.3"
  }
 },
 "nbformat": 4,
 "nbformat_minor": 2
}
