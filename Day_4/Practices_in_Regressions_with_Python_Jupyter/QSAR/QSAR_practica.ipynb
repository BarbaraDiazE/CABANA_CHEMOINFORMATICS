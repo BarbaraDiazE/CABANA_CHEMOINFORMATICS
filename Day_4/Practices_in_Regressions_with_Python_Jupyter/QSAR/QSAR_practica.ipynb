{
 "cells": [
  {
   "cell_type": "code",
   "execution_count": 1,
   "metadata": {},
   "outputs": [
    {
     "name": "stderr",
     "output_type": "stream",
     "text": [
      "/home/babs/anaconda3/lib/python3.7/importlib/_bootstrap.py:219: RuntimeWarning: numpy.ufunc size changed, may indicate binary incompatibility. Expected 192 from C header, got 216 from PyObject\n",
      "  return f(*args, **kwds)\n",
      "/home/babs/anaconda3/lib/python3.7/importlib/_bootstrap.py:219: RuntimeWarning: numpy.ufunc size changed, may indicate binary incompatibility. Expected 192 from C header, got 216 from PyObject\n",
      "  return f(*args, **kwds)\n",
      "/home/babs/anaconda3/lib/python3.7/importlib/_bootstrap.py:219: RuntimeWarning: numpy.ufunc size changed, may indicate binary incompatibility. Expected 192 from C header, got 216 from PyObject\n",
      "  return f(*args, **kwds)\n"
     ]
    },
    {
     "name": "stdout",
     "output_type": "stream",
     "text": [
      "Importe las librerias\n"
     ]
    },
    {
     "name": "stderr",
     "output_type": "stream",
     "text": [
      "/home/babs/anaconda3/lib/python3.7/importlib/_bootstrap.py:219: RuntimeWarning: numpy.ufunc size changed, may indicate binary incompatibility. Expected 216, got 192\n",
      "  return f(*args, **kwds)\n",
      "/home/babs/anaconda3/lib/python3.7/importlib/_bootstrap.py:219: RuntimeWarning: numpy.ufunc size changed, may indicate binary incompatibility. Expected 192 from C header, got 216 from PyObject\n",
      "  return f(*args, **kwds)\n"
     ]
    }
   ],
   "source": [
    "#Importar librerias\n",
    "import pandas as pd\n",
    "import numpy as np\n",
    "\n",
    "import matplotlib.pyplot as plt\n",
    "import seaborn as sns\n",
    "%matplotlib inline\n",
    "print(\"Importe las librerias\")"
   ]
  },
  {
   "cell_type": "code",
   "execution_count": 6,
   "metadata": {},
   "outputs": [],
   "source": [
    "#Abrir Base de Datos\n",
    "Data = pd.read_csv(\"Bromodomain_Histone.csv\", \n",
    "                   sep = \";\"\n",
    "                  , index_col = \"Unnamed: 0\")\n",
    "#Data.head()"
   ]
  },
  {
   "cell_type": "code",
   "execution_count": 11,
   "metadata": {},
   "outputs": [
    {
     "data": {
      "text/plain": [
       "array(['Fluorescence Polarization'], dtype=object)"
      ]
     },
     "execution_count": 11,
     "metadata": {},
     "output_type": "execute_result"
    }
   ],
   "source": [
    "Data[\"Test name\"].unique()"
   ]
  },
  {
   "cell_type": "code",
   "execution_count": 5,
   "metadata": {},
   "outputs": [
    {
     "data": {
      "text/plain": [
       "array(['pIC50'], dtype=object)"
      ]
     },
     "execution_count": 5,
     "metadata": {},
     "output_type": "execute_result"
    }
   ],
   "source": [
    "Data[\"Activity type\"].unique()"
   ]
  },
  {
   "cell_type": "code",
   "execution_count": 8,
   "metadata": {},
   "outputs": [
    {
     "data": {
      "text/html": [
       "<div>\n",
       "<style scoped>\n",
       "    .dataframe tbody tr th:only-of-type {\n",
       "        vertical-align: middle;\n",
       "    }\n",
       "\n",
       "    .dataframe tbody tr th {\n",
       "        vertical-align: top;\n",
       "    }\n",
       "\n",
       "    .dataframe thead th {\n",
       "        text-align: right;\n",
       "    }\n",
       "</style>\n",
       "<table border=\"1\" class=\"dataframe\">\n",
       "  <thead>\n",
       "    <tr style=\"text-align: right;\">\n",
       "      <th></th>\n",
       "      <th>Unnamed: 0.1</th>\n",
       "      <th>Compound's ID</th>\n",
       "      <th>Activity</th>\n",
       "      <th>Molecular weight</th>\n",
       "      <th>ALogP</th>\n",
       "      <th>Number of H-bond donor</th>\n",
       "      <th>Number of H-bond acceptor</th>\n",
       "      <th>Topological surface area</th>\n",
       "      <th>Number of rotatable bond</th>\n",
       "      <th>Number of aromatic ring</th>\n",
       "      <th>Number of Carbon sp3 / Number of Carbon</th>\n",
       "      <th>Number of chiral centers</th>\n",
       "      <th>Ligand efficiency</th>\n",
       "      <th>Lipophilic efficiency</th>\n",
       "      <th>Biblio</th>\n",
       "    </tr>\n",
       "  </thead>\n",
       "  <tbody>\n",
       "    <tr>\n",
       "      <th>count</th>\n",
       "      <td>40.000000</td>\n",
       "      <td>40.000000</td>\n",
       "      <td>40.000000</td>\n",
       "      <td>40.000000</td>\n",
       "      <td>40.000000</td>\n",
       "      <td>40.000000</td>\n",
       "      <td>40.000000</td>\n",
       "      <td>40.000000</td>\n",
       "      <td>40.000000</td>\n",
       "      <td>40.000000</td>\n",
       "      <td>40.000000</td>\n",
       "      <td>40.000000</td>\n",
       "      <td>40.000000</td>\n",
       "      <td>40.000000</td>\n",
       "      <td>4.000000e+01</td>\n",
       "    </tr>\n",
       "    <tr>\n",
       "      <th>mean</th>\n",
       "      <td>19.500000</td>\n",
       "      <td>1623.550000</td>\n",
       "      <td>5.245000</td>\n",
       "      <td>355.043500</td>\n",
       "      <td>2.463250</td>\n",
       "      <td>0.925000</td>\n",
       "      <td>5.825000</td>\n",
       "      <td>77.933250</td>\n",
       "      <td>3.850000</td>\n",
       "      <td>2.500000</td>\n",
       "      <td>0.335250</td>\n",
       "      <td>0.075000</td>\n",
       "      <td>0.297250</td>\n",
       "      <td>2.781750</td>\n",
       "      <td>2.212786e+07</td>\n",
       "    </tr>\n",
       "    <tr>\n",
       "      <th>std</th>\n",
       "      <td>11.690452</td>\n",
       "      <td>12.957425</td>\n",
       "      <td>0.431426</td>\n",
       "      <td>43.940138</td>\n",
       "      <td>0.902539</td>\n",
       "      <td>0.525625</td>\n",
       "      <td>1.009887</td>\n",
       "      <td>10.338658</td>\n",
       "      <td>1.291987</td>\n",
       "      <td>0.640513</td>\n",
       "      <td>0.140256</td>\n",
       "      <td>0.266747</td>\n",
       "      <td>0.042061</td>\n",
       "      <td>0.942925</td>\n",
       "      <td>3.799218e+04</td>\n",
       "    </tr>\n",
       "    <tr>\n",
       "      <th>min</th>\n",
       "      <td>0.000000</td>\n",
       "      <td>1603.000000</td>\n",
       "      <td>4.500000</td>\n",
       "      <td>236.090000</td>\n",
       "      <td>0.680000</td>\n",
       "      <td>0.000000</td>\n",
       "      <td>3.000000</td>\n",
       "      <td>34.370000</td>\n",
       "      <td>2.000000</td>\n",
       "      <td>2.000000</td>\n",
       "      <td>0.070000</td>\n",
       "      <td>0.000000</td>\n",
       "      <td>0.230000</td>\n",
       "      <td>0.980000</td>\n",
       "      <td>2.196434e+07</td>\n",
       "    </tr>\n",
       "    <tr>\n",
       "      <th>25%</th>\n",
       "      <td>9.750000</td>\n",
       "      <td>1612.750000</td>\n",
       "      <td>4.900000</td>\n",
       "      <td>331.632500</td>\n",
       "      <td>1.650000</td>\n",
       "      <td>1.000000</td>\n",
       "      <td>5.000000</td>\n",
       "      <td>72.200000</td>\n",
       "      <td>3.000000</td>\n",
       "      <td>2.000000</td>\n",
       "      <td>0.210000</td>\n",
       "      <td>0.000000</td>\n",
       "      <td>0.260000</td>\n",
       "      <td>2.115000</td>\n",
       "      <td>2.213647e+07</td>\n",
       "    </tr>\n",
       "    <tr>\n",
       "      <th>50%</th>\n",
       "      <td>19.500000</td>\n",
       "      <td>1623.500000</td>\n",
       "      <td>5.200000</td>\n",
       "      <td>354.115000</td>\n",
       "      <td>2.495000</td>\n",
       "      <td>1.000000</td>\n",
       "      <td>6.000000</td>\n",
       "      <td>77.020000</td>\n",
       "      <td>3.500000</td>\n",
       "      <td>2.000000</td>\n",
       "      <td>0.360000</td>\n",
       "      <td>0.000000</td>\n",
       "      <td>0.290000</td>\n",
       "      <td>2.975000</td>\n",
       "      <td>2.213647e+07</td>\n",
       "    </tr>\n",
       "    <tr>\n",
       "      <th>75%</th>\n",
       "      <td>29.250000</td>\n",
       "      <td>1633.250000</td>\n",
       "      <td>5.525000</td>\n",
       "      <td>376.060000</td>\n",
       "      <td>3.160000</td>\n",
       "      <td>1.000000</td>\n",
       "      <td>6.000000</td>\n",
       "      <td>81.540000</td>\n",
       "      <td>5.000000</td>\n",
       "      <td>3.000000</td>\n",
       "      <td>0.440000</td>\n",
       "      <td>0.000000</td>\n",
       "      <td>0.330000</td>\n",
       "      <td>3.452500</td>\n",
       "      <td>2.213647e+07</td>\n",
       "    </tr>\n",
       "    <tr>\n",
       "      <th>max</th>\n",
       "      <td>39.000000</td>\n",
       "      <td>1647.000000</td>\n",
       "      <td>6.200000</td>\n",
       "      <td>463.210000</td>\n",
       "      <td>4.120000</td>\n",
       "      <td>2.000000</td>\n",
       "      <td>8.000000</td>\n",
       "      <td>96.700000</td>\n",
       "      <td>8.000000</td>\n",
       "      <td>5.000000</td>\n",
       "      <td>0.610000</td>\n",
       "      <td>1.000000</td>\n",
       "      <td>0.380000</td>\n",
       "      <td>4.440000</td>\n",
       "      <td>2.213647e+07</td>\n",
       "    </tr>\n",
       "  </tbody>\n",
       "</table>\n",
       "</div>"
      ],
      "text/plain": [
       "       Unnamed: 0.1  Compound's ID   Activity  Molecular weight      ALogP  \\\n",
       "count     40.000000      40.000000  40.000000         40.000000  40.000000   \n",
       "mean      19.500000    1623.550000   5.245000        355.043500   2.463250   \n",
       "std       11.690452      12.957425   0.431426         43.940138   0.902539   \n",
       "min        0.000000    1603.000000   4.500000        236.090000   0.680000   \n",
       "25%        9.750000    1612.750000   4.900000        331.632500   1.650000   \n",
       "50%       19.500000    1623.500000   5.200000        354.115000   2.495000   \n",
       "75%       29.250000    1633.250000   5.525000        376.060000   3.160000   \n",
       "max       39.000000    1647.000000   6.200000        463.210000   4.120000   \n",
       "\n",
       "       Number of H-bond donor  Number of H-bond acceptor  \\\n",
       "count               40.000000                  40.000000   \n",
       "mean                 0.925000                   5.825000   \n",
       "std                  0.525625                   1.009887   \n",
       "min                  0.000000                   3.000000   \n",
       "25%                  1.000000                   5.000000   \n",
       "50%                  1.000000                   6.000000   \n",
       "75%                  1.000000                   6.000000   \n",
       "max                  2.000000                   8.000000   \n",
       "\n",
       "       Topological surface area  Number of rotatable bond  \\\n",
       "count                 40.000000                 40.000000   \n",
       "mean                  77.933250                  3.850000   \n",
       "std                   10.338658                  1.291987   \n",
       "min                   34.370000                  2.000000   \n",
       "25%                   72.200000                  3.000000   \n",
       "50%                   77.020000                  3.500000   \n",
       "75%                   81.540000                  5.000000   \n",
       "max                   96.700000                  8.000000   \n",
       "\n",
       "       Number of aromatic ring  Number of Carbon sp3 / Number of Carbon  \\\n",
       "count                40.000000                                40.000000   \n",
       "mean                  2.500000                                 0.335250   \n",
       "std                   0.640513                                 0.140256   \n",
       "min                   2.000000                                 0.070000   \n",
       "25%                   2.000000                                 0.210000   \n",
       "50%                   2.000000                                 0.360000   \n",
       "75%                   3.000000                                 0.440000   \n",
       "max                   5.000000                                 0.610000   \n",
       "\n",
       "       Number of chiral centers  Ligand efficiency  Lipophilic efficiency  \\\n",
       "count                 40.000000          40.000000              40.000000   \n",
       "mean                   0.075000           0.297250               2.781750   \n",
       "std                    0.266747           0.042061               0.942925   \n",
       "min                    0.000000           0.230000               0.980000   \n",
       "25%                    0.000000           0.260000               2.115000   \n",
       "50%                    0.000000           0.290000               2.975000   \n",
       "75%                    0.000000           0.330000               3.452500   \n",
       "max                    1.000000           0.380000               4.440000   \n",
       "\n",
       "             Biblio  \n",
       "count  4.000000e+01  \n",
       "mean   2.212786e+07  \n",
       "std    3.799218e+04  \n",
       "min    2.196434e+07  \n",
       "25%    2.213647e+07  \n",
       "50%    2.213647e+07  \n",
       "75%    2.213647e+07  \n",
       "max    2.213647e+07  "
      ]
     },
     "execution_count": 8,
     "metadata": {},
     "output_type": "execute_result"
    }
   ],
   "source": [
    "#Valores estadisticos\n",
    "Data.describe()"
   ]
  },
  {
   "cell_type": "code",
   "execution_count": 12,
   "metadata": {},
   "outputs": [
    {
     "data": {
      "text/plain": [
       "Index(['Unnamed: 0.1', 'Compound's ID', 'CanonicalSmile',\n",
       "       'Target's bound names', 'Target's bound's uniprot', 'Test name',\n",
       "       'Activity type', 'Activity', 'Molecular weight', 'ALogP',\n",
       "       'Number of H-bond donor', 'Number of H-bond acceptor',\n",
       "       'Topological surface area', 'Number of rotatable bond',\n",
       "       'Number of aromatic ring', 'Number of Carbon sp3 / Number of Carbon',\n",
       "       'Number of chiral centers', 'Ligand efficiency',\n",
       "       'Lipophilic efficiency', 'Biblio'],\n",
       "      dtype='object')"
      ]
     },
     "execution_count": 12,
     "metadata": {},
     "output_type": "execute_result"
    }
   ],
   "source": [
    "#Nombre de las columnas\n",
    "Data.columns"
   ]
  },
  {
   "cell_type": "code",
   "execution_count": 17,
   "metadata": {},
   "outputs": [],
   "source": [
    "numerical_data  = ['Activity', 'Molecular weight', 'ALogP', 'Number of H-bond donor', 'Number of H-bond acceptor', 'Topological surface area', 'Number of rotatable bond','Number of aromatic ring', 'Number of Carbon sp3 / Number of Carbon', 'Number of chiral centers', 'Ligand efficiency','Lipophilic efficiency']"
   ]
  },
  {
   "cell_type": "code",
   "execution_count": 29,
   "metadata": {},
   "outputs": [],
   "source": [
    "#lista con variables numericas\n",
    "numerical_data = Data.columns[7:-1]"
   ]
  },
  {
   "cell_type": "code",
   "execution_count": 31,
   "metadata": {},
   "outputs": [
    {
     "data": {
      "text/plain": [
       "Index(['Activity', 'Molecular weight', 'ALogP', 'Number of H-bond donor',\n",
       "       'Number of H-bond acceptor', 'Topological surface area',\n",
       "       'Number of rotatable bond', 'Number of aromatic ring',\n",
       "       'Number of Carbon sp3 / Number of Carbon', 'Number of chiral centers',\n",
       "       'Ligand efficiency', 'Lipophilic efficiency'],\n",
       "      dtype='object')"
      ]
     },
     "execution_count": 31,
     "metadata": {},
     "output_type": "execute_result"
    }
   ],
   "source": [
    "numerical_data"
   ]
  },
  {
   "cell_type": "code",
   "execution_count": 33,
   "metadata": {},
   "outputs": [
    {
     "data": {
      "text/html": [
       "<div>\n",
       "<style scoped>\n",
       "    .dataframe tbody tr th:only-of-type {\n",
       "        vertical-align: middle;\n",
       "    }\n",
       "\n",
       "    .dataframe tbody tr th {\n",
       "        vertical-align: top;\n",
       "    }\n",
       "\n",
       "    .dataframe thead th {\n",
       "        text-align: right;\n",
       "    }\n",
       "</style>\n",
       "<table border=\"1\" class=\"dataframe\">\n",
       "  <thead>\n",
       "    <tr style=\"text-align: right;\">\n",
       "      <th></th>\n",
       "      <th>Activity</th>\n",
       "      <th>Molecular weight</th>\n",
       "      <th>ALogP</th>\n",
       "      <th>Number of H-bond donor</th>\n",
       "      <th>Number of H-bond acceptor</th>\n",
       "      <th>Topological surface area</th>\n",
       "      <th>Number of rotatable bond</th>\n",
       "      <th>Number of aromatic ring</th>\n",
       "      <th>Number of Carbon sp3 / Number of Carbon</th>\n",
       "      <th>Number of chiral centers</th>\n",
       "      <th>Ligand efficiency</th>\n",
       "      <th>Lipophilic efficiency</th>\n",
       "    </tr>\n",
       "  </thead>\n",
       "  <tbody>\n",
       "    <tr>\n",
       "      <th>0</th>\n",
       "      <td>6.2</td>\n",
       "      <td>423.15</td>\n",
       "      <td>1.76</td>\n",
       "      <td>1</td>\n",
       "      <td>7</td>\n",
       "      <td>81.40</td>\n",
       "      <td>5</td>\n",
       "      <td>3</td>\n",
       "      <td>0.27</td>\n",
       "      <td>1</td>\n",
       "      <td>0.28</td>\n",
       "      <td>4.44</td>\n",
       "    </tr>\n",
       "    <tr>\n",
       "      <th>1</th>\n",
       "      <td>6.1</td>\n",
       "      <td>415.16</td>\n",
       "      <td>2.69</td>\n",
       "      <td>1</td>\n",
       "      <td>8</td>\n",
       "      <td>93.38</td>\n",
       "      <td>3</td>\n",
       "      <td>5</td>\n",
       "      <td>0.22</td>\n",
       "      <td>1</td>\n",
       "      <td>0.27</td>\n",
       "      <td>3.41</td>\n",
       "    </tr>\n",
       "    <tr>\n",
       "      <th>2</th>\n",
       "      <td>5.0</td>\n",
       "      <td>236.09</td>\n",
       "      <td>1.90</td>\n",
       "      <td>0</td>\n",
       "      <td>3</td>\n",
       "      <td>34.37</td>\n",
       "      <td>2</td>\n",
       "      <td>3</td>\n",
       "      <td>0.07</td>\n",
       "      <td>0</td>\n",
       "      <td>0.38</td>\n",
       "      <td>3.10</td>\n",
       "    </tr>\n",
       "    <tr>\n",
       "      <th>3</th>\n",
       "      <td>5.7</td>\n",
       "      <td>306.10</td>\n",
       "      <td>2.12</td>\n",
       "      <td>1</td>\n",
       "      <td>5</td>\n",
       "      <td>72.20</td>\n",
       "      <td>3</td>\n",
       "      <td>2</td>\n",
       "      <td>0.40</td>\n",
       "      <td>0</td>\n",
       "      <td>0.37</td>\n",
       "      <td>3.58</td>\n",
       "    </tr>\n",
       "    <tr>\n",
       "      <th>4</th>\n",
       "      <td>5.5</td>\n",
       "      <td>322.10</td>\n",
       "      <td>1.45</td>\n",
       "      <td>1</td>\n",
       "      <td>6</td>\n",
       "      <td>81.43</td>\n",
       "      <td>4</td>\n",
       "      <td>2</td>\n",
       "      <td>0.40</td>\n",
       "      <td>0</td>\n",
       "      <td>0.34</td>\n",
       "      <td>4.05</td>\n",
       "    </tr>\n",
       "  </tbody>\n",
       "</table>\n",
       "</div>"
      ],
      "text/plain": [
       "   Activity  Molecular weight  ALogP  Number of H-bond donor  \\\n",
       "0       6.2            423.15   1.76                       1   \n",
       "1       6.1            415.16   2.69                       1   \n",
       "2       5.0            236.09   1.90                       0   \n",
       "3       5.7            306.10   2.12                       1   \n",
       "4       5.5            322.10   1.45                       1   \n",
       "\n",
       "   Number of H-bond acceptor  Topological surface area  \\\n",
       "0                          7                     81.40   \n",
       "1                          8                     93.38   \n",
       "2                          3                     34.37   \n",
       "3                          5                     72.20   \n",
       "4                          6                     81.43   \n",
       "\n",
       "   Number of rotatable bond  Number of aromatic ring  \\\n",
       "0                         5                        3   \n",
       "1                         3                        5   \n",
       "2                         2                        3   \n",
       "3                         3                        2   \n",
       "4                         4                        2   \n",
       "\n",
       "   Number of Carbon sp3 / Number of Carbon  Number of chiral centers  \\\n",
       "0                                     0.27                         1   \n",
       "1                                     0.22                         1   \n",
       "2                                     0.07                         0   \n",
       "3                                     0.40                         0   \n",
       "4                                     0.40                         0   \n",
       "\n",
       "   Ligand efficiency  Lipophilic efficiency  \n",
       "0               0.28                   4.44  \n",
       "1               0.27                   3.41  \n",
       "2               0.38                   3.10  \n",
       "3               0.37                   3.58  \n",
       "4               0.34                   4.05  "
      ]
     },
     "execution_count": 33,
     "metadata": {},
     "output_type": "execute_result"
    }
   ],
   "source": [
    "#Crear un DataFrame datos numericos (df_feat)\n",
    "df_feat = Data[numerical_data]\n",
    "df_feat.head()"
   ]
  },
  {
   "cell_type": "code",
   "execution_count": 34,
   "metadata": {},
   "outputs": [
    {
     "data": {
      "text/plain": [
       "<matplotlib.axes._subplots.AxesSubplot at 0x7fd022d71358>"
      ]
     },
     "execution_count": 34,
     "metadata": {},
     "output_type": "execute_result"
    },
    {
     "data": {
      "image/png": "[encoded data removed]",
      "text/plain": [
       "<Figure size 432x288 with 2 Axes>"
      ]
     },
     "metadata": {
      "needs_background": "light"
     },
     "output_type": "display_data"
    }
   ],
   "source": [
    "sns.heatmap(df_feat.corr())"
   ]
  },
  {
   "cell_type": "code",
   "execution_count": 42,
   "metadata": {},
   "outputs": [],
   "source": [
    "#Separar las variables (X, y)\n",
    "df_feat = df_feat.drop(columns=['Activity'])"
   ]
  },
  {
   "cell_type": "code",
   "execution_count": 43,
   "metadata": {},
   "outputs": [
    {
     "data": {
      "text/html": [
       "<div>\n",
       "<style scoped>\n",
       "    .dataframe tbody tr th:only-of-type {\n",
       "        vertical-align: middle;\n",
       "    }\n",
       "\n",
       "    .dataframe tbody tr th {\n",
       "        vertical-align: top;\n",
       "    }\n",
       "\n",
       "    .dataframe thead th {\n",
       "        text-align: right;\n",
       "    }\n",
       "</style>\n",
       "<table border=\"1\" class=\"dataframe\">\n",
       "  <thead>\n",
       "    <tr style=\"text-align: right;\">\n",
       "      <th></th>\n",
       "      <th>Molecular weight</th>\n",
       "      <th>ALogP</th>\n",
       "      <th>Number of H-bond donor</th>\n",
       "      <th>Number of H-bond acceptor</th>\n",
       "      <th>Topological surface area</th>\n",
       "      <th>Number of rotatable bond</th>\n",
       "      <th>Number of aromatic ring</th>\n",
       "      <th>Number of Carbon sp3 / Number of Carbon</th>\n",
       "      <th>Number of chiral centers</th>\n",
       "      <th>Ligand efficiency</th>\n",
       "      <th>Lipophilic efficiency</th>\n",
       "    </tr>\n",
       "  </thead>\n",
       "  <tbody>\n",
       "    <tr>\n",
       "      <th>0</th>\n",
       "      <td>423.15</td>\n",
       "      <td>1.76</td>\n",
       "      <td>1</td>\n",
       "      <td>7</td>\n",
       "      <td>81.40</td>\n",
       "      <td>5</td>\n",
       "      <td>3</td>\n",
       "      <td>0.27</td>\n",
       "      <td>1</td>\n",
       "      <td>0.28</td>\n",
       "      <td>4.44</td>\n",
       "    </tr>\n",
       "    <tr>\n",
       "      <th>1</th>\n",
       "      <td>415.16</td>\n",
       "      <td>2.69</td>\n",
       "      <td>1</td>\n",
       "      <td>8</td>\n",
       "      <td>93.38</td>\n",
       "      <td>3</td>\n",
       "      <td>5</td>\n",
       "      <td>0.22</td>\n",
       "      <td>1</td>\n",
       "      <td>0.27</td>\n",
       "      <td>3.41</td>\n",
       "    </tr>\n",
       "    <tr>\n",
       "      <th>2</th>\n",
       "      <td>236.09</td>\n",
       "      <td>1.90</td>\n",
       "      <td>0</td>\n",
       "      <td>3</td>\n",
       "      <td>34.37</td>\n",
       "      <td>2</td>\n",
       "      <td>3</td>\n",
       "      <td>0.07</td>\n",
       "      <td>0</td>\n",
       "      <td>0.38</td>\n",
       "      <td>3.10</td>\n",
       "    </tr>\n",
       "    <tr>\n",
       "      <th>3</th>\n",
       "      <td>306.10</td>\n",
       "      <td>2.12</td>\n",
       "      <td>1</td>\n",
       "      <td>5</td>\n",
       "      <td>72.20</td>\n",
       "      <td>3</td>\n",
       "      <td>2</td>\n",
       "      <td>0.40</td>\n",
       "      <td>0</td>\n",
       "      <td>0.37</td>\n",
       "      <td>3.58</td>\n",
       "    </tr>\n",
       "    <tr>\n",
       "      <th>4</th>\n",
       "      <td>322.10</td>\n",
       "      <td>1.45</td>\n",
       "      <td>1</td>\n",
       "      <td>6</td>\n",
       "      <td>81.43</td>\n",
       "      <td>4</td>\n",
       "      <td>2</td>\n",
       "      <td>0.40</td>\n",
       "      <td>0</td>\n",
       "      <td>0.34</td>\n",
       "      <td>4.05</td>\n",
       "    </tr>\n",
       "  </tbody>\n",
       "</table>\n",
       "</div>"
      ],
      "text/plain": [
       "   Molecular weight  ALogP  Number of H-bond donor  Number of H-bond acceptor  \\\n",
       "0            423.15   1.76                       1                          7   \n",
       "1            415.16   2.69                       1                          8   \n",
       "2            236.09   1.90                       0                          3   \n",
       "3            306.10   2.12                       1                          5   \n",
       "4            322.10   1.45                       1                          6   \n",
       "\n",
       "   Topological surface area  Number of rotatable bond  \\\n",
       "0                     81.40                         5   \n",
       "1                     93.38                         3   \n",
       "2                     34.37                         2   \n",
       "3                     72.20                         3   \n",
       "4                     81.43                         4   \n",
       "\n",
       "   Number of aromatic ring  Number of Carbon sp3 / Number of Carbon  \\\n",
       "0                        3                                     0.27   \n",
       "1                        5                                     0.22   \n",
       "2                        3                                     0.07   \n",
       "3                        2                                     0.40   \n",
       "4                        2                                     0.40   \n",
       "\n",
       "   Number of chiral centers  Ligand efficiency  Lipophilic efficiency  \n",
       "0                         1               0.28                   4.44  \n",
       "1                         1               0.27                   3.41  \n",
       "2                         0               0.38                   3.10  \n",
       "3                         0               0.37                   3.58  \n",
       "4                         0               0.34                   4.05  "
      ]
     },
     "execution_count": 43,
     "metadata": {},
     "output_type": "execute_result"
    }
   ],
   "source": [
    "df_feat.head()"
   ]
  },
  {
   "cell_type": "code",
   "execution_count": 44,
   "metadata": {},
   "outputs": [
    {
     "data": {
      "text/html": [
       "<div>\n",
       "<style scoped>\n",
       "    .dataframe tbody tr th:only-of-type {\n",
       "        vertical-align: middle;\n",
       "    }\n",
       "\n",
       "    .dataframe tbody tr th {\n",
       "        vertical-align: top;\n",
       "    }\n",
       "\n",
       "    .dataframe thead th {\n",
       "        text-align: right;\n",
       "    }\n",
       "</style>\n",
       "<table border=\"1\" class=\"dataframe\">\n",
       "  <thead>\n",
       "    <tr style=\"text-align: right;\">\n",
       "      <th></th>\n",
       "      <th>Activity</th>\n",
       "    </tr>\n",
       "  </thead>\n",
       "  <tbody>\n",
       "    <tr>\n",
       "      <th>0</th>\n",
       "      <td>6.2</td>\n",
       "    </tr>\n",
       "    <tr>\n",
       "      <th>1</th>\n",
       "      <td>6.1</td>\n",
       "    </tr>\n",
       "    <tr>\n",
       "      <th>2</th>\n",
       "      <td>5.0</td>\n",
       "    </tr>\n",
       "    <tr>\n",
       "      <th>3</th>\n",
       "      <td>5.7</td>\n",
       "    </tr>\n",
       "    <tr>\n",
       "      <th>4</th>\n",
       "      <td>5.5</td>\n",
       "    </tr>\n",
       "  </tbody>\n",
       "</table>\n",
       "</div>"
      ],
      "text/plain": [
       "   Activity\n",
       "0       6.2\n",
       "1       6.1\n",
       "2       5.0\n",
       "3       5.7\n",
       "4       5.5"
      ]
     },
     "execution_count": 44,
     "metadata": {},
     "output_type": "execute_result"
    }
   ],
   "source": [
    "#Crear un DF que almacene la actividad\n",
    "df_target = pd.DataFrame(Data[\"Activity\"], columns=[\"Activity\"])\n",
    "df_target.head()"
   ]
  },
  {
   "cell_type": "code",
   "execution_count": 45,
   "metadata": {},
   "outputs": [],
   "source": [
    "#Construir Modelo\n",
    "import sklearn\n",
    "from sklearn.model_selection import train_test_split"
   ]
  },
  {
   "cell_type": "code",
   "execution_count": 46,
   "metadata": {},
   "outputs": [],
   "source": [
    "#Separacion \n",
    "X_train, X_test, y_train, y_test = train_test_split(df_feat,df_target, test_size = 0.7)"
   ]
  },
  {
   "cell_type": "code",
   "execution_count": 48,
   "metadata": {},
   "outputs": [],
   "source": [
    "#impor modelo de regresion\n",
    "from sklearn.linear_model import LinearRegression"
   ]
  },
  {
   "cell_type": "code",
   "execution_count": 50,
   "metadata": {},
   "outputs": [],
   "source": [
    "#asignar el modelo\n",
    "lm = LinearRegression()"
   ]
  },
  {
   "cell_type": "code",
   "execution_count": 51,
   "metadata": {},
   "outputs": [
    {
     "data": {
      "text/plain": [
       "LinearRegression(copy_X=True, fit_intercept=True, n_jobs=None,\n",
       "         normalize=False)"
      ]
     },
     "execution_count": 51,
     "metadata": {},
     "output_type": "execute_result"
    }
   ],
   "source": [
    "#entrenarlo\n",
    "lm.fit(X_train, y_train)"
   ]
  },
  {
   "cell_type": "code",
   "execution_count": 52,
   "metadata": {},
   "outputs": [
    {
     "name": "stdout",
     "output_type": "stream",
     "text": [
      "[2.93098879e-14]\n"
     ]
    }
   ],
   "source": [
    "print(lm.intercept_)"
   ]
  },
  {
   "cell_type": "code",
   "execution_count": 53,
   "metadata": {},
   "outputs": [
    {
     "data": {
      "text/plain": [
       "array([[-1.40642071e-16,  1.00000000e+00, -1.60163754e-15,\n",
       "        -1.13871440e-14,  1.71652962e-15, -1.71890943e-15,\n",
       "        -3.11656873e-15, -3.16336123e-15, -1.00092857e-14,\n",
       "        -1.99174547e-13,  1.00000000e+00]])"
      ]
     },
     "execution_count": 53,
     "metadata": {},
     "output_type": "execute_result"
    }
   ],
   "source": [
    "lm.coef_"
   ]
  },
  {
   "cell_type": "code",
   "execution_count": 54,
   "metadata": {},
   "outputs": [
    {
     "data": {
      "text/plain": [
       "Index(['Molecular weight', 'ALogP', 'Number of H-bond donor',\n",
       "       'Number of H-bond acceptor', 'Topological surface area',\n",
       "       'Number of rotatable bond', 'Number of aromatic ring',\n",
       "       'Number of Carbon sp3 / Number of Carbon', 'Number of chiral centers',\n",
       "       'Ligand efficiency', 'Lipophilic efficiency'],\n",
       "      dtype='object')"
      ]
     },
     "execution_count": 54,
     "metadata": {},
     "output_type": "execute_result"
    }
   ],
   "source": [
    "X_train.columns"
   ]
  },
  {
   "cell_type": "code",
   "execution_count": 55,
   "metadata": {},
   "outputs": [],
   "source": [
    "cdf = pd.DataFrame(data = lm.coef_[0],\n",
    "                   index = X_train.columns,\n",
    "                   columns=[\"Coeficiente corelación\"])"
   ]
  },
  {
   "cell_type": "code",
   "execution_count": 56,
   "metadata": {},
   "outputs": [
    {
     "data": {
      "text/html": [
       "<div>\n",
       "<style scoped>\n",
       "    .dataframe tbody tr th:only-of-type {\n",
       "        vertical-align: middle;\n",
       "    }\n",
       "\n",
       "    .dataframe tbody tr th {\n",
       "        vertical-align: top;\n",
       "    }\n",
       "\n",
       "    .dataframe thead th {\n",
       "        text-align: right;\n",
       "    }\n",
       "</style>\n",
       "<table border=\"1\" class=\"dataframe\">\n",
       "  <thead>\n",
       "    <tr style=\"text-align: right;\">\n",
       "      <th></th>\n",
       "      <th>Coeficiente corelación</th>\n",
       "    </tr>\n",
       "  </thead>\n",
       "  <tbody>\n",
       "    <tr>\n",
       "      <th>Molecular weight</th>\n",
       "      <td>-1.406421e-16</td>\n",
       "    </tr>\n",
       "    <tr>\n",
       "      <th>ALogP</th>\n",
       "      <td>1.000000e+00</td>\n",
       "    </tr>\n",
       "    <tr>\n",
       "      <th>Number of H-bond donor</th>\n",
       "      <td>-1.601638e-15</td>\n",
       "    </tr>\n",
       "    <tr>\n",
       "      <th>Number of H-bond acceptor</th>\n",
       "      <td>-1.138714e-14</td>\n",
       "    </tr>\n",
       "    <tr>\n",
       "      <th>Topological surface area</th>\n",
       "      <td>1.716530e-15</td>\n",
       "    </tr>\n",
       "    <tr>\n",
       "      <th>Number of rotatable bond</th>\n",
       "      <td>-1.718909e-15</td>\n",
       "    </tr>\n",
       "    <tr>\n",
       "      <th>Number of aromatic ring</th>\n",
       "      <td>-3.116569e-15</td>\n",
       "    </tr>\n",
       "    <tr>\n",
       "      <th>Number of Carbon sp3 / Number of Carbon</th>\n",
       "      <td>-3.163361e-15</td>\n",
       "    </tr>\n",
       "    <tr>\n",
       "      <th>Number of chiral centers</th>\n",
       "      <td>-1.000929e-14</td>\n",
       "    </tr>\n",
       "    <tr>\n",
       "      <th>Ligand efficiency</th>\n",
       "      <td>-1.991745e-13</td>\n",
       "    </tr>\n",
       "    <tr>\n",
       "      <th>Lipophilic efficiency</th>\n",
       "      <td>1.000000e+00</td>\n",
       "    </tr>\n",
       "  </tbody>\n",
       "</table>\n",
       "</div>"
      ],
      "text/plain": [
       "                                         Coeficiente corelación\n",
       "Molecular weight                                  -1.406421e-16\n",
       "ALogP                                              1.000000e+00\n",
       "Number of H-bond donor                            -1.601638e-15\n",
       "Number of H-bond acceptor                         -1.138714e-14\n",
       "Topological surface area                           1.716530e-15\n",
       "Number of rotatable bond                          -1.718909e-15\n",
       "Number of aromatic ring                           -3.116569e-15\n",
       "Number of Carbon sp3 / Number of Carbon           -3.163361e-15\n",
       "Number of chiral centers                          -1.000929e-14\n",
       "Ligand efficiency                                 -1.991745e-13\n",
       "Lipophilic efficiency                              1.000000e+00"
      ]
     },
     "execution_count": 56,
     "metadata": {},
     "output_type": "execute_result"
    }
   ],
   "source": [
    "cdf"
   ]
  },
  {
   "cell_type": "code",
   "execution_count": 61,
   "metadata": {},
   "outputs": [],
   "source": [
    "#Prediccion\n",
    "def report(ID, Data, activity):\n",
    "    print(\"Evaluation of compund ID\", str(ID))\n",
    "    print(\"Predicted activity value: \", str(lm.predict(test)[0][0]))\n",
    "    print(\"Real activity value\", str(activity))"
   ]
  },
  {
   "cell_type": "code",
   "execution_count": 62,
   "metadata": {},
   "outputs": [
    {
     "ename": "NameError",
     "evalue": "name 'activity' is not defined",
     "output_type": "error",
     "traceback": [
      "\u001b[0;31m---------------------------------------------------------------------------\u001b[0m",
      "\u001b[0;31mNameError\u001b[0m                                 Traceback (most recent call last)",
      "\u001b[0;32m<ipython-input-62-23e07a4336d0>\u001b[0m in \u001b[0;36m<module>\u001b[0;34m\u001b[0m\n\u001b[0;32m----> 1\u001b[0;31m \u001b[0mreport\u001b[0m\u001b[0;34m(\u001b[0m\u001b[0;36m1603\u001b[0m\u001b[0;34m,\u001b[0m \u001b[0mData\u001b[0m\u001b[0;34m,\u001b[0m \u001b[0mactivity\u001b[0m\u001b[0;34m)\u001b[0m\u001b[0;34m\u001b[0m\u001b[0;34m\u001b[0m\u001b[0m\n\u001b[0m",
      "\u001b[0;31mNameError\u001b[0m: name 'activity' is not defined"
     ]
    }
   ],
   "source": [
    "report(1603, Data, activity)"
   ]
  },
  {
   "cell_type": "code",
   "execution_count": null,
   "metadata": {},
   "outputs": [],
   "source": []
  }
 ],
 "metadata": {
  "kernelspec": {
   "display_name": "Python 3",
   "language": "python",
   "name": "python3"
  },
  "language_info": {
   "codemirror_mode": {
    "name": "ipython",
    "version": 3
   },
   "file_extension": ".py",
   "mimetype": "text/x-python",
   "name": "python",
   "nbconvert_exporter": "python",
   "pygments_lexer": "ipython3",
   "version": "3.7.3"
  }
 },
 "nbformat": 4,
 "nbformat_minor": 2
}
