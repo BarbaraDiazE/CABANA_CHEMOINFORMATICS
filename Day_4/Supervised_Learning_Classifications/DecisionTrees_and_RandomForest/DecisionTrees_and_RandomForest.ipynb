{
 "cells": [
  {
   "cell_type": "markdown",
   "metadata": {},
   "source": [
    "# Decision Trees"
   ]
  },
  {
   "cell_type": "code",
   "execution_count": 1,
   "metadata": {},
   "outputs": [],
   "source": [
    "import pandas as pd\n",
    "import numpy as np\n",
    "import matplotlib.pyplot as plt\n",
    "import seaborn as sns\n",
    "%matplotlib inline\n",
    "#\n",
    "import os"
   ]
  },
  {
   "cell_type": "markdown",
   "metadata": {},
   "source": [
    "## Open Database"
   ]
  },
  {
   "cell_type": "code",
   "execution_count": 2,
   "metadata": {},
   "outputs": [
    {
     "data": {
      "text/html": [
       "<div>\n",
       "<style scoped>\n",
       "    .dataframe tbody tr th:only-of-type {\n",
       "        vertical-align: middle;\n",
       "    }\n",
       "\n",
       "    .dataframe tbody tr th {\n",
       "        vertical-align: top;\n",
       "    }\n",
       "\n",
       "    .dataframe thead th {\n",
       "        text-align: right;\n",
       "    }\n",
       "</style>\n",
       "<table border=\"1\" class=\"dataframe\">\n",
       "  <thead>\n",
       "    <tr style=\"text-align: right;\">\n",
       "      <th></th>\n",
       "      <th>#Aromatic heavy atoms</th>\n",
       "      <th>#H-bond acceptors</th>\n",
       "      <th>#H-bond donors</th>\n",
       "      <th>#Heavy atoms</th>\n",
       "      <th>#Rotatable bonds</th>\n",
       "      <th>Ali Class</th>\n",
       "      <th>Ali Log S</th>\n",
       "      <th>Ali Solubility (mg/ml)</th>\n",
       "      <th>Ali Solubility (mol/l)</th>\n",
       "      <th>BBB permeant</th>\n",
       "      <th>...</th>\n",
       "      <th>Silicos-IT Solubility (mg/ml)</th>\n",
       "      <th>Silicos-IT Solubility (mol/l)</th>\n",
       "      <th>Silicos-IT class</th>\n",
       "      <th>Synthetic Accessibility</th>\n",
       "      <th>TPSA</th>\n",
       "      <th>Veber #violations</th>\n",
       "      <th>WLOGP</th>\n",
       "      <th>XLOGP3</th>\n",
       "      <th>iLOGP</th>\n",
       "      <th>log Kp (cm/s)</th>\n",
       "    </tr>\n",
       "  </thead>\n",
       "  <tbody>\n",
       "    <tr>\n",
       "      <th>0</th>\n",
       "      <td>0</td>\n",
       "      <td>7</td>\n",
       "      <td>3</td>\n",
       "      <td>85</td>\n",
       "      <td>52</td>\n",
       "      <td>Insoluble</td>\n",
       "      <td>-32.61</td>\n",
       "      <td>2.960000e-30</td>\n",
       "      <td>2.480000e-33</td>\n",
       "      <td>No</td>\n",
       "      <td>...</td>\n",
       "      <td>2.920000e-18</td>\n",
       "      <td>2.440000e-21</td>\n",
       "      <td>Insoluble</td>\n",
       "      <td>10.00</td>\n",
       "      <td>105.45</td>\n",
       "      <td>1</td>\n",
       "      <td>22.41</td>\n",
       "      <td>29.72</td>\n",
       "      <td>15.27</td>\n",
       "      <td>7.52</td>\n",
       "    </tr>\n",
       "    <tr>\n",
       "      <th>1</th>\n",
       "      <td>0</td>\n",
       "      <td>27</td>\n",
       "      <td>14</td>\n",
       "      <td>83</td>\n",
       "      <td>19</td>\n",
       "      <td>Moderately soluble</td>\n",
       "      <td>-5.13</td>\n",
       "      <td>8.840000e-03</td>\n",
       "      <td>7.400000e-06</td>\n",
       "      <td>No</td>\n",
       "      <td>...</td>\n",
       "      <td>1.260000e+07</td>\n",
       "      <td>1.050000e+04</td>\n",
       "      <td>Soluble</td>\n",
       "      <td>10.00</td>\n",
       "      <td>418.89</td>\n",
       "      <td>2</td>\n",
       "      <td>-3.54</td>\n",
       "      <td>-3.10</td>\n",
       "      <td>5.55</td>\n",
       "      <td>-15.79</td>\n",
       "    </tr>\n",
       "    <tr>\n",
       "      <th>2</th>\n",
       "      <td>0</td>\n",
       "      <td>26</td>\n",
       "      <td>14</td>\n",
       "      <td>83</td>\n",
       "      <td>17</td>\n",
       "      <td>Poorly soluble</td>\n",
       "      <td>-6.01</td>\n",
       "      <td>1.170000e-03</td>\n",
       "      <td>9.800000e-07</td>\n",
       "      <td>No</td>\n",
       "      <td>...</td>\n",
       "      <td>3.630000e+06</td>\n",
       "      <td>3.040000e+03</td>\n",
       "      <td>Soluble</td>\n",
       "      <td>10.00</td>\n",
       "      <td>393.98</td>\n",
       "      <td>2</td>\n",
       "      <td>-2.66</td>\n",
       "      <td>-1.75</td>\n",
       "      <td>5.80</td>\n",
       "      <td>-14.83</td>\n",
       "    </tr>\n",
       "    <tr>\n",
       "      <th>3</th>\n",
       "      <td>6</td>\n",
       "      <td>14</td>\n",
       "      <td>3</td>\n",
       "      <td>79</td>\n",
       "      <td>63</td>\n",
       "      <td>Insoluble</td>\n",
       "      <td>-27.92</td>\n",
       "      <td>1.350000e-25</td>\n",
       "      <td>1.210000e-28</td>\n",
       "      <td>No</td>\n",
       "      <td>...</td>\n",
       "      <td>3.870000e-16</td>\n",
       "      <td>3.460000e-19</td>\n",
       "      <td>Insoluble</td>\n",
       "      <td>9.97</td>\n",
       "      <td>201.42</td>\n",
       "      <td>2</td>\n",
       "      <td>16.88</td>\n",
       "      <td>23.26</td>\n",
       "      <td>12.70</td>\n",
       "      <td>3.40</td>\n",
       "    </tr>\n",
       "    <tr>\n",
       "      <th>4</th>\n",
       "      <td>6</td>\n",
       "      <td>8</td>\n",
       "      <td>3</td>\n",
       "      <td>67</td>\n",
       "      <td>54</td>\n",
       "      <td>Insoluble</td>\n",
       "      <td>-26.06</td>\n",
       "      <td>8.140000e-24</td>\n",
       "      <td>8.630000e-27</td>\n",
       "      <td>No</td>\n",
       "      <td>...</td>\n",
       "      <td>3.000000e-16</td>\n",
       "      <td>3.180000e-19</td>\n",
       "      <td>Insoluble</td>\n",
       "      <td>8.97</td>\n",
       "      <td>122.52</td>\n",
       "      <td>1</td>\n",
       "      <td>16.91</td>\n",
       "      <td>23.07</td>\n",
       "      <td>12.32</td>\n",
       "      <td>4.32</td>\n",
       "    </tr>\n",
       "  </tbody>\n",
       "</table>\n",
       "<p>5 rows × 54 columns</p>\n",
       "</div>"
      ],
      "text/plain": [
       "   #Aromatic heavy atoms  #H-bond acceptors  #H-bond donors  #Heavy atoms  \\\n",
       "0                      0                  7               3            85   \n",
       "1                      0                 27              14            83   \n",
       "2                      0                 26              14            83   \n",
       "3                      6                 14               3            79   \n",
       "4                      6                  8               3            67   \n",
       "\n",
       "   #Rotatable bonds           Ali Class  Ali Log S  Ali Solubility (mg/ml)  \\\n",
       "0                52           Insoluble     -32.61            2.960000e-30   \n",
       "1                19  Moderately soluble      -5.13            8.840000e-03   \n",
       "2                17      Poorly soluble      -6.01            1.170000e-03   \n",
       "3                63           Insoluble     -27.92            1.350000e-25   \n",
       "4                54           Insoluble     -26.06            8.140000e-24   \n",
       "\n",
       "   Ali Solubility (mol/l) BBB permeant  ...  Silicos-IT Solubility (mg/ml)  \\\n",
       "0            2.480000e-33           No  ...                   2.920000e-18   \n",
       "1            7.400000e-06           No  ...                   1.260000e+07   \n",
       "2            9.800000e-07           No  ...                   3.630000e+06   \n",
       "3            1.210000e-28           No  ...                   3.870000e-16   \n",
       "4            8.630000e-27           No  ...                   3.000000e-16   \n",
       "\n",
       "   Silicos-IT Solubility (mol/l) Silicos-IT class Synthetic Accessibility  \\\n",
       "0                   2.440000e-21        Insoluble                   10.00   \n",
       "1                   1.050000e+04          Soluble                   10.00   \n",
       "2                   3.040000e+03          Soluble                   10.00   \n",
       "3                   3.460000e-19        Insoluble                    9.97   \n",
       "4                   3.180000e-19        Insoluble                    8.97   \n",
       "\n",
       "     TPSA Veber #violations  WLOGP XLOGP3  iLOGP  log Kp (cm/s)  \n",
       "0  105.45                 1  22.41  29.72  15.27           7.52  \n",
       "1  418.89                 2  -3.54  -3.10   5.55         -15.79  \n",
       "2  393.98                 2  -2.66  -1.75   5.80         -14.83  \n",
       "3  201.42                 2  16.88  23.26  12.70           3.40  \n",
       "4  122.52                 1  16.91  23.07  12.32           4.32  \n",
       "\n",
       "[5 rows x 54 columns]"
      ]
     },
     "execution_count": 2,
     "metadata": {},
     "output_type": "execute_result"
    }
   ],
   "source": [
    "#Modify Dataset location\n",
    "Data = pd.read_csv(\"/home/babs/Documents/DIFACQUIM/CABANA_CHEMOINFORMATICS/Day_4/Supervised_Learning_Classifications/DecisionTrees_and_RandomForest/Data/Data_SVM.csv\", sep = \",\")\n",
    "Data = Data.drop(\"Unnamed: 0\", axis = 1)\n",
    "Data.head()"
   ]
  },
  {
   "cell_type": "code",
   "execution_count": 3,
   "metadata": {},
   "outputs": [
    {
     "data": {
      "text/plain": [
       "Index(['#Aromatic heavy atoms', '#H-bond acceptors', '#H-bond donors',\n",
       "       '#Heavy atoms', '#Rotatable bonds', 'Ali Class', 'Ali Log S',\n",
       "       'Ali Solubility (mg/ml)', 'Ali Solubility (mol/l)', 'BBB permeant',\n",
       "       'Bioavailability Score', 'Brenk #alerts', 'CYP1A2 inhibitor',\n",
       "       'CYP2C19 inhibitor', 'CYP2C9 inhibitor', 'CYP2D6 inhibitor',\n",
       "       'CYP3A4 inhibitor', 'Canonical SMILES', 'Consensus Log P', 'Drug Like',\n",
       "       'ESOL Class', 'ESOL Log S', 'ESOL Solubility (mg/ml)',\n",
       "       'ESOL Solubility (mol/l)', 'Egan #violations', 'Formula',\n",
       "       'Fraction Csp3', 'GI absorption', 'Ghose #violations', 'ID_Database',\n",
       "       'Input Smiles', 'Leadlikeness #violations', 'Library',\n",
       "       'Lipinski #violations', 'MLOGP', 'MR', 'MW', 'Molecule',\n",
       "       'Muegge #violations', 'Name', 'PAINS #alerts', 'Pgp substrate',\n",
       "       'Silicos-IT Log P', 'Silicos-IT LogSw', 'Silicos-IT Solubility (mg/ml)',\n",
       "       'Silicos-IT Solubility (mol/l)', 'Silicos-IT class',\n",
       "       'Synthetic Accessibility', 'TPSA', 'Veber #violations', 'WLOGP',\n",
       "       'XLOGP3', 'iLOGP', 'log Kp (cm/s)'],\n",
       "      dtype='object')"
      ]
     },
     "execution_count": 3,
     "metadata": {},
     "output_type": "execute_result"
    }
   ],
   "source": [
    "Data.columns"
   ]
  },
  {
   "cell_type": "code",
   "execution_count": 4,
   "metadata": {},
   "outputs": [
    {
     "data": {
      "text/plain": [
       "array(['Afro', 'Biofacquim', 'FDA'], dtype=object)"
      ]
     },
     "execution_count": 4,
     "metadata": {},
     "output_type": "execute_result"
    }
   ],
   "source": [
    "#Visualize libreries\n",
    "Data.Library.unique()"
   ]
  },
  {
   "cell_type": "code",
   "execution_count": 5,
   "metadata": {},
   "outputs": [
    {
     "data": {
      "text/plain": [
       "<matplotlib.axes._subplots.AxesSubplot at 0x7f28002182b0>"
      ]
     },
     "execution_count": 5,
     "metadata": {},
     "output_type": "execute_result"
    },
    {
     "data": {
      "image/png": "[encoded data removed]",
      "text/plain": [
       "<Figure size 432x288 with 1 Axes>"
      ]
     },
     "metadata": {
      "needs_background": "light"
     },
     "output_type": "display_data"
    }
   ],
   "source": [
    "\"\"\"Explore Data\"\"\"\n",
    "#Plot descriptors\n",
    "\"\"\"Plot a Descriptor\"\"\"\n",
    "sns.boxplot(x = \"Library\", y = Data[\"MW\"], data=Data)"
   ]
  },
  {
   "cell_type": "code",
   "execution_count": 6,
   "metadata": {},
   "outputs": [
    {
     "data": {
      "text/plain": [
       "Index(['#Aromatic heavy atoms', '#H-bond acceptors', '#H-bond donors',\n",
       "       '#Heavy atoms', '#Rotatable bonds', 'Ali Log S',\n",
       "       'Ali Solubility (mg/ml)', 'Ali Solubility (mol/l)',\n",
       "       'Bioavailability Score', 'Brenk #alerts', 'Consensus Log P',\n",
       "       'Drug Like', 'ESOL Log S', 'ESOL Solubility (mg/ml)',\n",
       "       'ESOL Solubility (mol/l)', 'Egan #violations', 'Fraction Csp3',\n",
       "       'Ghose #violations', 'Leadlikeness #violations', 'Lipinski #violations',\n",
       "       'MLOGP', 'MR', 'MW', 'Muegge #violations', 'PAINS #alerts',\n",
       "       'Silicos-IT Log P', 'Silicos-IT LogSw', 'Silicos-IT Solubility (mg/ml)',\n",
       "       'Silicos-IT Solubility (mol/l)', 'Synthetic Accessibility', 'TPSA',\n",
       "       'Veber #violations', 'WLOGP', 'XLOGP3', 'iLOGP', 'log Kp (cm/s)'],\n",
       "      dtype='object')"
      ]
     },
     "execution_count": 6,
     "metadata": {},
     "output_type": "execute_result"
    }
   ],
   "source": [
    "#Numerical Data Variables\n",
    "Data.select_dtypes(np.number).columns"
   ]
  },
  {
   "cell_type": "code",
   "execution_count": 7,
   "metadata": {},
   "outputs": [],
   "source": [
    "feature_names = ['#Aromatic heavy atoms', '#H-bond acceptors', '#H-bond donors',\n",
    "       '#Heavy atoms', '#Rotatable bonds', 'Ali Log S',\n",
    "       'Ali Solubility (mg/ml)', 'Ali Solubility (mol/l)',\n",
    "       'Bioavailability Score', 'Brenk #alerts', 'Consensus Log P',\n",
    "       'Drug Like', 'ESOL Log S', 'ESOL Solubility (mg/ml)',\n",
    "       'ESOL Solubility (mol/l)', 'Egan #violations', 'Fraction Csp3',\n",
    "       'Ghose #violations', 'Leadlikeness #violations', 'Lipinski #violations',\n",
    "       'MLOGP', 'MR', 'MW', 'Muegge #violations', 'PAINS #alerts',\n",
    "       'Silicos-IT Log P', 'Silicos-IT LogSw', 'Silicos-IT Solubility (mg/ml)',\n",
    "       'Silicos-IT Solubility (mol/l)', 'Synthetic Accessibility', 'TPSA',\n",
    "       'Veber #violations', 'WLOGP', 'XLOGP3', 'iLOGP', 'log Kp (cm/s)']"
   ]
  },
  {
   "cell_type": "code",
   "execution_count": 8,
   "metadata": {},
   "outputs": [
    {
     "data": {
      "text/plain": [
       "['#Aromatic heavy atoms',\n",
       " '#H-bond acceptors',\n",
       " '#H-bond donors',\n",
       " '#Heavy atoms',\n",
       " '#Rotatable bonds',\n",
       " 'Ali Log S',\n",
       " 'Ali Solubility (mg/ml)',\n",
       " 'Ali Solubility (mol/l)',\n",
       " 'Bioavailability Score',\n",
       " 'Brenk #alerts',\n",
       " 'Consensus Log P',\n",
       " 'ESOL Log S',\n",
       " 'ESOL Solubility (mg/ml)',\n",
       " 'ESOL Solubility (mol/l)',\n",
       " 'Egan #violations',\n",
       " 'Fraction Csp3',\n",
       " 'Ghose #violations',\n",
       " 'Leadlikeness #violations',\n",
       " 'Lipinski #violations',\n",
       " 'MLOGP',\n",
       " 'MR',\n",
       " 'MW',\n",
       " 'Muegge #violations',\n",
       " 'PAINS #alerts',\n",
       " 'Silicos-IT Log P',\n",
       " 'Silicos-IT LogSw',\n",
       " 'Silicos-IT Solubility (mg/ml)',\n",
       " 'Silicos-IT Solubility (mol/l)',\n",
       " 'Synthetic Accessibility',\n",
       " 'TPSA',\n",
       " 'Veber #violations',\n",
       " 'WLOGP',\n",
       " 'XLOGP3',\n",
       " 'iLOGP',\n",
       " 'log Kp (cm/s)']"
      ]
     },
     "execution_count": 8,
     "metadata": {},
     "output_type": "execute_result"
    }
   ],
   "source": [
    "#Remove column target (\"Drug Like\")\n",
    "feature_names.remove('Drug Like')\n",
    "feature_names"
   ]
  },
  {
   "cell_type": "code",
   "execution_count": 9,
   "metadata": {},
   "outputs": [
    {
     "data": {
      "text/html": [
       "<div>\n",
       "<style scoped>\n",
       "    .dataframe tbody tr th:only-of-type {\n",
       "        vertical-align: middle;\n",
       "    }\n",
       "\n",
       "    .dataframe tbody tr th {\n",
       "        vertical-align: top;\n",
       "    }\n",
       "\n",
       "    .dataframe thead th {\n",
       "        text-align: right;\n",
       "    }\n",
       "</style>\n",
       "<table border=\"1\" class=\"dataframe\">\n",
       "  <thead>\n",
       "    <tr style=\"text-align: right;\">\n",
       "      <th></th>\n",
       "      <th>#Aromatic heavy atoms</th>\n",
       "      <th>#H-bond acceptors</th>\n",
       "      <th>#H-bond donors</th>\n",
       "      <th>#Heavy atoms</th>\n",
       "      <th>#Rotatable bonds</th>\n",
       "      <th>Ali Log S</th>\n",
       "      <th>Ali Solubility (mg/ml)</th>\n",
       "      <th>Ali Solubility (mol/l)</th>\n",
       "      <th>Bioavailability Score</th>\n",
       "      <th>Brenk #alerts</th>\n",
       "      <th>...</th>\n",
       "      <th>Silicos-IT LogSw</th>\n",
       "      <th>Silicos-IT Solubility (mg/ml)</th>\n",
       "      <th>Silicos-IT Solubility (mol/l)</th>\n",
       "      <th>Synthetic Accessibility</th>\n",
       "      <th>TPSA</th>\n",
       "      <th>Veber #violations</th>\n",
       "      <th>WLOGP</th>\n",
       "      <th>XLOGP3</th>\n",
       "      <th>iLOGP</th>\n",
       "      <th>log Kp (cm/s)</th>\n",
       "    </tr>\n",
       "  </thead>\n",
       "  <tbody>\n",
       "    <tr>\n",
       "      <th>0</th>\n",
       "      <td>0</td>\n",
       "      <td>7</td>\n",
       "      <td>3</td>\n",
       "      <td>85</td>\n",
       "      <td>52</td>\n",
       "      <td>-32.61</td>\n",
       "      <td>2.960000e-30</td>\n",
       "      <td>2.480000e-33</td>\n",
       "      <td>0.17</td>\n",
       "      <td>1</td>\n",
       "      <td>...</td>\n",
       "      <td>-20.61</td>\n",
       "      <td>2.920000e-18</td>\n",
       "      <td>2.440000e-21</td>\n",
       "      <td>10.00</td>\n",
       "      <td>105.45</td>\n",
       "      <td>1</td>\n",
       "      <td>22.41</td>\n",
       "      <td>29.72</td>\n",
       "      <td>15.27</td>\n",
       "      <td>7.52</td>\n",
       "    </tr>\n",
       "    <tr>\n",
       "      <th>1</th>\n",
       "      <td>0</td>\n",
       "      <td>27</td>\n",
       "      <td>14</td>\n",
       "      <td>83</td>\n",
       "      <td>19</td>\n",
       "      <td>-5.13</td>\n",
       "      <td>8.840000e-03</td>\n",
       "      <td>7.400000e-06</td>\n",
       "      <td>0.17</td>\n",
       "      <td>1</td>\n",
       "      <td>...</td>\n",
       "      <td>4.02</td>\n",
       "      <td>1.260000e+07</td>\n",
       "      <td>1.050000e+04</td>\n",
       "      <td>10.00</td>\n",
       "      <td>418.89</td>\n",
       "      <td>2</td>\n",
       "      <td>-3.54</td>\n",
       "      <td>-3.10</td>\n",
       "      <td>5.55</td>\n",
       "      <td>-15.79</td>\n",
       "    </tr>\n",
       "    <tr>\n",
       "      <th>2</th>\n",
       "      <td>0</td>\n",
       "      <td>26</td>\n",
       "      <td>14</td>\n",
       "      <td>83</td>\n",
       "      <td>17</td>\n",
       "      <td>-6.01</td>\n",
       "      <td>1.170000e-03</td>\n",
       "      <td>9.800000e-07</td>\n",
       "      <td>0.17</td>\n",
       "      <td>1</td>\n",
       "      <td>...</td>\n",
       "      <td>3.48</td>\n",
       "      <td>3.630000e+06</td>\n",
       "      <td>3.040000e+03</td>\n",
       "      <td>10.00</td>\n",
       "      <td>393.98</td>\n",
       "      <td>2</td>\n",
       "      <td>-2.66</td>\n",
       "      <td>-1.75</td>\n",
       "      <td>5.80</td>\n",
       "      <td>-14.83</td>\n",
       "    </tr>\n",
       "    <tr>\n",
       "      <th>3</th>\n",
       "      <td>6</td>\n",
       "      <td>14</td>\n",
       "      <td>3</td>\n",
       "      <td>79</td>\n",
       "      <td>63</td>\n",
       "      <td>-27.92</td>\n",
       "      <td>1.350000e-25</td>\n",
       "      <td>1.210000e-28</td>\n",
       "      <td>0.11</td>\n",
       "      <td>2</td>\n",
       "      <td>...</td>\n",
       "      <td>-18.46</td>\n",
       "      <td>3.870000e-16</td>\n",
       "      <td>3.460000e-19</td>\n",
       "      <td>9.97</td>\n",
       "      <td>201.42</td>\n",
       "      <td>2</td>\n",
       "      <td>16.88</td>\n",
       "      <td>23.26</td>\n",
       "      <td>12.70</td>\n",
       "      <td>3.40</td>\n",
       "    </tr>\n",
       "    <tr>\n",
       "      <th>4</th>\n",
       "      <td>6</td>\n",
       "      <td>8</td>\n",
       "      <td>3</td>\n",
       "      <td>67</td>\n",
       "      <td>54</td>\n",
       "      <td>-26.06</td>\n",
       "      <td>8.140000e-24</td>\n",
       "      <td>8.630000e-27</td>\n",
       "      <td>0.17</td>\n",
       "      <td>2</td>\n",
       "      <td>...</td>\n",
       "      <td>-18.50</td>\n",
       "      <td>3.000000e-16</td>\n",
       "      <td>3.180000e-19</td>\n",
       "      <td>8.97</td>\n",
       "      <td>122.52</td>\n",
       "      <td>1</td>\n",
       "      <td>16.91</td>\n",
       "      <td>23.07</td>\n",
       "      <td>12.32</td>\n",
       "      <td>4.32</td>\n",
       "    </tr>\n",
       "  </tbody>\n",
       "</table>\n",
       "<p>5 rows × 35 columns</p>\n",
       "</div>"
      ],
      "text/plain": [
       "   #Aromatic heavy atoms  #H-bond acceptors  #H-bond donors  #Heavy atoms  \\\n",
       "0                      0                  7               3            85   \n",
       "1                      0                 27              14            83   \n",
       "2                      0                 26              14            83   \n",
       "3                      6                 14               3            79   \n",
       "4                      6                  8               3            67   \n",
       "\n",
       "   #Rotatable bonds  Ali Log S  Ali Solubility (mg/ml)  \\\n",
       "0                52     -32.61            2.960000e-30   \n",
       "1                19      -5.13            8.840000e-03   \n",
       "2                17      -6.01            1.170000e-03   \n",
       "3                63     -27.92            1.350000e-25   \n",
       "4                54     -26.06            8.140000e-24   \n",
       "\n",
       "   Ali Solubility (mol/l)  Bioavailability Score  Brenk #alerts  ...  \\\n",
       "0            2.480000e-33                   0.17              1  ...   \n",
       "1            7.400000e-06                   0.17              1  ...   \n",
       "2            9.800000e-07                   0.17              1  ...   \n",
       "3            1.210000e-28                   0.11              2  ...   \n",
       "4            8.630000e-27                   0.17              2  ...   \n",
       "\n",
       "   Silicos-IT LogSw  Silicos-IT Solubility (mg/ml)  \\\n",
       "0            -20.61                   2.920000e-18   \n",
       "1              4.02                   1.260000e+07   \n",
       "2              3.48                   3.630000e+06   \n",
       "3            -18.46                   3.870000e-16   \n",
       "4            -18.50                   3.000000e-16   \n",
       "\n",
       "   Silicos-IT Solubility (mol/l)  Synthetic Accessibility    TPSA  \\\n",
       "0                   2.440000e-21                    10.00  105.45   \n",
       "1                   1.050000e+04                    10.00  418.89   \n",
       "2                   3.040000e+03                    10.00  393.98   \n",
       "3                   3.460000e-19                     9.97  201.42   \n",
       "4                   3.180000e-19                     8.97  122.52   \n",
       "\n",
       "   Veber #violations  WLOGP  XLOGP3  iLOGP  log Kp (cm/s)  \n",
       "0                  1  22.41   29.72  15.27           7.52  \n",
       "1                  2  -3.54   -3.10   5.55         -15.79  \n",
       "2                  2  -2.66   -1.75   5.80         -14.83  \n",
       "3                  2  16.88   23.26  12.70           3.40  \n",
       "4                  1  16.91   23.07  12.32           4.32  \n",
       "\n",
       "[5 rows x 35 columns]"
      ]
     },
     "execution_count": 9,
     "metadata": {},
     "output_type": "execute_result"
    }
   ],
   "source": [
    "#Convert numerial data into a new DF\n",
    "df_feat = Data[feature_names]\n",
    "df_feat.head()"
   ]
  },
  {
   "cell_type": "code",
   "execution_count": 10,
   "metadata": {},
   "outputs": [
    {
     "data": {
      "text/html": [
       "<div>\n",
       "<style scoped>\n",
       "    .dataframe tbody tr th:only-of-type {\n",
       "        vertical-align: middle;\n",
       "    }\n",
       "\n",
       "    .dataframe tbody tr th {\n",
       "        vertical-align: top;\n",
       "    }\n",
       "\n",
       "    .dataframe thead th {\n",
       "        text-align: right;\n",
       "    }\n",
       "</style>\n",
       "<table border=\"1\" class=\"dataframe\">\n",
       "  <thead>\n",
       "    <tr style=\"text-align: right;\">\n",
       "      <th></th>\n",
       "      <th>#Aromatic heavy atoms</th>\n",
       "      <th>#H-bond acceptors</th>\n",
       "      <th>#H-bond donors</th>\n",
       "      <th>#Heavy atoms</th>\n",
       "      <th>#Rotatable bonds</th>\n",
       "      <th>Ali Log S</th>\n",
       "      <th>Ali Solubility (mg/ml)</th>\n",
       "      <th>Ali Solubility (mol/l)</th>\n",
       "      <th>Bioavailability Score</th>\n",
       "      <th>Brenk #alerts</th>\n",
       "      <th>...</th>\n",
       "      <th>Silicos-IT LogSw</th>\n",
       "      <th>Silicos-IT Solubility (mg/ml)</th>\n",
       "      <th>Silicos-IT Solubility (mol/l)</th>\n",
       "      <th>Synthetic Accessibility</th>\n",
       "      <th>TPSA</th>\n",
       "      <th>Veber #violations</th>\n",
       "      <th>WLOGP</th>\n",
       "      <th>XLOGP3</th>\n",
       "      <th>iLOGP</th>\n",
       "      <th>log Kp (cm/s)</th>\n",
       "    </tr>\n",
       "  </thead>\n",
       "  <tbody>\n",
       "    <tr>\n",
       "      <th>count</th>\n",
       "      <td>2016.000000</td>\n",
       "      <td>2016.000000</td>\n",
       "      <td>2016.000000</td>\n",
       "      <td>2016.000000</td>\n",
       "      <td>2016.000000</td>\n",
       "      <td>2016.000000</td>\n",
       "      <td>2.016000e+03</td>\n",
       "      <td>2.016000e+03</td>\n",
       "      <td>2016.000000</td>\n",
       "      <td>2016.000000</td>\n",
       "      <td>...</td>\n",
       "      <td>2016.000000</td>\n",
       "      <td>2.016000e+03</td>\n",
       "      <td>2.016000e+03</td>\n",
       "      <td>2016.000000</td>\n",
       "      <td>2016.000000</td>\n",
       "      <td>2016.000000</td>\n",
       "      <td>2016.000000</td>\n",
       "      <td>2016.00000</td>\n",
       "      <td>2016.000000</td>\n",
       "      <td>2016.000000</td>\n",
       "    </tr>\n",
       "    <tr>\n",
       "      <th>mean</th>\n",
       "      <td>8.267361</td>\n",
       "      <td>5.093750</td>\n",
       "      <td>1.997024</td>\n",
       "      <td>26.053571</td>\n",
       "      <td>4.527778</td>\n",
       "      <td>-4.785933</td>\n",
       "      <td>1.907376e+01</td>\n",
       "      <td>9.424622e-02</td>\n",
       "      <td>0.520084</td>\n",
       "      <td>0.750496</td>\n",
       "      <td>...</td>\n",
       "      <td>-4.541915</td>\n",
       "      <td>6.303797e+05</td>\n",
       "      <td>4.841053e+02</td>\n",
       "      <td>4.120476</td>\n",
       "      <td>81.644271</td>\n",
       "      <td>0.149306</td>\n",
       "      <td>3.156126</td>\n",
       "      <td>3.38752</td>\n",
       "      <td>2.936696</td>\n",
       "      <td>-6.118403</td>\n",
       "    </tr>\n",
       "    <tr>\n",
       "      <th>std</th>\n",
       "      <td>6.596371</td>\n",
       "      <td>4.051608</td>\n",
       "      <td>2.221705</td>\n",
       "      <td>12.555588</td>\n",
       "      <td>5.690550</td>\n",
       "      <td>3.109305</td>\n",
       "      <td>2.511777e+02</td>\n",
       "      <td>1.308659e+00</td>\n",
       "      <td>0.106836</td>\n",
       "      <td>0.891509</td>\n",
       "      <td>...</td>\n",
       "      <td>2.478155</td>\n",
       "      <td>2.542951e+07</td>\n",
       "      <td>1.899615e+04</td>\n",
       "      <td>1.678331</td>\n",
       "      <td>62.057860</td>\n",
       "      <td>0.403495</td>\n",
       "      <td>2.484294</td>\n",
       "      <td>2.93177</td>\n",
       "      <td>1.318862</td>\n",
       "      <td>1.953024</td>\n",
       "    </tr>\n",
       "    <tr>\n",
       "      <th>min</th>\n",
       "      <td>0.000000</td>\n",
       "      <td>0.000000</td>\n",
       "      <td>0.000000</td>\n",
       "      <td>0.000000</td>\n",
       "      <td>0.000000</td>\n",
       "      <td>-32.610000</td>\n",
       "      <td>2.960000e-30</td>\n",
       "      <td>2.480000e-33</td>\n",
       "      <td>0.110000</td>\n",
       "      <td>0.000000</td>\n",
       "      <td>...</td>\n",
       "      <td>-20.610000</td>\n",
       "      <td>2.920000e-18</td>\n",
       "      <td>2.440000e-21</td>\n",
       "      <td>1.000000</td>\n",
       "      <td>0.000000</td>\n",
       "      <td>0.000000</td>\n",
       "      <td>-5.940000</td>\n",
       "      <td>-4.18000</td>\n",
       "      <td>-0.540000</td>\n",
       "      <td>-17.190000</td>\n",
       "    </tr>\n",
       "    <tr>\n",
       "      <th>25%</th>\n",
       "      <td>0.000000</td>\n",
       "      <td>3.000000</td>\n",
       "      <td>1.000000</td>\n",
       "      <td>19.000000</td>\n",
       "      <td>2.000000</td>\n",
       "      <td>-5.815000</td>\n",
       "      <td>6.475000e-04</td>\n",
       "      <td>1.542500e-06</td>\n",
       "      <td>0.550000</td>\n",
       "      <td>0.000000</td>\n",
       "      <td>...</td>\n",
       "      <td>-5.902500</td>\n",
       "      <td>4.567500e-04</td>\n",
       "      <td>1.247500e-06</td>\n",
       "      <td>2.960000</td>\n",
       "      <td>46.530000</td>\n",
       "      <td>0.000000</td>\n",
       "      <td>1.700000</td>\n",
       "      <td>1.79000</td>\n",
       "      <td>2.130000</td>\n",
       "      <td>-7.000000</td>\n",
       "    </tr>\n",
       "    <tr>\n",
       "      <th>50%</th>\n",
       "      <td>6.000000</td>\n",
       "      <td>4.000000</td>\n",
       "      <td>1.500000</td>\n",
       "      <td>24.000000</td>\n",
       "      <td>3.000000</td>\n",
       "      <td>-4.220000</td>\n",
       "      <td>2.020000e-02</td>\n",
       "      <td>6.055000e-05</td>\n",
       "      <td>0.550000</td>\n",
       "      <td>1.000000</td>\n",
       "      <td>...</td>\n",
       "      <td>-4.510000</td>\n",
       "      <td>9.680000e-03</td>\n",
       "      <td>3.110000e-05</td>\n",
       "      <td>3.880000</td>\n",
       "      <td>68.200000</td>\n",
       "      <td>0.000000</td>\n",
       "      <td>2.890000</td>\n",
       "      <td>2.96000</td>\n",
       "      <td>2.865000</td>\n",
       "      <td>-6.140000</td>\n",
       "    </tr>\n",
       "    <tr>\n",
       "      <th>75%</th>\n",
       "      <td>12.000000</td>\n",
       "      <td>6.000000</td>\n",
       "      <td>3.000000</td>\n",
       "      <td>30.000000</td>\n",
       "      <td>5.000000</td>\n",
       "      <td>-3.050000</td>\n",
       "      <td>2.622500e-01</td>\n",
       "      <td>8.830000e-04</td>\n",
       "      <td>0.550000</td>\n",
       "      <td>1.000000</td>\n",
       "      <td>...</td>\n",
       "      <td>-3.030000</td>\n",
       "      <td>2.507500e-01</td>\n",
       "      <td>9.350000e-04</td>\n",
       "      <td>5.070000</td>\n",
       "      <td>99.110000</td>\n",
       "      <td>0.000000</td>\n",
       "      <td>4.270000</td>\n",
       "      <td>4.45000</td>\n",
       "      <td>3.550000</td>\n",
       "      <td>-5.280000</td>\n",
       "    </tr>\n",
       "    <tr>\n",
       "      <th>max</th>\n",
       "      <td>36.000000</td>\n",
       "      <td>47.000000</td>\n",
       "      <td>19.000000</td>\n",
       "      <td>174.000000</td>\n",
       "      <td>68.000000</td>\n",
       "      <td>1.600000</td>\n",
       "      <td>7.300000e+03</td>\n",
       "      <td>4.010000e+01</td>\n",
       "      <td>0.560000</td>\n",
       "      <td>5.000000</td>\n",
       "      <td>...</td>\n",
       "      <td>5.930000</td>\n",
       "      <td>1.140000e+09</td>\n",
       "      <td>8.510000e+05</td>\n",
       "      <td>10.000000</td>\n",
       "      <td>656.850000</td>\n",
       "      <td>2.000000</td>\n",
       "      <td>22.410000</td>\n",
       "      <td>29.72000</td>\n",
       "      <td>15.270000</td>\n",
       "      <td>7.520000</td>\n",
       "    </tr>\n",
       "  </tbody>\n",
       "</table>\n",
       "<p>8 rows × 35 columns</p>\n",
       "</div>"
      ],
      "text/plain": [
       "       #Aromatic heavy atoms  #H-bond acceptors  #H-bond donors  #Heavy atoms  \\\n",
       "count            2016.000000        2016.000000     2016.000000   2016.000000   \n",
       "mean                8.267361           5.093750        1.997024     26.053571   \n",
       "std                 6.596371           4.051608        2.221705     12.555588   \n",
       "min                 0.000000           0.000000        0.000000      0.000000   \n",
       "25%                 0.000000           3.000000        1.000000     19.000000   \n",
       "50%                 6.000000           4.000000        1.500000     24.000000   \n",
       "75%                12.000000           6.000000        3.000000     30.000000   \n",
       "max                36.000000          47.000000       19.000000    174.000000   \n",
       "\n",
       "       #Rotatable bonds    Ali Log S  Ali Solubility (mg/ml)  \\\n",
       "count       2016.000000  2016.000000            2.016000e+03   \n",
       "mean           4.527778    -4.785933            1.907376e+01   \n",
       "std            5.690550     3.109305            2.511777e+02   \n",
       "min            0.000000   -32.610000            2.960000e-30   \n",
       "25%            2.000000    -5.815000            6.475000e-04   \n",
       "50%            3.000000    -4.220000            2.020000e-02   \n",
       "75%            5.000000    -3.050000            2.622500e-01   \n",
       "max           68.000000     1.600000            7.300000e+03   \n",
       "\n",
       "       Ali Solubility (mol/l)  Bioavailability Score  Brenk #alerts  ...  \\\n",
       "count            2.016000e+03            2016.000000    2016.000000  ...   \n",
       "mean             9.424622e-02               0.520084       0.750496  ...   \n",
       "std              1.308659e+00               0.106836       0.891509  ...   \n",
       "min              2.480000e-33               0.110000       0.000000  ...   \n",
       "25%              1.542500e-06               0.550000       0.000000  ...   \n",
       "50%              6.055000e-05               0.550000       1.000000  ...   \n",
       "75%              8.830000e-04               0.550000       1.000000  ...   \n",
       "max              4.010000e+01               0.560000       5.000000  ...   \n",
       "\n",
       "       Silicos-IT LogSw  Silicos-IT Solubility (mg/ml)  \\\n",
       "count       2016.000000                   2.016000e+03   \n",
       "mean          -4.541915                   6.303797e+05   \n",
       "std            2.478155                   2.542951e+07   \n",
       "min          -20.610000                   2.920000e-18   \n",
       "25%           -5.902500                   4.567500e-04   \n",
       "50%           -4.510000                   9.680000e-03   \n",
       "75%           -3.030000                   2.507500e-01   \n",
       "max            5.930000                   1.140000e+09   \n",
       "\n",
       "       Silicos-IT Solubility (mol/l)  Synthetic Accessibility         TPSA  \\\n",
       "count                   2.016000e+03              2016.000000  2016.000000   \n",
       "mean                    4.841053e+02                 4.120476    81.644271   \n",
       "std                     1.899615e+04                 1.678331    62.057860   \n",
       "min                     2.440000e-21                 1.000000     0.000000   \n",
       "25%                     1.247500e-06                 2.960000    46.530000   \n",
       "50%                     3.110000e-05                 3.880000    68.200000   \n",
       "75%                     9.350000e-04                 5.070000    99.110000   \n",
       "max                     8.510000e+05                10.000000   656.850000   \n",
       "\n",
       "       Veber #violations        WLOGP      XLOGP3        iLOGP  log Kp (cm/s)  \n",
       "count        2016.000000  2016.000000  2016.00000  2016.000000    2016.000000  \n",
       "mean            0.149306     3.156126     3.38752     2.936696      -6.118403  \n",
       "std             0.403495     2.484294     2.93177     1.318862       1.953024  \n",
       "min             0.000000    -5.940000    -4.18000    -0.540000     -17.190000  \n",
       "25%             0.000000     1.700000     1.79000     2.130000      -7.000000  \n",
       "50%             0.000000     2.890000     2.96000     2.865000      -6.140000  \n",
       "75%             0.000000     4.270000     4.45000     3.550000      -5.280000  \n",
       "max             2.000000    22.410000    29.72000    15.270000       7.520000  \n",
       "\n",
       "[8 rows x 35 columns]"
      ]
     },
     "execution_count": 10,
     "metadata": {},
     "output_type": "execute_result"
    }
   ],
   "source": [
    "#Statistical values\n",
    "df_feat.describe()"
   ]
  },
  {
   "cell_type": "code",
   "execution_count": 11,
   "metadata": {},
   "outputs": [
    {
     "data": {
      "text/html": [
       "<div>\n",
       "<style scoped>\n",
       "    .dataframe tbody tr th:only-of-type {\n",
       "        vertical-align: middle;\n",
       "    }\n",
       "\n",
       "    .dataframe tbody tr th {\n",
       "        vertical-align: top;\n",
       "    }\n",
       "\n",
       "    .dataframe thead th {\n",
       "        text-align: right;\n",
       "    }\n",
       "</style>\n",
       "<table border=\"1\" class=\"dataframe\">\n",
       "  <thead>\n",
       "    <tr style=\"text-align: right;\">\n",
       "      <th></th>\n",
       "      <th>#Aromatic heavy atoms</th>\n",
       "      <th>#H-bond acceptors</th>\n",
       "      <th>#H-bond donors</th>\n",
       "      <th>#Heavy atoms</th>\n",
       "      <th>#Rotatable bonds</th>\n",
       "      <th>Ali Log S</th>\n",
       "      <th>Ali Solubility (mg/ml)</th>\n",
       "      <th>Ali Solubility (mol/l)</th>\n",
       "      <th>Bioavailability Score</th>\n",
       "      <th>Brenk #alerts</th>\n",
       "      <th>...</th>\n",
       "      <th>Silicos-IT LogSw</th>\n",
       "      <th>Silicos-IT Solubility (mg/ml)</th>\n",
       "      <th>Silicos-IT Solubility (mol/l)</th>\n",
       "      <th>Synthetic Accessibility</th>\n",
       "      <th>TPSA</th>\n",
       "      <th>Veber #violations</th>\n",
       "      <th>WLOGP</th>\n",
       "      <th>XLOGP3</th>\n",
       "      <th>iLOGP</th>\n",
       "      <th>log Kp (cm/s)</th>\n",
       "    </tr>\n",
       "  </thead>\n",
       "  <tbody>\n",
       "    <tr>\n",
       "      <th>#Aromatic heavy atoms</th>\n",
       "      <td>1.000000</td>\n",
       "      <td>0.126409</td>\n",
       "      <td>0.108790</td>\n",
       "      <td>0.084418</td>\n",
       "      <td>-0.103818</td>\n",
       "      <td>-0.057033</td>\n",
       "      <td>-0.076670</td>\n",
       "      <td>-0.075425</td>\n",
       "      <td>-0.123938</td>\n",
       "      <td>-0.191020</td>\n",
       "      <td>...</td>\n",
       "      <td>-0.443636</td>\n",
       "      <td>-0.031084</td>\n",
       "      <td>-0.031953</td>\n",
       "      <td>-0.250622</td>\n",
       "      <td>0.107207</td>\n",
       "      <td>0.005505</td>\n",
       "      <td>0.030473</td>\n",
       "      <td>0.014441</td>\n",
       "      <td>0.002236</td>\n",
       "      <td>-0.008776</td>\n",
       "    </tr>\n",
       "    <tr>\n",
       "      <th>#H-bond acceptors</th>\n",
       "      <td>0.126409</td>\n",
       "      <td>1.000000</td>\n",
       "      <td>0.787660</td>\n",
       "      <td>0.800916</td>\n",
       "      <td>0.519318</td>\n",
       "      <td>-0.296625</td>\n",
       "      <td>-0.013616</td>\n",
       "      <td>-0.017152</td>\n",
       "      <td>-0.621384</td>\n",
       "      <td>0.149507</td>\n",
       "      <td>...</td>\n",
       "      <td>0.185524</td>\n",
       "      <td>0.167332</td>\n",
       "      <td>0.169786</td>\n",
       "      <td>0.578521</td>\n",
       "      <td>0.947672</td>\n",
       "      <td>0.662931</td>\n",
       "      <td>-0.194023</td>\n",
       "      <td>-0.105600</td>\n",
       "      <td>0.041420</td>\n",
       "      <td>-0.566878</td>\n",
       "    </tr>\n",
       "    <tr>\n",
       "      <th>#H-bond donors</th>\n",
       "      <td>0.108790</td>\n",
       "      <td>0.787660</td>\n",
       "      <td>1.000000</td>\n",
       "      <td>0.623475</td>\n",
       "      <td>0.382184</td>\n",
       "      <td>-0.237665</td>\n",
       "      <td>0.018726</td>\n",
       "      <td>0.013147</td>\n",
       "      <td>-0.645630</td>\n",
       "      <td>0.085066</td>\n",
       "      <td>...</td>\n",
       "      <td>0.283563</td>\n",
       "      <td>0.185489</td>\n",
       "      <td>0.188512</td>\n",
       "      <td>0.457802</td>\n",
       "      <td>0.869911</td>\n",
       "      <td>0.663715</td>\n",
       "      <td>-0.237985</td>\n",
       "      <td>-0.130913</td>\n",
       "      <td>-0.058545</td>\n",
       "      <td>-0.493940</td>\n",
       "    </tr>\n",
       "    <tr>\n",
       "      <th>#Heavy atoms</th>\n",
       "      <td>0.084418</td>\n",
       "      <td>0.800916</td>\n",
       "      <td>0.623475</td>\n",
       "      <td>1.000000</td>\n",
       "      <td>0.658180</td>\n",
       "      <td>-0.700880</td>\n",
       "      <td>-0.079258</td>\n",
       "      <td>-0.080539</td>\n",
       "      <td>-0.586832</td>\n",
       "      <td>0.188960</td>\n",
       "      <td>...</td>\n",
       "      <td>-0.261144</td>\n",
       "      <td>0.127304</td>\n",
       "      <td>0.128677</td>\n",
       "      <td>0.786677</td>\n",
       "      <td>0.751593</td>\n",
       "      <td>0.607928</td>\n",
       "      <td>0.318044</td>\n",
       "      <td>0.397783</td>\n",
       "      <td>0.464867</td>\n",
       "      <td>-0.119422</td>\n",
       "    </tr>\n",
       "    <tr>\n",
       "      <th>#Rotatable bonds</th>\n",
       "      <td>-0.103818</td>\n",
       "      <td>0.519318</td>\n",
       "      <td>0.382184</td>\n",
       "      <td>0.658180</td>\n",
       "      <td>1.000000</td>\n",
       "      <td>-0.648599</td>\n",
       "      <td>-0.008307</td>\n",
       "      <td>-0.008330</td>\n",
       "      <td>-0.469302</td>\n",
       "      <td>0.139641</td>\n",
       "      <td>...</td>\n",
       "      <td>-0.244546</td>\n",
       "      <td>0.108655</td>\n",
       "      <td>0.109902</td>\n",
       "      <td>0.388101</td>\n",
       "      <td>0.490988</td>\n",
       "      <td>0.622941</td>\n",
       "      <td>0.329325</td>\n",
       "      <td>0.453884</td>\n",
       "      <td>0.465529</td>\n",
       "      <td>0.113119</td>\n",
       "    </tr>\n",
       "  </tbody>\n",
       "</table>\n",
       "<p>5 rows × 35 columns</p>\n",
       "</div>"
      ],
      "text/plain": [
       "                       #Aromatic heavy atoms  #H-bond acceptors  \\\n",
       "#Aromatic heavy atoms               1.000000           0.126409   \n",
       "#H-bond acceptors                   0.126409           1.000000   \n",
       "#H-bond donors                      0.108790           0.787660   \n",
       "#Heavy atoms                        0.084418           0.800916   \n",
       "#Rotatable bonds                   -0.103818           0.519318   \n",
       "\n",
       "                       #H-bond donors  #Heavy atoms  #Rotatable bonds  \\\n",
       "#Aromatic heavy atoms        0.108790      0.084418         -0.103818   \n",
       "#H-bond acceptors            0.787660      0.800916          0.519318   \n",
       "#H-bond donors               1.000000      0.623475          0.382184   \n",
       "#Heavy atoms                 0.623475      1.000000          0.658180   \n",
       "#Rotatable bonds             0.382184      0.658180          1.000000   \n",
       "\n",
       "                       Ali Log S  Ali Solubility (mg/ml)  \\\n",
       "#Aromatic heavy atoms  -0.057033               -0.076670   \n",
       "#H-bond acceptors      -0.296625               -0.013616   \n",
       "#H-bond donors         -0.237665                0.018726   \n",
       "#Heavy atoms           -0.700880               -0.079258   \n",
       "#Rotatable bonds       -0.648599               -0.008307   \n",
       "\n",
       "                       Ali Solubility (mol/l)  Bioavailability Score  \\\n",
       "#Aromatic heavy atoms               -0.075425              -0.123938   \n",
       "#H-bond acceptors                   -0.017152              -0.621384   \n",
       "#H-bond donors                       0.013147              -0.645630   \n",
       "#Heavy atoms                        -0.080539              -0.586832   \n",
       "#Rotatable bonds                    -0.008330              -0.469302   \n",
       "\n",
       "                       Brenk #alerts  ...  Silicos-IT LogSw  \\\n",
       "#Aromatic heavy atoms      -0.191020  ...         -0.443636   \n",
       "#H-bond acceptors           0.149507  ...          0.185524   \n",
       "#H-bond donors              0.085066  ...          0.283563   \n",
       "#Heavy atoms                0.188960  ...         -0.261144   \n",
       "#Rotatable bonds            0.139641  ...         -0.244546   \n",
       "\n",
       "                       Silicos-IT Solubility (mg/ml)  \\\n",
       "#Aromatic heavy atoms                      -0.031084   \n",
       "#H-bond acceptors                           0.167332   \n",
       "#H-bond donors                              0.185489   \n",
       "#Heavy atoms                                0.127304   \n",
       "#Rotatable bonds                            0.108655   \n",
       "\n",
       "                       Silicos-IT Solubility (mol/l)  Synthetic Accessibility  \\\n",
       "#Aromatic heavy atoms                      -0.031953                -0.250622   \n",
       "#H-bond acceptors                           0.169786                 0.578521   \n",
       "#H-bond donors                              0.188512                 0.457802   \n",
       "#Heavy atoms                                0.128677                 0.786677   \n",
       "#Rotatable bonds                            0.109902                 0.388101   \n",
       "\n",
       "                           TPSA  Veber #violations     WLOGP    XLOGP3  \\\n",
       "#Aromatic heavy atoms  0.107207           0.005505  0.030473  0.014441   \n",
       "#H-bond acceptors      0.947672           0.662931 -0.194023 -0.105600   \n",
       "#H-bond donors         0.869911           0.663715 -0.237985 -0.130913   \n",
       "#Heavy atoms           0.751593           0.607928  0.318044  0.397783   \n",
       "#Rotatable bonds       0.490988           0.622941  0.329325  0.453884   \n",
       "\n",
       "                          iLOGP  log Kp (cm/s)  \n",
       "#Aromatic heavy atoms  0.002236      -0.008776  \n",
       "#H-bond acceptors      0.041420      -0.566878  \n",
       "#H-bond donors        -0.058545      -0.493940  \n",
       "#Heavy atoms           0.464867      -0.119422  \n",
       "#Rotatable bonds       0.465529       0.113119  \n",
       "\n",
       "[5 rows x 35 columns]"
      ]
     },
     "execution_count": 11,
     "metadata": {},
     "output_type": "execute_result"
    }
   ],
   "source": [
    "#Correlation\n",
    "Correlation = df_feat.corr()\n",
    "Correlation.head()"
   ]
  },
  {
   "cell_type": "code",
   "execution_count": 12,
   "metadata": {},
   "outputs": [
    {
     "data": {
      "image/png": "[encoded data removed]",
      "text/plain": [
       "<Figure size 432x288 with 2 Axes>"
      ]
     },
     "metadata": {
      "needs_background": "light"
     },
     "output_type": "display_data"
    }
   ],
   "source": [
    "sns.heatmap(df_feat.corr())\n",
    "plt.savefig(\"correlacion_inicial.png\")"
   ]
  },
  {
   "cell_type": "code",
   "execution_count": 13,
   "metadata": {},
   "outputs": [
    {
     "name": "stdout",
     "output_type": "stream",
     "text": [
      "['#Aromatic heavy atoms', '#H-bond acceptors', '#H-bond donors', '#Heavy atoms', '#Rotatable bonds', 'Ali Log S', 'Bioavailability Score', 'Brenk #alerts', 'ESOL Log S', 'ESOL Solubility (mol/l)', 'Egan #violations', 'Fraction Csp3', 'Ghose #violations', 'Leadlikeness #violations', 'Lipinski #violations', 'MLOGP', 'MR', 'MW', 'Muegge #violations', 'PAINS #alerts', 'Silicos-IT Log P', 'Silicos-IT Solubility (mg/ml)', 'Silicos-IT Solubility (mol/l)', 'Synthetic Accessibility', 'TPSA', 'Veber #violations', 'WLOGP']\n"
     ]
    }
   ],
   "source": [
    "#Delete correlated variables (Avoid Overfitting)\n",
    "feature_names.remove('XLOGP3')\n",
    "feature_names.remove('iLOGP')\n",
    "feature_names.remove('log Kp (cm/s)')\n",
    "feature_names.remove('Silicos-IT LogSw')\n",
    "feature_names.remove('Ali Solubility (mol/l)')\n",
    "feature_names.remove('Ali Solubility (mg/ml)')\n",
    "feature_names.remove('Consensus Log P')\n",
    "feature_names.remove('ESOL Solubility (mg/ml)')\n",
    "print(feature_names)"
   ]
  },
  {
   "cell_type": "code",
   "execution_count": 14,
   "metadata": {},
   "outputs": [],
   "source": [
    "#Generate new DF (Whitout correlated data)\n",
    "df_feat = Data[feature_names]"
   ]
  },
  {
   "cell_type": "code",
   "execution_count": 15,
   "metadata": {},
   "outputs": [
    {
     "data": {
      "image/png": "[encoded data removed]",
      "text/plain": [
       "<Figure size 432x288 with 2 Axes>"
      ]
     },
     "metadata": {
      "needs_background": "light"
     },
     "output_type": "display_data"
    }
   ],
   "source": [
    "#Visualize new correlation matrix\n",
    "Correlation = df_feat.corr()\n",
    "sns.heatmap(df_feat.corr())\n",
    "plt.savefig(\"correlacion_final.png\")"
   ]
  },
  {
   "cell_type": "code",
   "execution_count": 16,
   "metadata": {},
   "outputs": [],
   "source": [
    "#Convert target into a new DF\n",
    "df_target = pd.DataFrame(Data['Drug Like'],columns=['Drug Like'])"
   ]
  },
  {
   "cell_type": "code",
   "execution_count": 17,
   "metadata": {},
   "outputs": [
    {
     "data": {
      "text/plain": [
       "'Decision Tree'"
      ]
     },
     "execution_count": 17,
     "metadata": {},
     "output_type": "execute_result"
    }
   ],
   "source": [
    "\"\"\"Decision Tree\"\"\""
   ]
  },
  {
   "cell_type": "code",
   "execution_count": 18,
   "metadata": {},
   "outputs": [],
   "source": [
    "#Train and Test Split\n",
    "from sklearn.model_selection import train_test_split"
   ]
  },
  {
   "cell_type": "code",
   "execution_count": 19,
   "metadata": {},
   "outputs": [],
   "source": [
    "X_train, X_test, y_train, y_test = train_test_split(df_feat, np.ravel(df_target), test_size=0.30, random_state=101)"
   ]
  },
  {
   "cell_type": "code",
   "execution_count": 20,
   "metadata": {},
   "outputs": [],
   "source": [
    "#Import DT\n",
    "from sklearn.model_selection import train_test_split\n",
    "from sklearn.tree import DecisionTreeClassifier, export_graphviz"
   ]
  },
  {
   "cell_type": "code",
   "execution_count": 21,
   "metadata": {},
   "outputs": [],
   "source": [
    "#define method\n",
    "dtree = DecisionTreeClassifier(max_leaf_nodes=8)\n",
    "#dtree = DecisionTreeClassifier()"
   ]
  },
  {
   "cell_type": "code",
   "execution_count": 22,
   "metadata": {},
   "outputs": [
    {
     "data": {
      "text/plain": [
       "DecisionTreeClassifier(class_weight=None, criterion='gini', max_depth=None,\n",
       "            max_features=None, max_leaf_nodes=8, min_impurity_decrease=0.0,\n",
       "            min_impurity_split=None, min_samples_leaf=1,\n",
       "            min_samples_split=2, min_weight_fraction_leaf=0.0,\n",
       "            presort=False, random_state=None, splitter='best')"
      ]
     },
     "execution_count": 22,
     "metadata": {},
     "output_type": "execute_result"
    }
   ],
   "source": [
    "#Train model\n",
    "dtree.fit(X_train,y_train) #Criterion Default Gini"
   ]
  },
  {
   "cell_type": "code",
   "execution_count": 23,
   "metadata": {},
   "outputs": [],
   "source": [
    "from IPython.display import Image  \n",
    "from sklearn.externals.six import StringIO  \n",
    "from sklearn.tree import export_graphviz\n",
    "import pydot "
   ]
  },
  {
   "cell_type": "code",
   "execution_count": 24,
   "metadata": {},
   "outputs": [
    {
     "data": {
      "image/png": "[encoded data removed]",
      "text/plain": [
       "<IPython.core.display.Image object>"
      ]
     },
     "metadata": {},
     "output_type": "display_data"
    }
   ],
   "source": [
    "#Visualization\n",
    "dot_data = StringIO()  \n",
    "export_graphviz(dtree, out_file=dot_data,feature_names=feature_names,\n",
    "                        filled=True,rounded=True)\n",
    "graph = pydot.graph_from_dot_data(dot_data.getvalue())  \n",
    "image_name = \"DT.png\"\n",
    "graph[0].write_png(image_name)\n",
    "display(Image(graph[0].create_png()))"
   ]
  },
  {
   "cell_type": "code",
   "execution_count": 25,
   "metadata": {},
   "outputs": [],
   "source": [
    "#Predictions and Evaluations\n",
    "\n",
    "#write a function to select an specific compound\n",
    "def test_compound(Data, Library, Name):\n",
    "    Data = Data[Data[\"Library\"]== Library]\n",
    "    test = Data[Data[\"Name\"]== Name]\n",
    "    test = test[feature_names]\n",
    "    #print(test.head())\n",
    "    return test"
   ]
  },
  {
   "cell_type": "code",
   "execution_count": 26,
   "metadata": {},
   "outputs": [],
   "source": [
    "#test = test_compound(Data, \"FDA\", \"Acetaminophen\")\n",
    "#test = test_compound(Data, \"FDA\", \"Ambroxol\")\n",
    "test = test_compound(Data, \"Biofacquim\", \"Purgic_acid_A\")"
   ]
  },
  {
   "cell_type": "code",
   "execution_count": 27,
   "metadata": {},
   "outputs": [
    {
     "data": {
      "text/html": [
       "<div>\n",
       "<style scoped>\n",
       "    .dataframe tbody tr th:only-of-type {\n",
       "        vertical-align: middle;\n",
       "    }\n",
       "\n",
       "    .dataframe tbody tr th {\n",
       "        vertical-align: top;\n",
       "    }\n",
       "\n",
       "    .dataframe thead th {\n",
       "        text-align: right;\n",
       "    }\n",
       "</style>\n",
       "<table border=\"1\" class=\"dataframe\">\n",
       "  <thead>\n",
       "    <tr style=\"text-align: right;\">\n",
       "      <th></th>\n",
       "      <th>#Aromatic heavy atoms</th>\n",
       "      <th>#H-bond acceptors</th>\n",
       "      <th>#H-bond donors</th>\n",
       "      <th>#Heavy atoms</th>\n",
       "      <th>#Rotatable bonds</th>\n",
       "      <th>Ali Log S</th>\n",
       "      <th>Bioavailability Score</th>\n",
       "      <th>Brenk #alerts</th>\n",
       "      <th>ESOL Log S</th>\n",
       "      <th>ESOL Solubility (mol/l)</th>\n",
       "      <th>...</th>\n",
       "      <th>MW</th>\n",
       "      <th>Muegge #violations</th>\n",
       "      <th>PAINS #alerts</th>\n",
       "      <th>Silicos-IT Log P</th>\n",
       "      <th>Silicos-IT Solubility (mg/ml)</th>\n",
       "      <th>Silicos-IT Solubility (mol/l)</th>\n",
       "      <th>Synthetic Accessibility</th>\n",
       "      <th>TPSA</th>\n",
       "      <th>Veber #violations</th>\n",
       "      <th>WLOGP</th>\n",
       "    </tr>\n",
       "  </thead>\n",
       "  <tbody>\n",
       "    <tr>\n",
       "      <th>1038</th>\n",
       "      <td>0</td>\n",
       "      <td>28</td>\n",
       "      <td>16</td>\n",
       "      <td>79</td>\n",
       "      <td>26</td>\n",
       "      <td>-5.90</td>\n",
       "      <td>0.11</td>\n",
       "      <td>0</td>\n",
       "      <td>-3.48</td>\n",
       "      <td>0.000332</td>\n",
       "      <td>...</td>\n",
       "      <td>1151.24</td>\n",
       "      <td>6</td>\n",
       "      <td>0</td>\n",
       "      <td>-4.66</td>\n",
       "      <td>27900000.0</td>\n",
       "      <td>24300.0</td>\n",
       "      <td>10.0</td>\n",
       "      <td>442.28</td>\n",
       "      <td>2</td>\n",
       "      <td>-4.54</td>\n",
       "    </tr>\n",
       "    <tr>\n",
       "      <th>1188</th>\n",
       "      <td>0</td>\n",
       "      <td>29</td>\n",
       "      <td>16</td>\n",
       "      <td>80</td>\n",
       "      <td>27</td>\n",
       "      <td>-6.03</td>\n",
       "      <td>0.11</td>\n",
       "      <td>0</td>\n",
       "      <td>-3.47</td>\n",
       "      <td>0.000336</td>\n",
       "      <td>...</td>\n",
       "      <td>1167.24</td>\n",
       "      <td>6</td>\n",
       "      <td>0</td>\n",
       "      <td>-5.10</td>\n",
       "      <td>55400000.0</td>\n",
       "      <td>47400.0</td>\n",
       "      <td>10.0</td>\n",
       "      <td>451.51</td>\n",
       "      <td>2</td>\n",
       "      <td>-4.81</td>\n",
       "    </tr>\n",
       "  </tbody>\n",
       "</table>\n",
       "<p>2 rows × 27 columns</p>\n",
       "</div>"
      ],
      "text/plain": [
       "      #Aromatic heavy atoms  #H-bond acceptors  #H-bond donors  #Heavy atoms  \\\n",
       "1038                      0                 28              16            79   \n",
       "1188                      0                 29              16            80   \n",
       "\n",
       "      #Rotatable bonds  Ali Log S  Bioavailability Score  Brenk #alerts  \\\n",
       "1038                26      -5.90                   0.11              0   \n",
       "1188                27      -6.03                   0.11              0   \n",
       "\n",
       "      ESOL Log S  ESOL Solubility (mol/l)  ...       MW  Muegge #violations  \\\n",
       "1038       -3.48                 0.000332  ...  1151.24                   6   \n",
       "1188       -3.47                 0.000336  ...  1167.24                   6   \n",
       "\n",
       "      PAINS #alerts  Silicos-IT Log P  Silicos-IT Solubility (mg/ml)  \\\n",
       "1038              0             -4.66                     27900000.0   \n",
       "1188              0             -5.10                     55400000.0   \n",
       "\n",
       "      Silicos-IT Solubility (mol/l)  Synthetic Accessibility    TPSA  \\\n",
       "1038                        24300.0                     10.0  442.28   \n",
       "1188                        47400.0                     10.0  451.51   \n",
       "\n",
       "      Veber #violations  WLOGP  \n",
       "1038                  2  -4.54  \n",
       "1188                  2  -4.81  \n",
       "\n",
       "[2 rows x 27 columns]"
      ]
     },
     "execution_count": 27,
     "metadata": {},
     "output_type": "execute_result"
    }
   ],
   "source": [
    "test #Descriptors (To make predictions)"
   ]
  },
  {
   "cell_type": "code",
   "execution_count": 28,
   "metadata": {},
   "outputs": [
    {
     "data": {
      "text/plain": [
       "array([0, 0])"
      ]
     },
     "execution_count": 28,
     "metadata": {},
     "output_type": "execute_result"
    }
   ],
   "source": [
    "#Predic result for test compound (test variable)\n",
    "dtree.predict(test)"
   ]
  },
  {
   "cell_type": "code",
   "execution_count": 29,
   "metadata": {},
   "outputs": [],
   "source": [
    "\"\"\"Evaluate model\"\"\"\n",
    "predictions = dtree.predict(X_test)"
   ]
  },
  {
   "cell_type": "code",
   "execution_count": 30,
   "metadata": {},
   "outputs": [],
   "source": [
    "from sklearn.metrics import classification_report,confusion_matrix"
   ]
  },
  {
   "cell_type": "code",
   "execution_count": 31,
   "metadata": {},
   "outputs": [
    {
     "name": "stdout",
     "output_type": "stream",
     "text": [
      "[[303 102]\n",
      " [ 16 184]]\n"
     ]
    }
   ],
   "source": [
    "print(confusion_matrix(y_test,predictions))"
   ]
  },
  {
   "cell_type": "code",
   "execution_count": 32,
   "metadata": {},
   "outputs": [
    {
     "name": "stdout",
     "output_type": "stream",
     "text": [
      "              precision    recall  f1-score   support\n",
      "\n",
      "           0       0.95      0.75      0.84       405\n",
      "           1       0.64      0.92      0.76       200\n",
      "\n",
      "   micro avg       0.80      0.80      0.80       605\n",
      "   macro avg       0.80      0.83      0.80       605\n",
      "weighted avg       0.85      0.80      0.81       605\n",
      "\n"
     ]
    }
   ],
   "source": [
    "print(classification_report(y_test,predictions))"
   ]
  },
  {
   "cell_type": "code",
   "execution_count": 40,
   "metadata": {},
   "outputs": [
    {
     "name": "stdout",
     "output_type": "stream",
     "text": [
      "(array([0.        , 0.25185185, 1.        ]), array([0.  , 0.92, 1.  ]), array([2, 1, 0]))\n"
     ]
    }
   ],
   "source": [
    "#ROC\n",
    "from sklearn.metrics import classification_report,confusion_matrix\n",
    "from sklearn.metrics import roc_curve, roc_auc_score\n",
    "from sklearn.metrics import accuracy_score\n",
    "print(roc_curve(y_test, predictions))"
   ]
  },
  {
   "cell_type": "code",
   "execution_count": 41,
   "metadata": {},
   "outputs": [
    {
     "name": "stdout",
     "output_type": "stream",
     "text": [
      "0.8340740740740742\n"
     ]
    }
   ],
   "source": [
    "#AUC DT\n",
    "print(roc_auc_score(y_test, predictions))print(roc_auc_score(y_test, predictions))"
   ]
  },
  {
   "cell_type": "markdown",
   "metadata": {},
   "source": [
    "# Random Forests\n",
    "Now let's compare the decision tree model to a random forest."
   ]
  },
  {
   "cell_type": "code",
   "execution_count": 33,
   "metadata": {},
   "outputs": [
    {
     "data": {
      "text/plain": [
       "RandomForestClassifier(bootstrap=True, class_weight=None, criterion='gini',\n",
       "            max_depth=None, max_features='auto', max_leaf_nodes=None,\n",
       "            min_impurity_decrease=0.0, min_impurity_split=None,\n",
       "            min_samples_leaf=1, min_samples_split=2,\n",
       "            min_weight_fraction_leaf=0.0, n_estimators=100, n_jobs=None,\n",
       "            oob_score=False, random_state=None, verbose=0,\n",
       "            warm_start=False)"
      ]
     },
     "execution_count": 33,
     "metadata": {},
     "output_type": "execute_result"
    }
   ],
   "source": [
    "from sklearn.ensemble import RandomForestClassifier"
   ]
  },
  {
   "cell_type": "code",
   "execution_count": null,
   "metadata": {},
   "outputs": [],
   "source": [
    "rfc = RandomForestClassifier(n_estimators=100)"
   ]
  },
  {
   "cell_type": "code",
   "execution_count": null,
   "metadata": {},
   "outputs": [],
   "source": [
    "rfc.fit(X_train, y_train)"
   ]
  },
  {
   "cell_type": "code",
   "execution_count": 34,
   "metadata": {},
   "outputs": [],
   "source": [
    "rfc_pred = rfc.predict(X_test)"
   ]
  },
  {
   "cell_type": "code",
   "execution_count": 38,
   "metadata": {},
   "outputs": [
    {
     "data": {
      "text/plain": [
       "array([0, 1, 0, 1, 1, 0, 0, 0, 0, 0])"
      ]
     },
     "execution_count": 38,
     "metadata": {},
     "output_type": "execute_result"
    }
   ],
   "source": [
    "rfc_pred[:10]"
   ]
  },
  {
   "cell_type": "code",
   "execution_count": 35,
   "metadata": {},
   "outputs": [
    {
     "name": "stdout",
     "output_type": "stream",
     "text": [
      "[[381  24]\n",
      " [ 26 174]]\n"
     ]
    }
   ],
   "source": [
    "print(confusion_matrix(y_test,rfc_pred))"
   ]
  },
  {
   "cell_type": "code",
   "execution_count": 44,
   "metadata": {},
   "outputs": [
    {
     "name": "stdout",
     "output_type": "stream",
     "text": [
      "0.9053703703703705\n"
     ]
    }
   ],
   "source": [
    "#AUC RFC\n",
    "print(roc_auc_score(y_test, rfc_pred))"
   ]
  },
  {
   "cell_type": "code",
   "execution_count": 45,
   "metadata": {},
   "outputs": [
    {
     "name": "stdout",
     "output_type": "stream",
     "text": [
      "              precision    recall  f1-score   support\n",
      "\n",
      "           0       0.94      0.94      0.94       405\n",
      "           1       0.88      0.87      0.87       200\n",
      "\n",
      "   micro avg       0.92      0.92      0.92       605\n",
      "   macro avg       0.91      0.91      0.91       605\n",
      "weighted avg       0.92      0.92      0.92       605\n",
      "\n"
     ]
    }
   ],
   "source": [
    "print(classification_report(y_test,rfc_pred))"
   ]
  },
  {
   "cell_type": "code",
   "execution_count": null,
   "metadata": {},
   "outputs": [],
   "source": []
  }
 ],
 "metadata": {
  "kernelspec": {
   "display_name": "Python 3",
   "language": "python",
   "name": "python3"
  },
  "language_info": {
   "codemirror_mode": {
    "name": "ipython",
    "version": 3
   },
   "file_extension": ".py",
   "mimetype": "text/x-python",
   "name": "python",
   "nbconvert_exporter": "python",
   "pygments_lexer": "ipython3",
   "version": "3.7.3"
  }
 },
 "nbformat": 4,
 "nbformat_minor": 2
}
