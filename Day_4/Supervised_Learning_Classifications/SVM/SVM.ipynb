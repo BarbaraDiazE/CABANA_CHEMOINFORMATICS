{
 "cells": [
  {
   "cell_type": "markdown",
   "metadata": {},
   "source": [
    "# SVM"
   ]
  },
  {
   "cell_type": "code",
   "execution_count": null,
   "metadata": {},
   "outputs": [],
   "source": [
    "Objective: Build a model to predict \"Drug Like\" properties of a \n",
    "            single compound.\n",
    "\n",
    "Data: ADME descriptors for 3 libraries.\n",
    "    Libraries:\n",
    "        AFRODB\n",
    "        Biofacquim\n",
    "        FDA\n",
    "        \n",
    "    Endpoint: \"Drug Like\" (Binary)\n",
    "        1 -> Drug Like\n",
    "        0 -> No Drug Like\n",
    "        \n",
    "    Descriptors\n",
    "        ADME descriptors:\n",
    "            '#Aromatic heavy atoms'\n",
    "            '#H-bond acceptors'\n",
    "            '#H-bond donors'\n",
    "            '#Heavy atoms'\n",
    "            '#Rotatable bonds'\n",
    "            'Ali Log S'\n",
    "            'Ali Solubility (mg/ml)'   \n",
    "Method: Support Vector Machine"
   ]
  },
  {
   "cell_type": "code",
   "execution_count": 1,
   "metadata": {},
   "outputs": [],
   "source": [
    "import pandas as pd\n",
    "import numpy as np\n",
    "import matplotlib.pyplot as plt\n",
    "import seaborn as sns\n",
    "%matplotlib inline\n",
    "#\n",
    "import os"
   ]
  },
  {
   "cell_type": "code",
   "execution_count": 5,
   "metadata": {},
   "outputs": [
    {
     "data": {
      "text/plain": [
       "'/home/babs/Documents/DIFACQUIM/CABANA_CHEMOINFORMATICS/Day_4/Supervised_Learning_Classifications/SVM'"
      ]
     },
     "execution_count": 5,
     "metadata": {},
     "output_type": "execute_result"
    }
   ],
   "source": [
    "pwd"
   ]
  },
  {
   "cell_type": "code",
   "execution_count": 6,
   "metadata": {},
   "outputs": [
    {
     "data": {
      "text/html": [
       "<div>\n",
       "<style scoped>\n",
       "    .dataframe tbody tr th:only-of-type {\n",
       "        vertical-align: middle;\n",
       "    }\n",
       "\n",
       "    .dataframe tbody tr th {\n",
       "        vertical-align: top;\n",
       "    }\n",
       "\n",
       "    .dataframe thead th {\n",
       "        text-align: right;\n",
       "    }\n",
       "</style>\n",
       "<table border=\"1\" class=\"dataframe\">\n",
       "  <thead>\n",
       "    <tr style=\"text-align: right;\">\n",
       "      <th></th>\n",
       "      <th>#Aromatic heavy atoms</th>\n",
       "      <th>#H-bond acceptors</th>\n",
       "      <th>#H-bond donors</th>\n",
       "      <th>#Heavy atoms</th>\n",
       "      <th>#Rotatable bonds</th>\n",
       "      <th>Ali Class</th>\n",
       "      <th>Ali Log S</th>\n",
       "      <th>Ali Solubility (mg/ml)</th>\n",
       "      <th>Ali Solubility (mol/l)</th>\n",
       "      <th>BBB permeant</th>\n",
       "      <th>...</th>\n",
       "      <th>Silicos-IT Solubility (mg/ml)</th>\n",
       "      <th>Silicos-IT Solubility (mol/l)</th>\n",
       "      <th>Silicos-IT class</th>\n",
       "      <th>Synthetic Accessibility</th>\n",
       "      <th>TPSA</th>\n",
       "      <th>Veber #violations</th>\n",
       "      <th>WLOGP</th>\n",
       "      <th>XLOGP3</th>\n",
       "      <th>iLOGP</th>\n",
       "      <th>log Kp (cm/s)</th>\n",
       "    </tr>\n",
       "  </thead>\n",
       "  <tbody>\n",
       "    <tr>\n",
       "      <th>0</th>\n",
       "      <td>0</td>\n",
       "      <td>7</td>\n",
       "      <td>3</td>\n",
       "      <td>85</td>\n",
       "      <td>52</td>\n",
       "      <td>Insoluble</td>\n",
       "      <td>-32.61</td>\n",
       "      <td>2.960000e-30</td>\n",
       "      <td>2.480000e-33</td>\n",
       "      <td>No</td>\n",
       "      <td>...</td>\n",
       "      <td>2.920000e-18</td>\n",
       "      <td>2.440000e-21</td>\n",
       "      <td>Insoluble</td>\n",
       "      <td>10.00</td>\n",
       "      <td>105.45</td>\n",
       "      <td>1</td>\n",
       "      <td>22.41</td>\n",
       "      <td>29.72</td>\n",
       "      <td>15.27</td>\n",
       "      <td>7.52</td>\n",
       "    </tr>\n",
       "    <tr>\n",
       "      <th>1</th>\n",
       "      <td>0</td>\n",
       "      <td>27</td>\n",
       "      <td>14</td>\n",
       "      <td>83</td>\n",
       "      <td>19</td>\n",
       "      <td>Moderately soluble</td>\n",
       "      <td>-5.13</td>\n",
       "      <td>8.840000e-03</td>\n",
       "      <td>7.400000e-06</td>\n",
       "      <td>No</td>\n",
       "      <td>...</td>\n",
       "      <td>1.260000e+07</td>\n",
       "      <td>1.050000e+04</td>\n",
       "      <td>Soluble</td>\n",
       "      <td>10.00</td>\n",
       "      <td>418.89</td>\n",
       "      <td>2</td>\n",
       "      <td>-3.54</td>\n",
       "      <td>-3.10</td>\n",
       "      <td>5.55</td>\n",
       "      <td>-15.79</td>\n",
       "    </tr>\n",
       "    <tr>\n",
       "      <th>2</th>\n",
       "      <td>0</td>\n",
       "      <td>26</td>\n",
       "      <td>14</td>\n",
       "      <td>83</td>\n",
       "      <td>17</td>\n",
       "      <td>Poorly soluble</td>\n",
       "      <td>-6.01</td>\n",
       "      <td>1.170000e-03</td>\n",
       "      <td>9.800000e-07</td>\n",
       "      <td>No</td>\n",
       "      <td>...</td>\n",
       "      <td>3.630000e+06</td>\n",
       "      <td>3.040000e+03</td>\n",
       "      <td>Soluble</td>\n",
       "      <td>10.00</td>\n",
       "      <td>393.98</td>\n",
       "      <td>2</td>\n",
       "      <td>-2.66</td>\n",
       "      <td>-1.75</td>\n",
       "      <td>5.80</td>\n",
       "      <td>-14.83</td>\n",
       "    </tr>\n",
       "    <tr>\n",
       "      <th>3</th>\n",
       "      <td>6</td>\n",
       "      <td>14</td>\n",
       "      <td>3</td>\n",
       "      <td>79</td>\n",
       "      <td>63</td>\n",
       "      <td>Insoluble</td>\n",
       "      <td>-27.92</td>\n",
       "      <td>1.350000e-25</td>\n",
       "      <td>1.210000e-28</td>\n",
       "      <td>No</td>\n",
       "      <td>...</td>\n",
       "      <td>3.870000e-16</td>\n",
       "      <td>3.460000e-19</td>\n",
       "      <td>Insoluble</td>\n",
       "      <td>9.97</td>\n",
       "      <td>201.42</td>\n",
       "      <td>2</td>\n",
       "      <td>16.88</td>\n",
       "      <td>23.26</td>\n",
       "      <td>12.70</td>\n",
       "      <td>3.40</td>\n",
       "    </tr>\n",
       "    <tr>\n",
       "      <th>4</th>\n",
       "      <td>6</td>\n",
       "      <td>8</td>\n",
       "      <td>3</td>\n",
       "      <td>67</td>\n",
       "      <td>54</td>\n",
       "      <td>Insoluble</td>\n",
       "      <td>-26.06</td>\n",
       "      <td>8.140000e-24</td>\n",
       "      <td>8.630000e-27</td>\n",
       "      <td>No</td>\n",
       "      <td>...</td>\n",
       "      <td>3.000000e-16</td>\n",
       "      <td>3.180000e-19</td>\n",
       "      <td>Insoluble</td>\n",
       "      <td>8.97</td>\n",
       "      <td>122.52</td>\n",
       "      <td>1</td>\n",
       "      <td>16.91</td>\n",
       "      <td>23.07</td>\n",
       "      <td>12.32</td>\n",
       "      <td>4.32</td>\n",
       "    </tr>\n",
       "  </tbody>\n",
       "</table>\n",
       "<p>5 rows × 54 columns</p>\n",
       "</div>"
      ],
      "text/plain": [
       "   #Aromatic heavy atoms  #H-bond acceptors  #H-bond donors  #Heavy atoms  \\\n",
       "0                      0                  7               3            85   \n",
       "1                      0                 27              14            83   \n",
       "2                      0                 26              14            83   \n",
       "3                      6                 14               3            79   \n",
       "4                      6                  8               3            67   \n",
       "\n",
       "   #Rotatable bonds           Ali Class  Ali Log S  Ali Solubility (mg/ml)  \\\n",
       "0                52           Insoluble     -32.61            2.960000e-30   \n",
       "1                19  Moderately soluble      -5.13            8.840000e-03   \n",
       "2                17      Poorly soluble      -6.01            1.170000e-03   \n",
       "3                63           Insoluble     -27.92            1.350000e-25   \n",
       "4                54           Insoluble     -26.06            8.140000e-24   \n",
       "\n",
       "   Ali Solubility (mol/l) BBB permeant  ...  Silicos-IT Solubility (mg/ml)  \\\n",
       "0            2.480000e-33           No  ...                   2.920000e-18   \n",
       "1            7.400000e-06           No  ...                   1.260000e+07   \n",
       "2            9.800000e-07           No  ...                   3.630000e+06   \n",
       "3            1.210000e-28           No  ...                   3.870000e-16   \n",
       "4            8.630000e-27           No  ...                   3.000000e-16   \n",
       "\n",
       "   Silicos-IT Solubility (mol/l) Silicos-IT class Synthetic Accessibility  \\\n",
       "0                   2.440000e-21        Insoluble                   10.00   \n",
       "1                   1.050000e+04          Soluble                   10.00   \n",
       "2                   3.040000e+03          Soluble                   10.00   \n",
       "3                   3.460000e-19        Insoluble                    9.97   \n",
       "4                   3.180000e-19        Insoluble                    8.97   \n",
       "\n",
       "     TPSA Veber #violations  WLOGP XLOGP3  iLOGP  log Kp (cm/s)  \n",
       "0  105.45                 1  22.41  29.72  15.27           7.52  \n",
       "1  418.89                 2  -3.54  -3.10   5.55         -15.79  \n",
       "2  393.98                 2  -2.66  -1.75   5.80         -14.83  \n",
       "3  201.42                 2  16.88  23.26  12.70           3.40  \n",
       "4  122.52                 1  16.91  23.07  12.32           4.32  \n",
       "\n",
       "[5 rows x 54 columns]"
      ]
     },
     "execution_count": 6,
     "metadata": {},
     "output_type": "execute_result"
    }
   ],
   "source": [
    "\"\"\"Open Database\"\"\"\n",
    "#Modifi Dataset location\n",
    "Data = pd.read_csv(\"/home/babs/Documents/DIFACQUIM/CABANA_CHEMOINFORMATICS/Day_4/Supervised_Learning_Classifications/SVM/Data/Data_SVM.csv\", sep = \",\")\n",
    "Data = Data.drop(\"Unnamed: 0\", axis = 1)\n",
    "Data.head()"
   ]
  },
  {
   "cell_type": "code",
   "execution_count": 7,
   "metadata": {},
   "outputs": [
    {
     "data": {
      "text/plain": [
       "Index(['#Aromatic heavy atoms', '#H-bond acceptors', '#H-bond donors',\n",
       "       '#Heavy atoms', '#Rotatable bonds', 'Ali Class', 'Ali Log S',\n",
       "       'Ali Solubility (mg/ml)', 'Ali Solubility (mol/l)', 'BBB permeant',\n",
       "       'Bioavailability Score', 'Brenk #alerts', 'CYP1A2 inhibitor',\n",
       "       'CYP2C19 inhibitor', 'CYP2C9 inhibitor', 'CYP2D6 inhibitor',\n",
       "       'CYP3A4 inhibitor', 'Canonical SMILES', 'Consensus Log P', 'Drug Like',\n",
       "       'ESOL Class', 'ESOL Log S', 'ESOL Solubility (mg/ml)',\n",
       "       'ESOL Solubility (mol/l)', 'Egan #violations', 'Formula',\n",
       "       'Fraction Csp3', 'GI absorption', 'Ghose #violations', 'ID_Database',\n",
       "       'Input Smiles', 'Leadlikeness #violations', 'Library',\n",
       "       'Lipinski #violations', 'MLOGP', 'MR', 'MW', 'Molecule',\n",
       "       'Muegge #violations', 'Name', 'PAINS #alerts', 'Pgp substrate',\n",
       "       'Silicos-IT Log P', 'Silicos-IT LogSw', 'Silicos-IT Solubility (mg/ml)',\n",
       "       'Silicos-IT Solubility (mol/l)', 'Silicos-IT class',\n",
       "       'Synthetic Accessibility', 'TPSA', 'Veber #violations', 'WLOGP',\n",
       "       'XLOGP3', 'iLOGP', 'log Kp (cm/s)'],\n",
       "      dtype='object')"
      ]
     },
     "execution_count": 7,
     "metadata": {},
     "output_type": "execute_result"
    }
   ],
   "source": [
    "Data.columns"
   ]
  },
  {
   "cell_type": "code",
   "execution_count": 8,
   "metadata": {},
   "outputs": [
    {
     "data": {
      "text/plain": [
       "array(['Afro', 'Biofacquim', 'FDA'], dtype=object)"
      ]
     },
     "execution_count": 8,
     "metadata": {},
     "output_type": "execute_result"
    }
   ],
   "source": [
    "#Identify Libraries\n",
    "Data.Library.unique()"
   ]
  },
  {
   "cell_type": "code",
   "execution_count": 10,
   "metadata": {},
   "outputs": [
    {
     "data": {
      "text/plain": [
       "array([0, 1])"
      ]
     },
     "execution_count": 10,
     "metadata": {},
     "output_type": "execute_result"
    }
   ],
   "source": [
    "#Identify Target\n",
    "Data[\"Drug Like\"].unique()"
   ]
  },
  {
   "cell_type": "markdown",
   "metadata": {},
   "source": [
    "Note: \"Drug like\" column (Target column) correspond to Target\n",
    "    1 -> Drug Like\n",
    "    0 -> No Drug Like"
   ]
  },
  {
   "cell_type": "markdown",
   "metadata": {},
   "source": [
    "## Exploratory Data Analysis"
   ]
  },
  {
   "cell_type": "code",
   "execution_count": null,
   "metadata": {},
   "outputs": [],
   "source": [
    "\"\"\"Plot a Descriptor\"\"\"\n",
    "sns.boxplot(x = \"Library\", y = Data[\"MW\"], data=Data)"
   ]
  },
  {
   "cell_type": "code",
   "execution_count": null,
   "metadata": {},
   "outputs": [],
   "source": [
    "#Identify Numerical Data (Descriptors)\n",
    "Data.select_dtypes(np.number).columns"
   ]
  },
  {
   "cell_type": "code",
   "execution_count": null,
   "metadata": {},
   "outputs": [],
   "source": [
    "feature_names = ['#Aromatic heavy atoms', '#H-bond acceptors', '#H-bond donors',\n",
    "       '#Heavy atoms', '#Rotatable bonds', 'Ali Log S',\n",
    "       'Ali Solubility (mg/ml)', 'Ali Solubility (mol/l)',\n",
    "       'Bioavailability Score', 'Brenk #alerts', 'Consensus Log P',\n",
    "       'Drug Like', 'ESOL Log S', 'ESOL Solubility (mg/ml)',\n",
    "       'ESOL Solubility (mol/l)', 'Egan #violations', 'Fraction Csp3',\n",
    "       'Ghose #violations', 'Leadlikeness #violations', 'Lipinski #violations',\n",
    "       'MLOGP', 'MR', 'MW', 'Muegge #violations', 'PAINS #alerts',\n",
    "       'Silicos-IT Log P', 'Silicos-IT LogSw', 'Silicos-IT Solubility (mg/ml)',\n",
    "       'Silicos-IT Solubility (mol/l)', 'Synthetic Accessibility', 'TPSA',\n",
    "       'Veber #violations', 'WLOGP', 'XLOGP3', 'iLOGP', 'log Kp (cm/s)']"
   ]
  },
  {
   "cell_type": "code",
   "execution_count": null,
   "metadata": {},
   "outputs": [],
   "source": [
    "#Remove target columns\n",
    "feature_names.remove('Drug Like')\n",
    "feature_names"
   ]
  },
  {
   "cell_type": "code",
   "execution_count": null,
   "metadata": {},
   "outputs": [],
   "source": [
    "#Convert numerial data into a new DF\n",
    "df_feat = Data[feature_names]\n",
    "df_feat.head()"
   ]
  },
  {
   "cell_type": "code",
   "execution_count": null,
   "metadata": {},
   "outputs": [],
   "source": [
    "#Statistical values\n",
    "df_feat.describe()"
   ]
  },
  {
   "cell_type": "code",
   "execution_count": null,
   "metadata": {},
   "outputs": [],
   "source": [
    "#Correlation\n",
    "Correlation = df_feat.corr()\n",
    "Correlation.head()"
   ]
  },
  {
   "cell_type": "code",
   "execution_count": null,
   "metadata": {},
   "outputs": [],
   "source": [
    "sns.heatmap(df_feat.corr(annotate = True))\n",
    "plt.savefig(\"correlacion_inicial.png\")"
   ]
  },
  {
   "cell_type": "code",
   "execution_count": null,
   "metadata": {},
   "outputs": [],
   "source": [
    "#Delete correlated variables (Avoid Overfitting)\n",
    "feature_names.remove('XLOGP3')\n",
    "feature_names.remove('iLOGP')\n",
    "feature_names.remove('log Kp (cm/s)')\n",
    "feature_names.remove('Silicos-IT LogSw')\n",
    "feature_names.remove('Ali Solubility (mol/l)')\n",
    "feature_names.remove('Ali Solubility (mg/ml)')\n",
    "feature_names.remove('Consensus Log P')\n",
    "feature_names.remove('ESOL Solubility (mg/ml)')\n",
    "print(feature_names)"
   ]
  },
  {
   "cell_type": "code",
   "execution_count": null,
   "metadata": {},
   "outputs": [],
   "source": [
    "#Generate new DF (Whitout correlated data)\n",
    "df_feat = Data[feature_names]"
   ]
  },
  {
   "cell_type": "code",
   "execution_count": null,
   "metadata": {},
   "outputs": [],
   "source": [
    "#Visualize new correlation matrix\n",
    "Correlation = df_feat.corr()\n",
    "sns.heatmap(df_feat.corr())\n",
    "plt.savefig(\"correlacion_final.png\")"
   ]
  },
  {
   "cell_type": "code",
   "execution_count": null,
   "metadata": {},
   "outputs": [],
   "source": [
    "#Convert target into a new DF\n",
    "df_target = pd.DataFrame(Data['Drug Like'],columns=['Drug Like'])"
   ]
  },
  {
   "cell_type": "markdown",
   "metadata": {},
   "source": [
    "# Machine Learning Model"
   ]
  },
  {
   "cell_type": "markdown",
   "metadata": {},
   "source": [
    "## SVM"
   ]
  },
  {
   "cell_type": "code",
   "execution_count": null,
   "metadata": {},
   "outputs": [],
   "source": [
    "#Train Test Split\n",
    "from sklearn.model_selection import train_test_split"
   ]
  },
  {
   "cell_type": "code",
   "execution_count": null,
   "metadata": {},
   "outputs": [],
   "source": [
    "X_train, X_test, y_train, y_test = train_test_split(df_feat, np.ravel(df_target), test_size=0.30, random_state=101)"
   ]
  },
  {
   "cell_type": "code",
   "execution_count": null,
   "metadata": {},
   "outputs": [],
   "source": [
    "#Train the Support Vector Classifier\n",
    "from sklearn.svm import SVC"
   ]
  },
  {
   "cell_type": "code",
   "execution_count": null,
   "metadata": {},
   "outputs": [],
   "source": [
    "#Assign Model\n",
    "model = SVC()"
   ]
  },
  {
   "cell_type": "code",
   "execution_count": null,
   "metadata": {},
   "outputs": [],
   "source": [
    "#Train model\n",
    "model.fit(X_train,y_train)"
   ]
  },
  {
   "cell_type": "markdown",
   "metadata": {},
   "source": [
    "## Predictions"
   ]
  },
  {
   "cell_type": "code",
   "execution_count": null,
   "metadata": {},
   "outputs": [],
   "source": [
    "Now let's predict If a Molecule has\"Drug Like\" properties\n",
    "using the trained model."
   ]
  },
  {
   "cell_type": "code",
   "execution_count": null,
   "metadata": {},
   "outputs": [],
   "source": [
    "#Write a function to select descriptors for a single compound\n",
    "def test_compound(Library, Name):\n",
    "    FDA = Data[Data[\"Library\"]== Library]\n",
    "    test = FDA[FDA[\"Name\"]== Name]\n",
    "    test = test[feature_names]\n",
    "    #print(test.head())\n",
    "    return test"
   ]
  },
  {
   "cell_type": "code",
   "execution_count": null,
   "metadata": {},
   "outputs": [],
   "source": [
    "#test = test_compound(\"FDA\", \"Acetaminophen\")\n",
    "#test = test_compound(\"FDA\", \"Ambroxol\")\n",
    "test = test_compound(\"Biofacquim\", \"Purgic_acid_A\")"
   ]
  },
  {
   "cell_type": "code",
   "execution_count": null,
   "metadata": {},
   "outputs": [],
   "source": [
    "#Visualice test descriptors\n",
    "test "
   ]
  },
  {
   "cell_type": "code",
   "execution_count": null,
   "metadata": {},
   "outputs": [],
   "source": [
    "#Predic result for test compound (test variable)\n",
    "model.predict(test)"
   ]
  },
  {
   "cell_type": "markdown",
   "metadata": {},
   "source": [
    "## Evaluate the model"
   ]
  },
  {
   "cell_type": "code",
   "execution_count": null,
   "metadata": {},
   "outputs": [],
   "source": [
    "predictions = model.predict(X_test) "
   ]
  },
  {
   "cell_type": "code",
   "execution_count": null,
   "metadata": {},
   "outputs": [],
   "source": [
    "#import metrics\n",
    "from sklearn.metrics import classification_report,confusion_matrix"
   ]
  },
  {
   "cell_type": "code",
   "execution_count": null,
   "metadata": {},
   "outputs": [],
   "source": [
    "#Compute confusion matrix\n",
    "print(confusion_matrix(y_test,predictions))"
   ]
  },
  {
   "cell_type": "code",
   "execution_count": null,
   "metadata": {},
   "outputs": [],
   "source": [
    "print(classification_report(y_test,predictions))"
   ]
  },
  {
   "cell_type": "code",
   "execution_count": null,
   "metadata": {},
   "outputs": [],
   "source": []
  },
  {
   "cell_type": "code",
   "execution_count": null,
   "metadata": {},
   "outputs": [],
   "source": []
  }
 ],
 "metadata": {
  "kernelspec": {
   "display_name": "Python 3",
   "language": "python",
   "name": "python3"
  },
  "language_info": {
   "codemirror_mode": {
    "name": "ipython",
    "version": 3
   },
   "file_extension": ".py",
   "mimetype": "text/x-python",
   "name": "python",
   "nbconvert_exporter": "python",
   "pygments_lexer": "ipython3",
   "version": "3.7.3"
  }
 },
 "nbformat": 4,
 "nbformat_minor": 2
}
